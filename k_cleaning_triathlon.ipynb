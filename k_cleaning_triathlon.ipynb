{
 "cells": [
  {
   "cell_type": "code",
   "execution_count": 95,
   "metadata": {},
   "outputs": [],
   "source": [
    "import pandas as pd\n",
    "import matplotlib as plt\n",
    "import seaborn as sns\n",
    "import warnings\n",
    "warnings.filterwarnings(\"ignore\")"
   ]
  },
  {
   "cell_type": "markdown",
   "metadata": {},
   "source": [
    "# read the data"
   ]
  },
  {
   "cell_type": "code",
   "execution_count": 96,
   "metadata": {},
   "outputs": [],
   "source": [
    "df_events_raw = pd.read_csv('../data_capestone/Triathlon/public_tristat_events.csv')\n"
   ]
  },
  {
   "cell_type": "code",
   "execution_count": 97,
   "metadata": {},
   "outputs": [],
   "source": [
    "df_stats_raw = pd.read_csv('../data_capestone/Triathlon/public_tristat_stat.csv')"
   ]
  },
  {
   "cell_type": "markdown",
   "metadata": {},
   "source": [
    "# EDA"
   ]
  },
  {
   "cell_type": "markdown",
   "metadata": {},
   "source": [
    "## sports events"
   ]
  },
  {
   "cell_type": "code",
   "execution_count": 98,
   "metadata": {},
   "outputs": [
    {
     "name": "stdout",
     "output_type": "stream",
     "text": [
      "<class 'pandas.core.frame.DataFrame'>\n",
      "RangeIndex: 6012 entries, 0 to 6011\n",
      "Data columns (total 6 columns):\n",
      " #   Column       Non-Null Count  Dtype \n",
      "---  ------       --------------  ----- \n",
      " 0   event_dt     6012 non-null   object\n",
      " 1   event_flg    6012 non-null   object\n",
      " 2   event_name   6012 non-null   object\n",
      " 3   event_f_cnt  6012 non-null   int64 \n",
      " 4   event_m_cnt  6012 non-null   int64 \n",
      " 5   event_link   6012 non-null   object\n",
      "dtypes: int64(2), object(4)\n",
      "memory usage: 281.9+ KB\n"
     ]
    }
   ],
   "source": [
    "df_events_raw.info()"
   ]
  },
  {
   "cell_type": "markdown",
   "metadata": {},
   "source": [
    "no NULLs"
   ]
  },
  {
   "cell_type": "code",
   "execution_count": 99,
   "metadata": {},
   "outputs": [
    {
     "data": {
      "text/html": [
       "<div>\n",
       "<style scoped>\n",
       "    .dataframe tbody tr th:only-of-type {\n",
       "        vertical-align: middle;\n",
       "    }\n",
       "\n",
       "    .dataframe tbody tr th {\n",
       "        vertical-align: top;\n",
       "    }\n",
       "\n",
       "    .dataframe thead th {\n",
       "        text-align: right;\n",
       "    }\n",
       "</style>\n",
       "<table border=\"1\" class=\"dataframe\">\n",
       "  <thead>\n",
       "    <tr style=\"text-align: right;\">\n",
       "      <th></th>\n",
       "      <th>event_dt</th>\n",
       "      <th>event_flg</th>\n",
       "      <th>event_name</th>\n",
       "      <th>event_f_cnt</th>\n",
       "      <th>event_m_cnt</th>\n",
       "      <th>event_link</th>\n",
       "    </tr>\n",
       "  </thead>\n",
       "  <tbody>\n",
       "    <tr>\n",
       "      <th>0</th>\n",
       "      <td>2022-12-11</td>\n",
       "      <td>USA</td>\n",
       "      <td>Ironman Florida 70.3 2022</td>\n",
       "      <td>383</td>\n",
       "      <td>1105</td>\n",
       "      <td>/rus/result/ironman/florida/half/2022</td>\n",
       "    </tr>\n",
       "    <tr>\n",
       "      <th>1</th>\n",
       "      <td>2022-12-10</td>\n",
       "      <td>NZL</td>\n",
       "      <td>Ironman New Zealand 2022</td>\n",
       "      <td>93</td>\n",
       "      <td>318</td>\n",
       "      <td>/rus/result/ironman/new-zealand/full/2022</td>\n",
       "    </tr>\n",
       "    <tr>\n",
       "      <th>2</th>\n",
       "      <td>2022-12-10</td>\n",
       "      <td>NZL</td>\n",
       "      <td>Ironman New Zealand 70.3 2022</td>\n",
       "      <td>275</td>\n",
       "      <td>532</td>\n",
       "      <td>/rus/result/ironman/new-zealand/half/2022</td>\n",
       "    </tr>\n",
       "    <tr>\n",
       "      <th>3</th>\n",
       "      <td>2022-12-09</td>\n",
       "      <td>BRN</td>\n",
       "      <td>Ironman Bahrain 70.3 2022</td>\n",
       "      <td>107</td>\n",
       "      <td>576</td>\n",
       "      <td>/rus/result/ironman/bahrain/half/2022</td>\n",
       "    </tr>\n",
       "    <tr>\n",
       "      <th>4</th>\n",
       "      <td>2022-12-04</td>\n",
       "      <td>ARG</td>\n",
       "      <td>Ironman Argentina 2022</td>\n",
       "      <td>21</td>\n",
       "      <td>290</td>\n",
       "      <td>/rus/result/ironman/argentina/full/2022</td>\n",
       "    </tr>\n",
       "  </tbody>\n",
       "</table>\n",
       "</div>"
      ],
      "text/plain": [
       "     event_dt event_flg                     event_name  event_f_cnt  \\\n",
       "0  2022-12-11       USA      Ironman Florida 70.3 2022          383   \n",
       "1  2022-12-10       NZL       Ironman New Zealand 2022           93   \n",
       "2  2022-12-10       NZL  Ironman New Zealand 70.3 2022          275   \n",
       "3  2022-12-09       BRN      Ironman Bahrain 70.3 2022          107   \n",
       "4  2022-12-04       ARG         Ironman Argentina 2022           21   \n",
       "\n",
       "   event_m_cnt                                 event_link  \n",
       "0         1105      /rus/result/ironman/florida/half/2022  \n",
       "1          318  /rus/result/ironman/new-zealand/full/2022  \n",
       "2          532  /rus/result/ironman/new-zealand/half/2022  \n",
       "3          576      /rus/result/ironman/bahrain/half/2022  \n",
       "4          290    /rus/result/ironman/argentina/full/2022  "
      ]
     },
     "execution_count": 99,
     "metadata": {},
     "output_type": "execute_result"
    }
   ],
   "source": [
    "df_events_raw.head()"
   ]
  },
  {
   "cell_type": "markdown",
   "metadata": {},
   "source": [
    "# cleaning events"
   ]
  },
  {
   "cell_type": "markdown",
   "metadata": {},
   "source": [
    "### Duplicates?"
   ]
  },
  {
   "cell_type": "code",
   "execution_count": 100,
   "metadata": {},
   "outputs": [
    {
     "name": "stdout",
     "output_type": "stream",
     "text": [
      "Number of duplicats:  0\n"
     ]
    }
   ],
   "source": [
    "duplicates_e = df_events_raw[df_events_raw.duplicated()]\n",
    "\n",
    "print('Number of duplicats: ', len(duplicates_e))"
   ]
  },
  {
   "cell_type": "markdown",
   "metadata": {},
   "source": [
    "### datatypes"
   ]
  },
  {
   "cell_type": "code",
   "execution_count": 101,
   "metadata": {},
   "outputs": [],
   "source": [
    "df_events = df_events_raw"
   ]
  },
  {
   "cell_type": "code",
   "execution_count": 102,
   "metadata": {},
   "outputs": [],
   "source": [
    "## event_dt to date\n",
    "\n",
    "df_events['event_dt'] = pd.to_datetime(df_events['event_dt'])"
   ]
  },
  {
   "cell_type": "code",
   "execution_count": 103,
   "metadata": {},
   "outputs": [],
   "source": [
    "## object to string\n",
    "\n",
    "df_events['event_flg'] = df_events['event_flg'].astype('string')\n",
    "\n",
    "df_events['event_name'] = df_events['event_name'].astype('string')\n",
    "\n",
    "df_events['event_link'] = df_events['event_link'].astype('string')"
   ]
  },
  {
   "cell_type": "code",
   "execution_count": 104,
   "metadata": {},
   "outputs": [
    {
     "name": "stdout",
     "output_type": "stream",
     "text": [
      "<class 'pandas.core.frame.DataFrame'>\n",
      "RangeIndex: 6012 entries, 0 to 6011\n",
      "Data columns (total 6 columns):\n",
      " #   Column       Non-Null Count  Dtype         \n",
      "---  ------       --------------  -----         \n",
      " 0   event_dt     6012 non-null   datetime64[ns]\n",
      " 1   event_flg    6012 non-null   string        \n",
      " 2   event_name   6012 non-null   string        \n",
      " 3   event_f_cnt  6012 non-null   int64         \n",
      " 4   event_m_cnt  6012 non-null   int64         \n",
      " 5   event_link   6012 non-null   string        \n",
      "dtypes: datetime64[ns](1), int64(2), string(3)\n",
      "memory usage: 281.9 KB\n"
     ]
    }
   ],
   "source": [
    "df_events.info()"
   ]
  },
  {
   "cell_type": "markdown",
   "metadata": {},
   "source": [
    "### column names as excel - events"
   ]
  },
  {
   "cell_type": "code",
   "execution_count": 181,
   "metadata": {},
   "outputs": [],
   "source": [
    "events_headers = pd.DataFrame(df_events.columns, columns=[\"column_names\"])\n",
    "\n",
    "events_headers.to_excel(\"events_header.xlsx\", index=False)"
   ]
  },
  {
   "cell_type": "markdown",
   "metadata": {},
   "source": [
    "###---###"
   ]
  },
  {
   "cell_type": "markdown",
   "metadata": {},
   "source": [
    "## sport stats"
   ]
  },
  {
   "cell_type": "code",
   "execution_count": 105,
   "metadata": {},
   "outputs": [
    {
     "name": "stdout",
     "output_type": "stream",
     "text": [
      "<class 'pandas.core.frame.DataFrame'>\n",
      "RangeIndex: 2961502 entries, 0 to 2961501\n",
      "Data columns (total 12 columns):\n",
      " #   Column                         Dtype \n",
      "---  ------                         ----- \n",
      " 0   event_link                     object\n",
      " 1   gender                         object\n",
      " 2   person_link                    object\n",
      " 3   person_flag                    object\n",
      " 4   person_name                    object\n",
      " 5   person_event_group             object\n",
      " 6   person_event_swim_time_text    object\n",
      " 7   person_event_t1_time_text      object\n",
      " 8   person_event_cycle_time_text   object\n",
      " 9   person_event_t2_time_text      object\n",
      " 10  person_event_run_time_text     object\n",
      " 11  person_event_finish_time_text  object\n",
      "dtypes: object(12)\n",
      "memory usage: 271.1+ MB\n"
     ]
    }
   ],
   "source": [
    "df_stats_raw.info()"
   ]
  },
  {
   "cell_type": "markdown",
   "metadata": {},
   "source": [
    "The data are all in datatype object, so they can't be analysed at all yet (not even answering the question if there are any NULLs)"
   ]
  },
  {
   "cell_type": "code",
   "execution_count": 106,
   "metadata": {},
   "outputs": [
    {
     "data": {
      "text/html": [
       "<div>\n",
       "<style scoped>\n",
       "    .dataframe tbody tr th:only-of-type {\n",
       "        vertical-align: middle;\n",
       "    }\n",
       "\n",
       "    .dataframe tbody tr th {\n",
       "        vertical-align: top;\n",
       "    }\n",
       "\n",
       "    .dataframe thead th {\n",
       "        text-align: right;\n",
       "    }\n",
       "</style>\n",
       "<table border=\"1\" class=\"dataframe\">\n",
       "  <thead>\n",
       "    <tr style=\"text-align: right;\">\n",
       "      <th></th>\n",
       "      <th>event_link</th>\n",
       "      <th>gender</th>\n",
       "      <th>person_link</th>\n",
       "      <th>person_flag</th>\n",
       "      <th>person_name</th>\n",
       "      <th>person_event_group</th>\n",
       "      <th>person_event_swim_time_text</th>\n",
       "      <th>person_event_t1_time_text</th>\n",
       "      <th>person_event_cycle_time_text</th>\n",
       "      <th>person_event_t2_time_text</th>\n",
       "      <th>person_event_run_time_text</th>\n",
       "      <th>person_event_finish_time_text</th>\n",
       "    </tr>\n",
       "  </thead>\n",
       "  <tbody>\n",
       "    <tr>\n",
       "      <th>0</th>\n",
       "      <td>/rus/result/ironman/ireland-cork/full/2019</td>\n",
       "      <td>M</td>\n",
       "      <td>/irl/profile/halliwell-mark</td>\n",
       "      <td>IRL</td>\n",
       "      <td>Halliwell, Mark</td>\n",
       "      <td>M45-49</td>\n",
       "      <td>0:00</td>\n",
       "      <td>0:00</td>\n",
       "      <td>7:52:05</td>\n",
       "      <td>19:00</td>\n",
       "      <td>5:26:34</td>\n",
       "      <td>13:37:39</td>\n",
       "    </tr>\n",
       "    <tr>\n",
       "      <th>1</th>\n",
       "      <td>/rus/result/ironman/ireland-cork/full/2019</td>\n",
       "      <td>F</td>\n",
       "      <td>/usa/profile/harris-polly</td>\n",
       "      <td>USA</td>\n",
       "      <td>Harris, Polly</td>\n",
       "      <td>F50-54</td>\n",
       "      <td>0:00</td>\n",
       "      <td>0:00</td>\n",
       "      <td>7:58:53</td>\n",
       "      <td>16:37</td>\n",
       "      <td>5:22:09</td>\n",
       "      <td>13:37:40</td>\n",
       "    </tr>\n",
       "    <tr>\n",
       "      <th>2</th>\n",
       "      <td>/rus/result/ironman/ireland-cork/full/2019</td>\n",
       "      <td>M</td>\n",
       "      <td>/fra/profile/peugeot-rodolphe</td>\n",
       "      <td>FRA</td>\n",
       "      <td>Peugeot, Rodolphe</td>\n",
       "      <td>M25-29</td>\n",
       "      <td>0:00</td>\n",
       "      <td>0:00</td>\n",
       "      <td>7:57:05</td>\n",
       "      <td>10:40</td>\n",
       "      <td>5:30:10</td>\n",
       "      <td>13:37:55</td>\n",
       "    </tr>\n",
       "    <tr>\n",
       "      <th>3</th>\n",
       "      <td>/rus/result/ironman/ireland-cork/full/2019</td>\n",
       "      <td>F</td>\n",
       "      <td>/gbr/profile/crawford-lisa</td>\n",
       "      <td>GBR</td>\n",
       "      <td>Crawford, Lisa</td>\n",
       "      <td>F50-54</td>\n",
       "      <td>0:00</td>\n",
       "      <td>0:00</td>\n",
       "      <td>7:44:47</td>\n",
       "      <td>12:51</td>\n",
       "      <td>5:40:21</td>\n",
       "      <td>13:37:59</td>\n",
       "    </tr>\n",
       "    <tr>\n",
       "      <th>4</th>\n",
       "      <td>/rus/result/ironman/ireland-cork/full/2019</td>\n",
       "      <td>M</td>\n",
       "      <td>/usa/profile/brumit-aaron</td>\n",
       "      <td>USA</td>\n",
       "      <td>Brumit, Aaron</td>\n",
       "      <td>M45-49</td>\n",
       "      <td>0:00</td>\n",
       "      <td>0:00</td>\n",
       "      <td>7:12:38</td>\n",
       "      <td>34:01</td>\n",
       "      <td>5:51:50</td>\n",
       "      <td>13:38:29</td>\n",
       "    </tr>\n",
       "  </tbody>\n",
       "</table>\n",
       "</div>"
      ],
      "text/plain": [
       "                                   event_link gender  \\\n",
       "0  /rus/result/ironman/ireland-cork/full/2019      M   \n",
       "1  /rus/result/ironman/ireland-cork/full/2019      F   \n",
       "2  /rus/result/ironman/ireland-cork/full/2019      M   \n",
       "3  /rus/result/ironman/ireland-cork/full/2019      F   \n",
       "4  /rus/result/ironman/ireland-cork/full/2019      M   \n",
       "\n",
       "                     person_link person_flag        person_name  \\\n",
       "0    /irl/profile/halliwell-mark         IRL    Halliwell, Mark   \n",
       "1      /usa/profile/harris-polly         USA      Harris, Polly   \n",
       "2  /fra/profile/peugeot-rodolphe         FRA  Peugeot, Rodolphe   \n",
       "3     /gbr/profile/crawford-lisa         GBR     Crawford, Lisa   \n",
       "4      /usa/profile/brumit-aaron         USA      Brumit, Aaron   \n",
       "\n",
       "  person_event_group person_event_swim_time_text person_event_t1_time_text  \\\n",
       "0             M45-49                        0:00                      0:00   \n",
       "1             F50-54                        0:00                      0:00   \n",
       "2             M25-29                        0:00                      0:00   \n",
       "3             F50-54                        0:00                      0:00   \n",
       "4             M45-49                        0:00                      0:00   \n",
       "\n",
       "  person_event_cycle_time_text person_event_t2_time_text  \\\n",
       "0                      7:52:05                     19:00   \n",
       "1                      7:58:53                     16:37   \n",
       "2                      7:57:05                     10:40   \n",
       "3                      7:44:47                     12:51   \n",
       "4                      7:12:38                     34:01   \n",
       "\n",
       "  person_event_run_time_text person_event_finish_time_text  \n",
       "0                    5:26:34                      13:37:39  \n",
       "1                    5:22:09                      13:37:40  \n",
       "2                    5:30:10                      13:37:55  \n",
       "3                    5:40:21                      13:37:59  \n",
       "4                    5:51:50                      13:38:29  "
      ]
     },
     "execution_count": 106,
     "metadata": {},
     "output_type": "execute_result"
    }
   ],
   "source": [
    "df_stats_raw.head()"
   ]
  },
  {
   "cell_type": "markdown",
   "metadata": {},
   "source": [
    "# cleaning stats"
   ]
  },
  {
   "cell_type": "markdown",
   "metadata": {},
   "source": [
    "### Duplicates?"
   ]
  },
  {
   "cell_type": "code",
   "execution_count": 107,
   "metadata": {},
   "outputs": [
    {
     "name": "stdout",
     "output_type": "stream",
     "text": [
      "Number of duplicats:  3112\n"
     ]
    }
   ],
   "source": [
    "duplicates_s = df_stats_raw[df_stats_raw.duplicated(keep=False)]\n",
    "\n",
    "print('Number of duplicats: ', len(duplicates_s))"
   ]
  },
  {
   "cell_type": "code",
   "execution_count": 108,
   "metadata": {},
   "outputs": [
    {
     "data": {
      "text/html": [
       "<div>\n",
       "<style scoped>\n",
       "    .dataframe tbody tr th:only-of-type {\n",
       "        vertical-align: middle;\n",
       "    }\n",
       "\n",
       "    .dataframe tbody tr th {\n",
       "        vertical-align: top;\n",
       "    }\n",
       "\n",
       "    .dataframe thead th {\n",
       "        text-align: right;\n",
       "    }\n",
       "</style>\n",
       "<table border=\"1\" class=\"dataframe\">\n",
       "  <thead>\n",
       "    <tr style=\"text-align: right;\">\n",
       "      <th></th>\n",
       "      <th>event_link</th>\n",
       "      <th>gender</th>\n",
       "      <th>person_link</th>\n",
       "      <th>person_flag</th>\n",
       "      <th>person_name</th>\n",
       "      <th>person_event_group</th>\n",
       "      <th>person_event_swim_time_text</th>\n",
       "      <th>person_event_t1_time_text</th>\n",
       "      <th>person_event_cycle_time_text</th>\n",
       "      <th>person_event_t2_time_text</th>\n",
       "      <th>person_event_run_time_text</th>\n",
       "      <th>person_event_finish_time_text</th>\n",
       "    </tr>\n",
       "  </thead>\n",
       "  <tbody>\n",
       "    <tr>\n",
       "      <th>2854713</th>\n",
       "      <td>/rus/result/challenge/european-championship-al...</td>\n",
       "      <td>F</td>\n",
       "      <td>/gbr/profile/wood-ger</td>\n",
       "      <td>GBR</td>\n",
       "      <td>Wood Ger</td>\n",
       "      <td>F60-64</td>\n",
       "      <td>1:41:53</td>\n",
       "      <td>10:07</td>\n",
       "      <td>7:06:02</td>\n",
       "      <td>7:00</td>\n",
       "      <td>5:51:31</td>\n",
       "      <td>14:56:31</td>\n",
       "    </tr>\n",
       "    <tr>\n",
       "      <th>2854714</th>\n",
       "      <td>/rus/result/challenge/european-championship-al...</td>\n",
       "      <td>F</td>\n",
       "      <td>/gbr/profile/wood-ger</td>\n",
       "      <td>GBR</td>\n",
       "      <td>Wood Ger</td>\n",
       "      <td>F60-64</td>\n",
       "      <td>1:41:53</td>\n",
       "      <td>10:07</td>\n",
       "      <td>7:06:02</td>\n",
       "      <td>7:00</td>\n",
       "      <td>5:51:31</td>\n",
       "      <td>14:56:31</td>\n",
       "    </tr>\n",
       "    <tr>\n",
       "      <th>2854689</th>\n",
       "      <td>/rus/result/challenge/european-championship-al...</td>\n",
       "      <td>F</td>\n",
       "      <td>/ned/profile/commandeur-brigitta</td>\n",
       "      <td>NED</td>\n",
       "      <td>Commandeur Brigitta</td>\n",
       "      <td>F60-64</td>\n",
       "      <td>1:26:50</td>\n",
       "      <td>12:51</td>\n",
       "      <td>5:56:29</td>\n",
       "      <td>10:04</td>\n",
       "      <td>4:40:20</td>\n",
       "      <td>12:26:31</td>\n",
       "    </tr>\n",
       "    <tr>\n",
       "      <th>2854690</th>\n",
       "      <td>/rus/result/challenge/european-championship-al...</td>\n",
       "      <td>F</td>\n",
       "      <td>/ned/profile/commandeur-brigitta</td>\n",
       "      <td>NED</td>\n",
       "      <td>Commandeur Brigitta</td>\n",
       "      <td>F60-64</td>\n",
       "      <td>1:26:50</td>\n",
       "      <td>12:51</td>\n",
       "      <td>5:56:29</td>\n",
       "      <td>10:04</td>\n",
       "      <td>4:40:20</td>\n",
       "      <td>12:26:31</td>\n",
       "    </tr>\n",
       "    <tr>\n",
       "      <th>2854675</th>\n",
       "      <td>/rus/result/challenge/european-championship-al...</td>\n",
       "      <td>F</td>\n",
       "      <td>/ned/profile/sollie-gerda-2</td>\n",
       "      <td>NED</td>\n",
       "      <td>Sollie Gerda</td>\n",
       "      <td>F60-64</td>\n",
       "      <td>1:14:57</td>\n",
       "      <td>5:28</td>\n",
       "      <td>5:58:12</td>\n",
       "      <td>4:55</td>\n",
       "      <td>4:38:46</td>\n",
       "      <td>12:02:17</td>\n",
       "    </tr>\n",
       "  </tbody>\n",
       "</table>\n",
       "</div>"
      ],
      "text/plain": [
       "                                                event_link gender  \\\n",
       "2854713  /rus/result/challenge/european-championship-al...      F   \n",
       "2854714  /rus/result/challenge/european-championship-al...      F   \n",
       "2854689  /rus/result/challenge/european-championship-al...      F   \n",
       "2854690  /rus/result/challenge/european-championship-al...      F   \n",
       "2854675  /rus/result/challenge/european-championship-al...      F   \n",
       "\n",
       "                              person_link person_flag          person_name  \\\n",
       "2854713             /gbr/profile/wood-ger         GBR             Wood Ger   \n",
       "2854714             /gbr/profile/wood-ger         GBR             Wood Ger   \n",
       "2854689  /ned/profile/commandeur-brigitta         NED  Commandeur Brigitta   \n",
       "2854690  /ned/profile/commandeur-brigitta         NED  Commandeur Brigitta   \n",
       "2854675       /ned/profile/sollie-gerda-2         NED         Sollie Gerda   \n",
       "\n",
       "        person_event_group person_event_swim_time_text  \\\n",
       "2854713             F60-64                     1:41:53   \n",
       "2854714             F60-64                     1:41:53   \n",
       "2854689             F60-64                     1:26:50   \n",
       "2854690             F60-64                     1:26:50   \n",
       "2854675             F60-64                     1:14:57   \n",
       "\n",
       "        person_event_t1_time_text person_event_cycle_time_text  \\\n",
       "2854713                     10:07                      7:06:02   \n",
       "2854714                     10:07                      7:06:02   \n",
       "2854689                     12:51                      5:56:29   \n",
       "2854690                     12:51                      5:56:29   \n",
       "2854675                      5:28                      5:58:12   \n",
       "\n",
       "        person_event_t2_time_text person_event_run_time_text  \\\n",
       "2854713                      7:00                    5:51:31   \n",
       "2854714                      7:00                    5:51:31   \n",
       "2854689                     10:04                    4:40:20   \n",
       "2854690                     10:04                    4:40:20   \n",
       "2854675                      4:55                    4:38:46   \n",
       "\n",
       "        person_event_finish_time_text  \n",
       "2854713                      14:56:31  \n",
       "2854714                      14:56:31  \n",
       "2854689                      12:26:31  \n",
       "2854690                      12:26:31  \n",
       "2854675                      12:02:17  "
      ]
     },
     "execution_count": 108,
     "metadata": {},
     "output_type": "execute_result"
    }
   ],
   "source": [
    "duplicates_sorted = duplicates_s.sort_values(by=list(df_stats_raw.columns))\n",
    "duplicates_sorted.head()"
   ]
  },
  {
   "cell_type": "markdown",
   "metadata": {},
   "source": [
    "Keep the first and drop the duplicates"
   ]
  },
  {
   "cell_type": "code",
   "execution_count": 109,
   "metadata": {},
   "outputs": [],
   "source": [
    "df_stats = df_stats_raw.drop_duplicates(keep = 'first', ignore_index = True, inplace=False)\n"
   ]
  },
  {
   "cell_type": "code",
   "execution_count": 110,
   "metadata": {},
   "outputs": [
    {
     "name": "stdout",
     "output_type": "stream",
     "text": [
      "<class 'pandas.core.frame.DataFrame'>\n",
      "RangeIndex: 2959946 entries, 0 to 2959945\n",
      "Data columns (total 12 columns):\n",
      " #   Column                         Dtype \n",
      "---  ------                         ----- \n",
      " 0   event_link                     object\n",
      " 1   gender                         object\n",
      " 2   person_link                    object\n",
      " 3   person_flag                    object\n",
      " 4   person_name                    object\n",
      " 5   person_event_group             object\n",
      " 6   person_event_swim_time_text    object\n",
      " 7   person_event_t1_time_text      object\n",
      " 8   person_event_cycle_time_text   object\n",
      " 9   person_event_t2_time_text      object\n",
      " 10  person_event_run_time_text     object\n",
      " 11  person_event_finish_time_text  object\n",
      "dtypes: object(12)\n",
      "memory usage: 271.0+ MB\n"
     ]
    }
   ],
   "source": [
    "df_stats.info()"
   ]
  },
  {
   "cell_type": "markdown",
   "metadata": {},
   "source": [
    "### datatypes"
   ]
  },
  {
   "cell_type": "markdown",
   "metadata": {},
   "source": [
    "1. timedelta"
   ]
  },
  {
   "cell_type": "code",
   "execution_count": 111,
   "metadata": {},
   "outputs": [],
   "source": [
    "## timeinterval via timedelta for all _time_text columns as _time\n",
    "\n",
    "#  1. prepare object to HH:MM:SS / seperated by ':' => three parts \n",
    "#           if only 2 parts, add 00: as hours, fill minutes up to 0x: if needed\n",
    "#           if already three parts, fill hours up to 0x: if needed\n",
    "\n",
    "def convert_to_hhmmss(time_str):\n",
    "    parts = time_str.split(':')\n",
    "    if len(parts) == 2:\n",
    "        minutes = parts[0].zfill(2) \n",
    "        seconds = parts[1]\n",
    "        return f\"00:{minutes}:{seconds}\" \n",
    "    elif len(parts) == 3:\n",
    "        hours = parts[0].zfill(2) \n",
    "        minutes = parts[1]\n",
    "        seconds = parts[2]\n",
    "        return f\"{hours}:{minutes}:{seconds}\"  \n",
    "    return time_str "
   ]
  },
  {
   "cell_type": "code",
   "execution_count": 112,
   "metadata": {},
   "outputs": [],
   "source": [
    "# swim\n",
    "\n",
    "df_stats['swim_time_intervals'] = df_stats['person_event_swim_time_text'].apply(convert_to_hhmmss)\n",
    "\n",
    "# bike\n",
    "\n",
    "df_stats['bike_time_intervals'] = df_stats['person_event_cycle_time_text'].apply(convert_to_hhmmss)\n",
    "\n",
    "# run\n",
    "\n",
    "df_stats['run_time_intervals'] = df_stats['person_event_run_time_text'].apply(convert_to_hhmmss)\n",
    "\n",
    "# t1 change\n",
    "\n",
    "df_stats['t1_time_intervals'] = df_stats['person_event_t1_time_text'].apply(convert_to_hhmmss)\n",
    "\n",
    "# t2 change\n",
    "\n",
    "df_stats['t2_time_intervals'] = df_stats['person_event_t2_time_text'].apply(convert_to_hhmmss)\n",
    "\n",
    "# finish time\n",
    "\n",
    "df_stats['finish_time_intervals'] = df_stats['person_event_finish_time_text'].apply(convert_to_hhmmss)\n"
   ]
  },
  {
   "cell_type": "code",
   "execution_count": 113,
   "metadata": {},
   "outputs": [],
   "source": [
    "df_stats['person_event_swim_time'] = pd.to_timedelta(df_stats['swim_time_intervals'])"
   ]
  },
  {
   "cell_type": "code",
   "execution_count": 114,
   "metadata": {},
   "outputs": [],
   "source": [
    "## timeinterval via timedelta for all _time_text columns as _time\n",
    "\n",
    "# 2. change to timedelta\n",
    "\n",
    "# swim\n",
    "\n",
    "df_stats['person_event_swim_time'] = pd.to_timedelta(df_stats['swim_time_intervals'])\n",
    "\n",
    "# bike\n",
    "\n",
    "df_stats['person_event_cycle_time'] = pd.to_timedelta(df_stats['bike_time_intervals'])\n",
    "\n",
    "# run\n",
    "\n",
    "df_stats['person_event_run_time'] = pd.to_timedelta(df_stats['run_time_intervals'])\n",
    "\n",
    "# t1 change\n",
    "\n",
    "df_stats['person_event_t1_time'] = pd.to_timedelta(df_stats['t1_time_intervals'])\n",
    "\n",
    "# t2 change\n",
    "\n",
    "df_stats['person_event_t2_time'] = pd.to_timedelta(df_stats['t2_time_intervals'])\n",
    "\n",
    "# finish time\n",
    "\n",
    "df_stats['person_event_finish_time'] = pd.to_timedelta(df_stats['finish_time_intervals'])\n"
   ]
  },
  {
   "cell_type": "markdown",
   "metadata": {},
   "source": [
    "2. strings"
   ]
  },
  {
   "cell_type": "code",
   "execution_count": 115,
   "metadata": {},
   "outputs": [],
   "source": [
    "# objects to strings    \n",
    "\n",
    "df_stats['event_link'] = df_stats['event_link'].astype('string')\n",
    "\n",
    "df_stats['gender'] = df_stats['gender'].astype('string')\n",
    "\n",
    "df_stats['person_link'] = df_stats['person_link'].astype('string')\n",
    "\n",
    "df_stats['person_flag'] = df_stats['person_flag'].astype('string')\n",
    "\n",
    "df_stats['person_event_group'] = df_stats['person_event_group'].astype('string')"
   ]
  },
  {
   "cell_type": "markdown",
   "metadata": {},
   "source": [
    "### drop columns"
   ]
  },
  {
   "cell_type": "code",
   "execution_count": 116,
   "metadata": {},
   "outputs": [],
   "source": [
    "df_stats = df_stats.drop(axis = 1,\n",
    "                         columns = [\n",
    "                        'person_name',\n",
    "                        'person_event_swim_time_text',\n",
    "                        'person_event_t1_time_text',\n",
    "                        'person_event_cycle_time_text',\n",
    "                        'person_event_t2_time_text',  \n",
    "                        'person_event_run_time_text',\n",
    "                        'person_event_finish_time_text',\n",
    "                        'swim_time_intervals',\n",
    "                        'bike_time_intervals',\n",
    "                        'run_time_intervals',\n",
    "                        't1_time_intervals',\n",
    "                        't2_time_intervals',\n",
    "                        'finish_time_intervals'\n",
    "                         ]\n",
    "                        )"
   ]
  },
  {
   "cell_type": "code",
   "execution_count": 117,
   "metadata": {},
   "outputs": [
    {
     "data": {
      "text/html": [
       "<div>\n",
       "<style scoped>\n",
       "    .dataframe tbody tr th:only-of-type {\n",
       "        vertical-align: middle;\n",
       "    }\n",
       "\n",
       "    .dataframe tbody tr th {\n",
       "        vertical-align: top;\n",
       "    }\n",
       "\n",
       "    .dataframe thead th {\n",
       "        text-align: right;\n",
       "    }\n",
       "</style>\n",
       "<table border=\"1\" class=\"dataframe\">\n",
       "  <thead>\n",
       "    <tr style=\"text-align: right;\">\n",
       "      <th></th>\n",
       "      <th>person_event_swim_time</th>\n",
       "      <th>person_event_cycle_time</th>\n",
       "      <th>person_event_run_time</th>\n",
       "      <th>person_event_t1_time</th>\n",
       "      <th>person_event_t2_time</th>\n",
       "      <th>person_event_finish_time</th>\n",
       "    </tr>\n",
       "  </thead>\n",
       "  <tbody>\n",
       "    <tr>\n",
       "      <th>count</th>\n",
       "      <td>2959946</td>\n",
       "      <td>2959946</td>\n",
       "      <td>2959946</td>\n",
       "      <td>2959946</td>\n",
       "      <td>2959946</td>\n",
       "      <td>2959946</td>\n",
       "    </tr>\n",
       "    <tr>\n",
       "      <th>mean</th>\n",
       "      <td>0 days 00:48:50.121483635</td>\n",
       "      <td>0 days 03:44:31.383619836</td>\n",
       "      <td>0 days 02:49:10.243758838</td>\n",
       "      <td>0 days 00:05:43.921190791</td>\n",
       "      <td>0 days 00:05:35.466211883</td>\n",
       "      <td>0 days 07:37:59.330441501</td>\n",
       "    </tr>\n",
       "    <tr>\n",
       "      <th>std</th>\n",
       "      <td>0 days 00:36:13.567326191</td>\n",
       "      <td>0 days 02:02:16.718487662</td>\n",
       "      <td>0 days 01:46:35.212286715</td>\n",
       "      <td>0 days 00:10:37.417429918</td>\n",
       "      <td>0 days 00:22:10.376382811</td>\n",
       "      <td>0 days 03:59:53.031435028</td>\n",
       "    </tr>\n",
       "    <tr>\n",
       "      <th>min</th>\n",
       "      <td>0 days 00:00:00</td>\n",
       "      <td>0 days 00:00:00</td>\n",
       "      <td>0 days 00:00:00</td>\n",
       "      <td>0 days 00:00:00</td>\n",
       "      <td>0 days 00:00:00</td>\n",
       "      <td>0 days 00:00:10</td>\n",
       "    </tr>\n",
       "    <tr>\n",
       "      <th>25%</th>\n",
       "      <td>0 days 00:32:23</td>\n",
       "      <td>0 days 02:36:45</td>\n",
       "      <td>0 days 01:43:11</td>\n",
       "      <td>0 days 00:02:53</td>\n",
       "      <td>0 days 00:02:15</td>\n",
       "      <td>0 days 05:08:08</td>\n",
       "    </tr>\n",
       "    <tr>\n",
       "      <th>50%</th>\n",
       "      <td>0 days 00:42:10</td>\n",
       "      <td>0 days 03:09:45</td>\n",
       "      <td>0 days 02:18:38</td>\n",
       "      <td>0 days 00:04:59</td>\n",
       "      <td>0 days 00:03:50</td>\n",
       "      <td>0 days 06:23:42</td>\n",
       "    </tr>\n",
       "    <tr>\n",
       "      <th>75%</th>\n",
       "      <td>0 days 01:07:05</td>\n",
       "      <td>0 days 05:37:11</td>\n",
       "      <td>0 days 04:05:59</td>\n",
       "      <td>0 days 00:07:31</td>\n",
       "      <td>0 days 00:06:06</td>\n",
       "      <td>0 days 11:13:29</td>\n",
       "    </tr>\n",
       "    <tr>\n",
       "      <th>max</th>\n",
       "      <td>0 days 22:55:24</td>\n",
       "      <td>0 days 23:57:43</td>\n",
       "      <td>0 days 23:58:37</td>\n",
       "      <td>0 days 23:59:59</td>\n",
       "      <td>0 days 23:59:49</td>\n",
       "      <td>0 days 23:59:08</td>\n",
       "    </tr>\n",
       "  </tbody>\n",
       "</table>\n",
       "</div>"
      ],
      "text/plain": [
       "          person_event_swim_time    person_event_cycle_time  \\\n",
       "count                    2959946                    2959946   \n",
       "mean   0 days 00:48:50.121483635  0 days 03:44:31.383619836   \n",
       "std    0 days 00:36:13.567326191  0 days 02:02:16.718487662   \n",
       "min              0 days 00:00:00            0 days 00:00:00   \n",
       "25%              0 days 00:32:23            0 days 02:36:45   \n",
       "50%              0 days 00:42:10            0 days 03:09:45   \n",
       "75%              0 days 01:07:05            0 days 05:37:11   \n",
       "max              0 days 22:55:24            0 days 23:57:43   \n",
       "\n",
       "           person_event_run_time       person_event_t1_time  \\\n",
       "count                    2959946                    2959946   \n",
       "mean   0 days 02:49:10.243758838  0 days 00:05:43.921190791   \n",
       "std    0 days 01:46:35.212286715  0 days 00:10:37.417429918   \n",
       "min              0 days 00:00:00            0 days 00:00:00   \n",
       "25%              0 days 01:43:11            0 days 00:02:53   \n",
       "50%              0 days 02:18:38            0 days 00:04:59   \n",
       "75%              0 days 04:05:59            0 days 00:07:31   \n",
       "max              0 days 23:58:37            0 days 23:59:59   \n",
       "\n",
       "            person_event_t2_time   person_event_finish_time  \n",
       "count                    2959946                    2959946  \n",
       "mean   0 days 00:05:35.466211883  0 days 07:37:59.330441501  \n",
       "std    0 days 00:22:10.376382811  0 days 03:59:53.031435028  \n",
       "min              0 days 00:00:00            0 days 00:00:10  \n",
       "25%              0 days 00:02:15            0 days 05:08:08  \n",
       "50%              0 days 00:03:50            0 days 06:23:42  \n",
       "75%              0 days 00:06:06            0 days 11:13:29  \n",
       "max              0 days 23:59:49            0 days 23:59:08  "
      ]
     },
     "execution_count": 117,
     "metadata": {},
     "output_type": "execute_result"
    }
   ],
   "source": [
    "df_stats.describe()"
   ]
  },
  {
   "cell_type": "code",
   "execution_count": 186,
   "metadata": {},
   "outputs": [
    {
     "data": {
      "text/plain": [
       "<StringArray>\n",
       "[    'M45-49',     'F50-54',     'M25-29',     'F40-44',     'M50-54',\n",
       "     'M40-44',     'F35-39',     'M35-39',     'M18-24',     'M55-59',\n",
       " ...\n",
       "       'YM18',       'YW18',       'YW16',       'YM16',     'M23-34',\n",
       "     'F23-34',      'M60-+',     'M20-22',     'F20-22', 'MFINALCPRO']\n",
       "Length: 967, dtype: string"
      ]
     },
     "execution_count": 186,
     "metadata": {},
     "output_type": "execute_result"
    }
   ],
   "source": [
    "df_stats['person_event_group'].unique()"
   ]
  },
  {
   "cell_type": "markdown",
   "metadata": {},
   "source": [
    "### columns as excel file - stats"
   ]
  },
  {
   "cell_type": "code",
   "execution_count": 182,
   "metadata": {},
   "outputs": [],
   "source": [
    "stats_headers = pd.DataFrame(df_stats.columns, columns=[\"column_names\"])\n",
    "\n",
    "stats_headers.to_excel(\"stats_header.xlsx\", index=False)"
   ]
  },
  {
   "cell_type": "code",
   "execution_count": 187,
   "metadata": {},
   "outputs": [
    {
     "name": "stdout",
     "output_type": "stream",
     "text": [
      "<class 'pandas.core.frame.DataFrame'>\n",
      "RangeIndex: 2959946 entries, 0 to 2959945\n",
      "Data columns (total 12 columns):\n",
      " #   Column                    Dtype          \n",
      "---  ------                    -----          \n",
      " 0   event_link                string         \n",
      " 1   gender                    string         \n",
      " 2   person_link               string         \n",
      " 3   person_flag               string         \n",
      " 4   person_event_group        string         \n",
      " 5   person_event_swim_time    timedelta64[ns]\n",
      " 6   person_event_cycle_time   timedelta64[ns]\n",
      " 7   person_event_run_time     timedelta64[ns]\n",
      " 8   person_event_t1_time      timedelta64[ns]\n",
      " 9   person_event_t2_time      timedelta64[ns]\n",
      " 10  person_event_finish_time  timedelta64[ns]\n",
      " 11  country                   object         \n",
      "dtypes: object(1), string(5), timedelta64[ns](6)\n",
      "memory usage: 271.0+ MB\n"
     ]
    }
   ],
   "source": [
    "df_stats.info()"
   ]
  },
  {
   "cell_type": "markdown",
   "metadata": {},
   "source": [
    "# First Analysis"
   ]
  },
  {
   "cell_type": "markdown",
   "metadata": {},
   "source": [
    "### events: How many different countries?"
   ]
  },
  {
   "cell_type": "code",
   "execution_count": 165,
   "metadata": {},
   "outputs": [
    {
     "name": "stdout",
     "output_type": "stream",
     "text": [
      "Number of distinct countries:  132\n"
     ]
    }
   ],
   "source": [
    "print('Number of distinct countries: ', df_events['event_flg'].nunique())"
   ]
  },
  {
   "cell_type": "markdown",
   "metadata": {},
   "source": [
    "### stats: How many unique participants?"
   ]
  },
  {
   "cell_type": "code",
   "execution_count": 119,
   "metadata": {},
   "outputs": [
    {
     "name": "stdout",
     "output_type": "stream",
     "text": [
      "Number of distinct participants:  1021760\n"
     ]
    }
   ],
   "source": [
    "print('Number of distinct participants: ', df_stats['person_link'].nunique())"
   ]
  },
  {
   "cell_type": "markdown",
   "metadata": {},
   "source": [
    "### stats: How many countries are represented?"
   ]
  },
  {
   "cell_type": "code",
   "execution_count": 166,
   "metadata": {},
   "outputs": [
    {
     "name": "stdout",
     "output_type": "stream",
     "text": [
      "Number of distinct origin of the participants:  250\n"
     ]
    }
   ],
   "source": [
    "print('Number of distinct origin of the participants: ', df_stats['person_flag'].nunique())"
   ]
  },
  {
   "cell_type": "markdown",
   "metadata": {},
   "source": [
    "# First Visualisations"
   ]
  },
  {
   "cell_type": "markdown",
   "metadata": {},
   "source": [
    "## map events"
   ]
  },
  {
   "cell_type": "code",
   "execution_count": 121,
   "metadata": {},
   "outputs": [],
   "source": [
    "# !pip install pycountry"
   ]
  },
  {
   "cell_type": "code",
   "execution_count": 122,
   "metadata": {},
   "outputs": [],
   "source": [
    "# !pip install geopandas"
   ]
  },
  {
   "cell_type": "code",
   "execution_count": 123,
   "metadata": {},
   "outputs": [],
   "source": [
    "#!pip install plotly"
   ]
  },
  {
   "cell_type": "code",
   "execution_count": null,
   "metadata": {},
   "outputs": [],
   "source": [
    "import geopandas as gpd\n",
    "import matplotlib.pyplot as plt\n",
    "import matplotlib.colors as mcolors\n",
    "import pycountry\n",
    "import plotly.express as px"
   ]
  },
  {
   "cell_type": "code",
   "execution_count": 125,
   "metadata": {},
   "outputs": [],
   "source": [
    "world = gpd.read_file('./_python_packages/ne_110m_admin_0_countries/ne_110m_admin_0_countries.shp')"
   ]
  },
  {
   "cell_type": "markdown",
   "metadata": {},
   "source": [
    "### column names as excel - world"
   ]
  },
  {
   "cell_type": "code",
   "execution_count": 183,
   "metadata": {},
   "outputs": [],
   "source": [
    "world_headers = pd.DataFrame(world.columns, columns=[\"column_names\"])\n",
    "\n",
    "world_headers.to_excel(\"world_header.xlsx\", index=False)"
   ]
  },
  {
   "cell_type": "markdown",
   "metadata": {},
   "source": [
    "PROBLEM: not all country codes follow the ISO 3166-1 alpha-3"
   ]
  },
  {
   "cell_type": "code",
   "execution_count": null,
   "metadata": {},
   "outputs": [
    {
     "name": "stdout",
     "output_type": "stream",
     "text": [
      "<StringArray>\n",
      "[]\n",
      "Length: 0, dtype: string\n"
     ]
    }
   ],
   "source": [
    "missing_countries = df_events[~df_events['event_flg'].isin(country_mapping.keys())]\n",
    "print(missing_countries['event_flg'].unique())"
   ]
  },
  {
   "cell_type": "markdown",
   "metadata": {},
   "source": [
    "Translate the missing 50 codes to ISO"
   ]
  },
  {
   "cell_type": "code",
   "execution_count": null,
   "metadata": {},
   "outputs": [],
   "source": [
    "# Mapping the wrong country codes to ISO 3166-1 Alpha-3 Codes\n",
    "\n",
    "corrections = {\n",
    "    \"VIE\": \"VNM\", \"PHI\": \"PHL\", \"RSA\": \"ZAF\", \"MAS\": \"MYS\", \"GRE\": \"GRC\", \"CRO\": \"HRV\", \"POR\": \"PRT\", \"INA\": \"IDN\",\n",
    "    \"TPE\": \"TWN\", \"OMA\": \"OMN\", \"GER\": \"DEU\", \"SLO\": \"SVN\", \"PAR\": \"PRY\", \"DEN\": \"DNK\", \"LAT\": \"LVA\", \"NED\": \"NLD\",\n",
    "    \"CRC\": \"CRI\", \"SUI\": \"CHE\", \"GUA\": \"GTM\", \"PUR\": \"PRI\", \"MRI\": \"MUS\", \"URU\": \"URY\", \"NEP\": \"NPL\", \"ZIM\": \"ZWE\",\n",
    "    \"UAE\": \"ARE\", \"CHI\": \"CHL\", \"NGR\": \"NGA\", \"ALG\": \"DZA\", \"SAM\": \"WSM\", \"BAR\": \"BRB\", \"HON\": \"HND\", \"SKN\": \"KNA\",\n",
    "    \"GRN\": \"GRD\", \"MAC\": \"MAC\", \"IVB\": \"VGB\", \"BUL\": \"BGR\", \"GIB\": \"GIB\", \"MGL\": \"MNG\", \"BAH\": \"BHS\", \"BER\": \"BMU\",\n",
    "    \"SRI\": \"LKA\", \"HKG\": \"HKG\", \"ESA\": \"SLV\", \"NCA\": \"NIC\", \"ISV\": \"VIR\", \"MNP\": \"MNP\", \"IRI\": \"IRN\", \"PYF\": \"PYF\",\n",
    "    \"SOL\": \"SLB\", \"FIJ\": \"FJI\", \"ARU\": \"ABW\", \"MAD\": \"MDG\", \"BOT\": \"BWA\", \"COK\": \"COK\", \"CAY\": \"CYM\", \"MON\": \"MCO\",\n",
    "    \"NCL\": \"NCL\"\n",
    "}\n",
    "\n",
    "# using the correction to column event_flg\n",
    "df_events[\"event_flg\"] = df_events[\"event_flg\"].replace(corrections)"
   ]
  },
  {
   "cell_type": "markdown",
   "metadata": {},
   "source": [
    "adding a column with country names"
   ]
  },
  {
   "cell_type": "code",
   "execution_count": null,
   "metadata": {},
   "outputs": [],
   "source": [
    "# Mapping of country code to country name + use for new column\n",
    "\n",
    "country_mapping = {country.alpha_3: country.name for country in pycountry.countries}"
   ]
  },
  {
   "cell_type": "code",
   "execution_count": 139,
   "metadata": {},
   "outputs": [],
   "source": [
    "df_events[\"country_name\"] = df_events[\"event_flg\"].map(country_mapping)"
   ]
  },
  {
   "cell_type": "markdown",
   "metadata": {},
   "source": [
    "Count of events to show on a map"
   ]
  },
  {
   "cell_type": "code",
   "execution_count": null,
   "metadata": {},
   "outputs": [],
   "source": [
    "# Number of events by country\n",
    "\n",
    "event_counts = df_events[\"event_flg\"].value_counts().reset_index()\n",
    "event_counts.columns = [\"country\", \"event_count\"]"
   ]
  },
  {
   "cell_type": "code",
   "execution_count": 170,
   "metadata": {},
   "outputs": [],
   "source": [
    "# merge world map with df_events\n",
    "\n",
    "world_events = world.merge(event_counts, how=\"left\", left_on=\"SOVEREIGNT\", right_on=\"country\", suffixes=(\"\", \"_duplicate\"))\n",
    "world_events = world.drop(columns=[col for col in world.columns if \"_duplicate\" in col])\n"
   ]
  },
  {
   "cell_type": "code",
   "execution_count": 164,
   "metadata": {},
   "outputs": [
    {
     "data": {
      "application/vnd.plotly.v1+json": {
       "config": {
        "plotlyServerURL": "https://plot.ly"
       },
       "data": [
        {
         "coloraxis": "coloraxis",
         "geo": "geo",
         "hovertemplate": "country=%{location}<br>event_count=%{z}<extra></extra>",
         "locationmode": "ISO-3",
         "locations": [
          "USA",
          "RUS",
          "AUS",
          "ESP",
          "CAN",
          "DEU",
          "MEX",
          "JPN",
          "FRA",
          "NLD",
          "ITA",
          "AUT",
          "ZAF",
          "GBR",
          "BRA",
          "CHN",
          "NZL",
          "HUN",
          "PRT",
          "CHE",
          "TUR",
          "EST",
          "PHL",
          "CZE",
          "POL",
          "ARG",
          "KOR",
          "DNK",
          "SWE",
          "CHL",
          "COL",
          "HRV",
          "IRL",
          "SVN",
          "BLR",
          "ISR",
          "BEL",
          "SVK",
          "ECU",
          "FIN",
          "KAZ",
          "MUS",
          "MAR",
          "UKR",
          "LUX",
          "GRC",
          "NOR",
          "CYP",
          "ARE",
          "TWN",
          "ZWE",
          "ROU",
          "CRI",
          "MYS",
          "EGY",
          "SGP",
          "BRB",
          "SRB",
          "LVA",
          "CUB",
          "LTU",
          "THA",
          "GHA",
          "PER",
          "GEO",
          "BGR",
          "DOM",
          "KGZ",
          "GTM",
          "HKG",
          "IDN",
          "URY",
          "PRI",
          "PAN",
          "NAM",
          "VIR",
          "TUN",
          "BMU",
          "HND",
          "TTO",
          "MLT",
          "IND",
          "KEN",
          "BRN",
          "SLV",
          "VEN",
          "VGB",
          "MAC",
          "OMN",
          "KNA",
          "VNM",
          "GIB",
          "JOR",
          "GRD",
          "MKD",
          "NPL",
          "LKA",
          "ISL",
          "MNG",
          "JAM",
          "MNE",
          "WSM",
          "BOL",
          "MCO",
          "MOZ",
          "ABW",
          "SLB",
          "IRN",
          "SEN",
          "RWA",
          "UZB",
          "QAT",
          "AND",
          "NIC",
          "BHS",
          "PLW",
          "MDA",
          "DZA",
          "FJI",
          "PYF",
          "NGA",
          "CIV",
          "MNP",
          "PNG",
          "AZE",
          "PRY",
          "MDG",
          "BWA",
          "COK",
          "CYM",
          "LIE",
          "NCL"
         ],
         "name": "",
         "type": "choropleth",
         "z": {
          "bdata": "6QK6ASgB7QDQAMsAugC1AKIAlACEAHwAeAB0AG4AawBiAFsAWABWAFIAUABJAEcARQBEAD0AOQA0ADIALwAvAC4ALAApACkAKQApACgAJwAiACIAIgAhACEAHwAeAB4AHgAcABsAGwAaABoAGAAXABcAFgAVABQAFAAUABMAEwASABEAEQAQAA8ADwANAA0ADAAMAAwADAALAAsACgAKAAoACQAJAAkACAAHAAcABwAHAAcABwAGAAUABQAFAAUABAAEAAQABAAEAAQAAwADAAMAAwADAAMAAwADAAMAAwACAAIAAgACAAIAAgACAAEAAQABAAEAAQABAAEAAQABAAEAAQABAAEA",
          "dtype": "i2"
         }
        }
       ],
       "layout": {
        "coloraxis": {
         "colorbar": {
          "title": {
           "text": "event_count"
          }
         },
         "colorscale": [
          [
           0,
           "rgb(255,247,243)"
          ],
          [
           0.125,
           "rgb(253,224,221)"
          ],
          [
           0.25,
           "rgb(252,197,192)"
          ],
          [
           0.375,
           "rgb(250,159,181)"
          ],
          [
           0.5,
           "rgb(247,104,161)"
          ],
          [
           0.625,
           "rgb(221,52,151)"
          ],
          [
           0.75,
           "rgb(174,1,126)"
          ],
          [
           0.875,
           "rgb(122,1,119)"
          ],
          [
           1,
           "rgb(73,0,106)"
          ]
         ]
        },
        "geo": {
         "center": {},
         "domain": {
          "x": [
           0,
           1
          ],
          "y": [
           0,
           1
          ]
         }
        },
        "height": 600,
        "legend": {
         "tracegroupgap": 0
        },
        "template": {
         "data": {
          "bar": [
           {
            "error_x": {
             "color": "#2a3f5f"
            },
            "error_y": {
             "color": "#2a3f5f"
            },
            "marker": {
             "line": {
              "color": "#E5ECF6",
              "width": 0.5
             },
             "pattern": {
              "fillmode": "overlay",
              "size": 10,
              "solidity": 0.2
             }
            },
            "type": "bar"
           }
          ],
          "barpolar": [
           {
            "marker": {
             "line": {
              "color": "#E5ECF6",
              "width": 0.5
             },
             "pattern": {
              "fillmode": "overlay",
              "size": 10,
              "solidity": 0.2
             }
            },
            "type": "barpolar"
           }
          ],
          "carpet": [
           {
            "aaxis": {
             "endlinecolor": "#2a3f5f",
             "gridcolor": "white",
             "linecolor": "white",
             "minorgridcolor": "white",
             "startlinecolor": "#2a3f5f"
            },
            "baxis": {
             "endlinecolor": "#2a3f5f",
             "gridcolor": "white",
             "linecolor": "white",
             "minorgridcolor": "white",
             "startlinecolor": "#2a3f5f"
            },
            "type": "carpet"
           }
          ],
          "choropleth": [
           {
            "colorbar": {
             "outlinewidth": 0,
             "ticks": ""
            },
            "type": "choropleth"
           }
          ],
          "contour": [
           {
            "colorbar": {
             "outlinewidth": 0,
             "ticks": ""
            },
            "colorscale": [
             [
              0,
              "#0d0887"
             ],
             [
              0.1111111111111111,
              "#46039f"
             ],
             [
              0.2222222222222222,
              "#7201a8"
             ],
             [
              0.3333333333333333,
              "#9c179e"
             ],
             [
              0.4444444444444444,
              "#bd3786"
             ],
             [
              0.5555555555555556,
              "#d8576b"
             ],
             [
              0.6666666666666666,
              "#ed7953"
             ],
             [
              0.7777777777777778,
              "#fb9f3a"
             ],
             [
              0.8888888888888888,
              "#fdca26"
             ],
             [
              1,
              "#f0f921"
             ]
            ],
            "type": "contour"
           }
          ],
          "contourcarpet": [
           {
            "colorbar": {
             "outlinewidth": 0,
             "ticks": ""
            },
            "type": "contourcarpet"
           }
          ],
          "heatmap": [
           {
            "colorbar": {
             "outlinewidth": 0,
             "ticks": ""
            },
            "colorscale": [
             [
              0,
              "#0d0887"
             ],
             [
              0.1111111111111111,
              "#46039f"
             ],
             [
              0.2222222222222222,
              "#7201a8"
             ],
             [
              0.3333333333333333,
              "#9c179e"
             ],
             [
              0.4444444444444444,
              "#bd3786"
             ],
             [
              0.5555555555555556,
              "#d8576b"
             ],
             [
              0.6666666666666666,
              "#ed7953"
             ],
             [
              0.7777777777777778,
              "#fb9f3a"
             ],
             [
              0.8888888888888888,
              "#fdca26"
             ],
             [
              1,
              "#f0f921"
             ]
            ],
            "type": "heatmap"
           }
          ],
          "histogram": [
           {
            "marker": {
             "pattern": {
              "fillmode": "overlay",
              "size": 10,
              "solidity": 0.2
             }
            },
            "type": "histogram"
           }
          ],
          "histogram2d": [
           {
            "colorbar": {
             "outlinewidth": 0,
             "ticks": ""
            },
            "colorscale": [
             [
              0,
              "#0d0887"
             ],
             [
              0.1111111111111111,
              "#46039f"
             ],
             [
              0.2222222222222222,
              "#7201a8"
             ],
             [
              0.3333333333333333,
              "#9c179e"
             ],
             [
              0.4444444444444444,
              "#bd3786"
             ],
             [
              0.5555555555555556,
              "#d8576b"
             ],
             [
              0.6666666666666666,
              "#ed7953"
             ],
             [
              0.7777777777777778,
              "#fb9f3a"
             ],
             [
              0.8888888888888888,
              "#fdca26"
             ],
             [
              1,
              "#f0f921"
             ]
            ],
            "type": "histogram2d"
           }
          ],
          "histogram2dcontour": [
           {
            "colorbar": {
             "outlinewidth": 0,
             "ticks": ""
            },
            "colorscale": [
             [
              0,
              "#0d0887"
             ],
             [
              0.1111111111111111,
              "#46039f"
             ],
             [
              0.2222222222222222,
              "#7201a8"
             ],
             [
              0.3333333333333333,
              "#9c179e"
             ],
             [
              0.4444444444444444,
              "#bd3786"
             ],
             [
              0.5555555555555556,
              "#d8576b"
             ],
             [
              0.6666666666666666,
              "#ed7953"
             ],
             [
              0.7777777777777778,
              "#fb9f3a"
             ],
             [
              0.8888888888888888,
              "#fdca26"
             ],
             [
              1,
              "#f0f921"
             ]
            ],
            "type": "histogram2dcontour"
           }
          ],
          "mesh3d": [
           {
            "colorbar": {
             "outlinewidth": 0,
             "ticks": ""
            },
            "type": "mesh3d"
           }
          ],
          "parcoords": [
           {
            "line": {
             "colorbar": {
              "outlinewidth": 0,
              "ticks": ""
             }
            },
            "type": "parcoords"
           }
          ],
          "pie": [
           {
            "automargin": true,
            "type": "pie"
           }
          ],
          "scatter": [
           {
            "fillpattern": {
             "fillmode": "overlay",
             "size": 10,
             "solidity": 0.2
            },
            "type": "scatter"
           }
          ],
          "scatter3d": [
           {
            "line": {
             "colorbar": {
              "outlinewidth": 0,
              "ticks": ""
             }
            },
            "marker": {
             "colorbar": {
              "outlinewidth": 0,
              "ticks": ""
             }
            },
            "type": "scatter3d"
           }
          ],
          "scattercarpet": [
           {
            "marker": {
             "colorbar": {
              "outlinewidth": 0,
              "ticks": ""
             }
            },
            "type": "scattercarpet"
           }
          ],
          "scattergeo": [
           {
            "marker": {
             "colorbar": {
              "outlinewidth": 0,
              "ticks": ""
             }
            },
            "type": "scattergeo"
           }
          ],
          "scattergl": [
           {
            "marker": {
             "colorbar": {
              "outlinewidth": 0,
              "ticks": ""
             }
            },
            "type": "scattergl"
           }
          ],
          "scattermap": [
           {
            "marker": {
             "colorbar": {
              "outlinewidth": 0,
              "ticks": ""
             }
            },
            "type": "scattermap"
           }
          ],
          "scattermapbox": [
           {
            "marker": {
             "colorbar": {
              "outlinewidth": 0,
              "ticks": ""
             }
            },
            "type": "scattermapbox"
           }
          ],
          "scatterpolar": [
           {
            "marker": {
             "colorbar": {
              "outlinewidth": 0,
              "ticks": ""
             }
            },
            "type": "scatterpolar"
           }
          ],
          "scatterpolargl": [
           {
            "marker": {
             "colorbar": {
              "outlinewidth": 0,
              "ticks": ""
             }
            },
            "type": "scatterpolargl"
           }
          ],
          "scatterternary": [
           {
            "marker": {
             "colorbar": {
              "outlinewidth": 0,
              "ticks": ""
             }
            },
            "type": "scatterternary"
           }
          ],
          "surface": [
           {
            "colorbar": {
             "outlinewidth": 0,
             "ticks": ""
            },
            "colorscale": [
             [
              0,
              "#0d0887"
             ],
             [
              0.1111111111111111,
              "#46039f"
             ],
             [
              0.2222222222222222,
              "#7201a8"
             ],
             [
              0.3333333333333333,
              "#9c179e"
             ],
             [
              0.4444444444444444,
              "#bd3786"
             ],
             [
              0.5555555555555556,
              "#d8576b"
             ],
             [
              0.6666666666666666,
              "#ed7953"
             ],
             [
              0.7777777777777778,
              "#fb9f3a"
             ],
             [
              0.8888888888888888,
              "#fdca26"
             ],
             [
              1,
              "#f0f921"
             ]
            ],
            "type": "surface"
           }
          ],
          "table": [
           {
            "cells": {
             "fill": {
              "color": "#EBF0F8"
             },
             "line": {
              "color": "white"
             }
            },
            "header": {
             "fill": {
              "color": "#C8D4E3"
             },
             "line": {
              "color": "white"
             }
            },
            "type": "table"
           }
          ]
         },
         "layout": {
          "annotationdefaults": {
           "arrowcolor": "#2a3f5f",
           "arrowhead": 0,
           "arrowwidth": 1
          },
          "autotypenumbers": "strict",
          "coloraxis": {
           "colorbar": {
            "outlinewidth": 0,
            "ticks": ""
           }
          },
          "colorscale": {
           "diverging": [
            [
             0,
             "#8e0152"
            ],
            [
             0.1,
             "#c51b7d"
            ],
            [
             0.2,
             "#de77ae"
            ],
            [
             0.3,
             "#f1b6da"
            ],
            [
             0.4,
             "#fde0ef"
            ],
            [
             0.5,
             "#f7f7f7"
            ],
            [
             0.6,
             "#e6f5d0"
            ],
            [
             0.7,
             "#b8e186"
            ],
            [
             0.8,
             "#7fbc41"
            ],
            [
             0.9,
             "#4d9221"
            ],
            [
             1,
             "#276419"
            ]
           ],
           "sequential": [
            [
             0,
             "#0d0887"
            ],
            [
             0.1111111111111111,
             "#46039f"
            ],
            [
             0.2222222222222222,
             "#7201a8"
            ],
            [
             0.3333333333333333,
             "#9c179e"
            ],
            [
             0.4444444444444444,
             "#bd3786"
            ],
            [
             0.5555555555555556,
             "#d8576b"
            ],
            [
             0.6666666666666666,
             "#ed7953"
            ],
            [
             0.7777777777777778,
             "#fb9f3a"
            ],
            [
             0.8888888888888888,
             "#fdca26"
            ],
            [
             1,
             "#f0f921"
            ]
           ],
           "sequentialminus": [
            [
             0,
             "#0d0887"
            ],
            [
             0.1111111111111111,
             "#46039f"
            ],
            [
             0.2222222222222222,
             "#7201a8"
            ],
            [
             0.3333333333333333,
             "#9c179e"
            ],
            [
             0.4444444444444444,
             "#bd3786"
            ],
            [
             0.5555555555555556,
             "#d8576b"
            ],
            [
             0.6666666666666666,
             "#ed7953"
            ],
            [
             0.7777777777777778,
             "#fb9f3a"
            ],
            [
             0.8888888888888888,
             "#fdca26"
            ],
            [
             1,
             "#f0f921"
            ]
           ]
          },
          "colorway": [
           "#636efa",
           "#EF553B",
           "#00cc96",
           "#ab63fa",
           "#FFA15A",
           "#19d3f3",
           "#FF6692",
           "#B6E880",
           "#FF97FF",
           "#FECB52"
          ],
          "font": {
           "color": "#2a3f5f"
          },
          "geo": {
           "bgcolor": "white",
           "lakecolor": "white",
           "landcolor": "#E5ECF6",
           "showlakes": true,
           "showland": true,
           "subunitcolor": "white"
          },
          "hoverlabel": {
           "align": "left"
          },
          "hovermode": "closest",
          "mapbox": {
           "style": "light"
          },
          "paper_bgcolor": "white",
          "plot_bgcolor": "#E5ECF6",
          "polar": {
           "angularaxis": {
            "gridcolor": "white",
            "linecolor": "white",
            "ticks": ""
           },
           "bgcolor": "#E5ECF6",
           "radialaxis": {
            "gridcolor": "white",
            "linecolor": "white",
            "ticks": ""
           }
          },
          "scene": {
           "xaxis": {
            "backgroundcolor": "#E5ECF6",
            "gridcolor": "white",
            "gridwidth": 2,
            "linecolor": "white",
            "showbackground": true,
            "ticks": "",
            "zerolinecolor": "white"
           },
           "yaxis": {
            "backgroundcolor": "#E5ECF6",
            "gridcolor": "white",
            "gridwidth": 2,
            "linecolor": "white",
            "showbackground": true,
            "ticks": "",
            "zerolinecolor": "white"
           },
           "zaxis": {
            "backgroundcolor": "#E5ECF6",
            "gridcolor": "white",
            "gridwidth": 2,
            "linecolor": "white",
            "showbackground": true,
            "ticks": "",
            "zerolinecolor": "white"
           }
          },
          "shapedefaults": {
           "line": {
            "color": "#2a3f5f"
           }
          },
          "ternary": {
           "aaxis": {
            "gridcolor": "white",
            "linecolor": "white",
            "ticks": ""
           },
           "baxis": {
            "gridcolor": "white",
            "linecolor": "white",
            "ticks": ""
           },
           "bgcolor": "#E5ECF6",
           "caxis": {
            "gridcolor": "white",
            "linecolor": "white",
            "ticks": ""
           }
          },
          "title": {
           "x": 0.05
          },
          "xaxis": {
           "automargin": true,
           "gridcolor": "white",
           "linecolor": "white",
           "ticks": "",
           "title": {
            "standoff": 15
           },
           "zerolinecolor": "white",
           "zerolinewidth": 2
          },
          "yaxis": {
           "automargin": true,
           "gridcolor": "white",
           "linecolor": "white",
           "ticks": "",
           "title": {
            "standoff": 15
           },
           "zerolinecolor": "white",
           "zerolinewidth": 2
          }
         }
        },
        "title": {
         "text": "Number of events per country"
        },
        "width": 1000
       }
      }
     },
     "metadata": {},
     "output_type": "display_data"
    }
   ],
   "source": [
    "# worldmap by number of events\n",
    "\n",
    "fig = px.choropleth(\n",
    "    event_counts,\n",
    "    locations=\"country\",\n",
    "    locationmode=\"ISO-3\",\n",
    "    color=\"event_count\",\n",
    "    title=\"Number of events per country\",\n",
    "    color_continuous_scale=px.colors.sequential.RdPu,\n",
    ")\n",
    "\n",
    "\n",
    "fig.update_layout(width=1000, height=600)\n"
   ]
  },
  {
   "cell_type": "markdown",
   "metadata": {},
   "source": [
    "## map athletes"
   ]
  },
  {
   "cell_type": "code",
   "execution_count": 168,
   "metadata": {},
   "outputs": [],
   "source": [
    "# using correction to column person_flg\n",
    "df_stats[\"person_flag\"] = df_stats[\"person_flag\"].replace(corrections)"
   ]
  },
  {
   "cell_type": "code",
   "execution_count": 171,
   "metadata": {},
   "outputs": [],
   "source": [
    "# Mapping of country code to country name + use for new column\n",
    "\n",
    "country_mapping = {country.alpha_3: country.name for country in pycountry.countries}"
   ]
  },
  {
   "cell_type": "code",
   "execution_count": 174,
   "metadata": {},
   "outputs": [],
   "source": [
    "df_stats[\"country\"] = df_stats[\"person_flag\"].map(country_mapping)"
   ]
  },
  {
   "cell_type": "markdown",
   "metadata": {},
   "source": [
    "Count of events to show on a map"
   ]
  },
  {
   "cell_type": "code",
   "execution_count": 175,
   "metadata": {},
   "outputs": [],
   "source": [
    "# Number of events by country\n",
    "\n",
    "athletes_counts = df_stats[\"person_flag\"].value_counts().reset_index()\n",
    "athletes_counts.columns = [\"country\", \"athletes_count\"]"
   ]
  },
  {
   "cell_type": "code",
   "execution_count": 176,
   "metadata": {},
   "outputs": [],
   "source": [
    "# merge world map with df_events\n",
    "\n",
    "world_athletes = world.merge(event_counts, how=\"left\", left_on=\"SOVEREIGNT\", right_on=\"country\", suffixes=(\"\", \"_duplicate\"))\n",
    "world_athletes = world.drop(columns=[col for col in world.columns if \"_duplicate\" in col])\n"
   ]
  },
  {
   "cell_type": "code",
   "execution_count": 179,
   "metadata": {},
   "outputs": [
    {
     "data": {
      "application/vnd.plotly.v1+json": {
       "config": {
        "plotlyServerURL": "https://plot.ly"
       },
       "data": [
        {
         "coloraxis": "coloraxis",
         "geo": "geo",
         "hovertemplate": "country=%{location}<br>athletes_count=%{z}<extra></extra>",
         "locationmode": "ISO-3",
         "locations": [
          "USA",
          "DEU",
          "AUS",
          "GBR",
          "CAN",
          "FRA",
          "RUS",
          "ZAF",
          "ITA",
          "BRA",
          "MEX",
          "ESP",
          "AUT",
          "CHE",
          "NLD",
          "JPN",
          "DNK",
          "NZL",
          "BEL",
          "SWE",
          "ARG",
          "POL",
          "IRL",
          "PHL",
          "COL",
          "CHL",
          "ISR",
          "FIN",
          "NOR",
          "CHN",
          "CZE",
          "TWN",
          "HUN",
          "SGP",
          "ECU",
          "PRT",
          "KOR",
          "EST",
          "CRI",
          "HKG",
          "UKR",
          "MYS",
          "PRI",
          "VEN",
          "TUR",
          "SVK",
          "THA",
          "SVN",
          "KAZ",
          "IND",
          "BLR",
          "GRC",
          "GTM",
          "LUX",
          "PER",
          "HRV",
          "PAN",
          "EGY",
          "ROU",
          "IDN",
          "VNM",
          "LVA",
          "URY",
          "MAR",
          "ARE",
          "SRB",
          "LTU",
          "BRN",
          "CYP",
          "DOM",
          "BMU",
          "ISL",
          "SLV",
          "MLT",
          "PRY",
          "BOL",
          "BGR",
          "ZWE",
          "SOM",
          "CUB",
          "KGZ",
          "LBN",
          "HND",
          "UZB",
          "AND",
          "KSA",
          "KUW",
          "IRN",
          "MUS",
          "MAC",
          "NAM",
          "ABW",
          "AZE",
          "BRB",
          "QAT",
          "TUN",
          "TTO",
          "BIH",
          "NCL",
          "CYM",
          "VIR",
          "JOR",
          "JEY",
          "MCO",
          "GLP",
          "ARM",
          "OMN",
          "GUM",
          "REU",
          "LKA",
          "GIB",
          "MDA",
          "LIE",
          "JAM",
          "SYR",
          "BHS",
          "MKD",
          "NIC",
          "KEN",
          "SWZ",
          "GEO",
          "GHA",
          "IMN",
          "DZA",
          "UMI",
          "MNG",
          "GGY",
          "PAK",
          "MTQ",
          "ALB",
          "PYF",
          "BWA",
          "MNE",
          "ANT",
          "COK",
          "AFG",
          "SLE",
          "IRQ",
          "VGB",
          "COD",
          "ATA",
          "PLE",
          "NPL",
          "FJI",
          "GRD",
          "WSM",
          "BAN",
          "ASA",
          "FRO",
          "SCG",
          "ANG",
          "PNG",
          "NGA",
          "MOZ",
          "KNA",
          "BIZ",
          "CUW",
          "SEN",
          "SMR",
          "MNP",
          "SEY",
          "LBA",
          "SLB",
          "CIV",
          "MYA",
          "MDG",
          "GUF",
          "VAT",
          "NFK",
          "UGA",
          "GAB",
          "BLM",
          "CAM",
          "MDV",
          "GRL",
          "BRU",
          "LCA",
          "RWA",
          "DMA",
          "ZAM",
          "HAI",
          "ETH",
          "NIG",
          "SUR",
          "AHO",
          "CXR",
          "CAF",
          "LAO",
          "CGO",
          "XKX",
          "SUD",
          "VAN",
          "CPV",
          "ALA",
          "CHA",
          "TGA",
          "TAN",
          "FLK",
          "SXM",
          "PLW",
          "BES",
          "FSM",
          "CMR",
          "MAF",
          "SPM",
          "ATF",
          "PRK",
          "YEM",
          "AIA",
          "DJI",
          "MSR",
          "TOG",
          "BEN",
          "BDI",
          "TJK",
          "CCK",
          "GUY",
          "GAM",
          "BHU",
          "GEQ",
          "TKM",
          "NIU",
          "BUR",
          "COM",
          "ERI",
          "GBS",
          "MHL",
          "PCN",
          "ESH",
          "IOT",
          "LBR",
          "NRU",
          "TUV",
          "TCA",
          "KIR",
          "BVT",
          "VIN",
          "SGS",
          "MYT",
          "MLI",
          "STP",
          "SJM",
          "HMD",
          "SHN",
          "TKL",
          "WLF",
          "TLS",
          "MAW",
          "GUI",
          "SSD"
         ],
         "name": "",
         "type": "choropleth",
         "z": {
          "bdata": "sTkOAHXzAgD37QIA1+MCACouAgBvgQEAWHEBAPcXAQC0+QAAjuoAABbmAABw3gAAoLYAANKyAAC5rwAAMagAAPKLAAAPiwAAWYMAAPh8AAAecgAA8nEAAMhrAACBXgAA4EMAADg8AADYOwAAajoAAPIzAAA+MAAAZy8AAEQuAAAMKwAA8CYAABYlAAAbIwAAyCIAADgeAAB5HQAAfRkAALUYAAADGAAA1RYAAK0WAABdFQAAEBQAACQTAAAWEwAAlxIAANcRAADNEAAAERAAAOoPAACODwAAMA4AAFQNAABWCwAAzwoAAHEKAABZCAAAPwgAAAAIAAD2BwAAhwcAAG8HAABqBgAATwYAAAoGAAABBgAA+QQAANMEAACOBAAAGQQAAA4EAACRAwAAXgMAABkDAAASAwAA7wIAAMECAAB0AgAAZgIAAC0CAAAaAgAADgIAAOYBAADjAQAA1QEAAM8BAADIAQAAwQEAALUBAACnAQAApgEAAI4BAACLAQAAhwEAAHsBAABuAQAAYgEAAGABAABeAQAAWQEAAE8BAAA7AQAALAEAABoBAAARAQAADgEAAAwBAAAIAQAABAEAAPgAAADzAAAA6gAAAOoAAADkAAAA5AAAAN8AAADWAAAAxQAAALUAAACpAAAApgAAAKEAAACZAAAAiwAAAIYAAACEAAAAfwAAAHwAAAB7AAAAeQAAAHkAAAB2AAAAbwAAAG0AAABmAAAAZAAAAGQAAABjAAAAYgAAAGEAAABaAAAAWAAAAFIAAABOAAAATQAAAE0AAABMAAAATAAAAEwAAABIAAAASAAAAEUAAABDAAAAQAAAAEAAAAA/AAAAPwAAAD0AAAA7AAAAOQAAADgAAAA1AAAAMgAAAC0AAAAsAAAALAAAACsAAAArAAAAKgAAACkAAAAmAAAAJAAAACQAAAAkAAAAIwAAACIAAAAiAAAAHgAAAB4AAAAeAAAAHgAAAB0AAAAcAAAAGwAAABoAAAAaAAAAGQAAABkAAAAZAAAAGQAAABgAAAAXAAAAFwAAABYAAAAWAAAAFQAAABUAAAAVAAAAFAAAABMAAAATAAAAEwAAABIAAAASAAAADwAAAA8AAAAPAAAADwAAAA4AAAAOAAAADgAAAA4AAAANAAAADAAAAAwAAAAMAAAADAAAAAsAAAALAAAACwAAAAsAAAAKAAAACQAAAAgAAAAIAAAACAAAAAcAAAAHAAAABwAAAAcAAAAHAAAABgAAAAYAAAAGAAAABQAAAAQAAAAEAAAABAAAAAMAAAADAAAAAwAAAAIAAAACAAAAAgAAAAIAAAACAAAAAQAAAA==",
          "dtype": "i4"
         }
        }
       ],
       "layout": {
        "coloraxis": {
         "colorbar": {
          "title": {
           "text": "athletes_count"
          }
         },
         "colorscale": [
          [
           0,
           "rgb(255,247,243)"
          ],
          [
           0.125,
           "rgb(253,224,221)"
          ],
          [
           0.25,
           "rgb(252,197,192)"
          ],
          [
           0.375,
           "rgb(250,159,181)"
          ],
          [
           0.5,
           "rgb(247,104,161)"
          ],
          [
           0.625,
           "rgb(221,52,151)"
          ],
          [
           0.75,
           "rgb(174,1,126)"
          ],
          [
           0.875,
           "rgb(122,1,119)"
          ],
          [
           1,
           "rgb(73,0,106)"
          ]
         ]
        },
        "geo": {
         "center": {},
         "domain": {
          "x": [
           0,
           1
          ],
          "y": [
           0,
           1
          ]
         }
        },
        "height": 600,
        "legend": {
         "tracegroupgap": 0
        },
        "template": {
         "data": {
          "bar": [
           {
            "error_x": {
             "color": "#2a3f5f"
            },
            "error_y": {
             "color": "#2a3f5f"
            },
            "marker": {
             "line": {
              "color": "#E5ECF6",
              "width": 0.5
             },
             "pattern": {
              "fillmode": "overlay",
              "size": 10,
              "solidity": 0.2
             }
            },
            "type": "bar"
           }
          ],
          "barpolar": [
           {
            "marker": {
             "line": {
              "color": "#E5ECF6",
              "width": 0.5
             },
             "pattern": {
              "fillmode": "overlay",
              "size": 10,
              "solidity": 0.2
             }
            },
            "type": "barpolar"
           }
          ],
          "carpet": [
           {
            "aaxis": {
             "endlinecolor": "#2a3f5f",
             "gridcolor": "white",
             "linecolor": "white",
             "minorgridcolor": "white",
             "startlinecolor": "#2a3f5f"
            },
            "baxis": {
             "endlinecolor": "#2a3f5f",
             "gridcolor": "white",
             "linecolor": "white",
             "minorgridcolor": "white",
             "startlinecolor": "#2a3f5f"
            },
            "type": "carpet"
           }
          ],
          "choropleth": [
           {
            "colorbar": {
             "outlinewidth": 0,
             "ticks": ""
            },
            "type": "choropleth"
           }
          ],
          "contour": [
           {
            "colorbar": {
             "outlinewidth": 0,
             "ticks": ""
            },
            "colorscale": [
             [
              0,
              "#0d0887"
             ],
             [
              0.1111111111111111,
              "#46039f"
             ],
             [
              0.2222222222222222,
              "#7201a8"
             ],
             [
              0.3333333333333333,
              "#9c179e"
             ],
             [
              0.4444444444444444,
              "#bd3786"
             ],
             [
              0.5555555555555556,
              "#d8576b"
             ],
             [
              0.6666666666666666,
              "#ed7953"
             ],
             [
              0.7777777777777778,
              "#fb9f3a"
             ],
             [
              0.8888888888888888,
              "#fdca26"
             ],
             [
              1,
              "#f0f921"
             ]
            ],
            "type": "contour"
           }
          ],
          "contourcarpet": [
           {
            "colorbar": {
             "outlinewidth": 0,
             "ticks": ""
            },
            "type": "contourcarpet"
           }
          ],
          "heatmap": [
           {
            "colorbar": {
             "outlinewidth": 0,
             "ticks": ""
            },
            "colorscale": [
             [
              0,
              "#0d0887"
             ],
             [
              0.1111111111111111,
              "#46039f"
             ],
             [
              0.2222222222222222,
              "#7201a8"
             ],
             [
              0.3333333333333333,
              "#9c179e"
             ],
             [
              0.4444444444444444,
              "#bd3786"
             ],
             [
              0.5555555555555556,
              "#d8576b"
             ],
             [
              0.6666666666666666,
              "#ed7953"
             ],
             [
              0.7777777777777778,
              "#fb9f3a"
             ],
             [
              0.8888888888888888,
              "#fdca26"
             ],
             [
              1,
              "#f0f921"
             ]
            ],
            "type": "heatmap"
           }
          ],
          "histogram": [
           {
            "marker": {
             "pattern": {
              "fillmode": "overlay",
              "size": 10,
              "solidity": 0.2
             }
            },
            "type": "histogram"
           }
          ],
          "histogram2d": [
           {
            "colorbar": {
             "outlinewidth": 0,
             "ticks": ""
            },
            "colorscale": [
             [
              0,
              "#0d0887"
             ],
             [
              0.1111111111111111,
              "#46039f"
             ],
             [
              0.2222222222222222,
              "#7201a8"
             ],
             [
              0.3333333333333333,
              "#9c179e"
             ],
             [
              0.4444444444444444,
              "#bd3786"
             ],
             [
              0.5555555555555556,
              "#d8576b"
             ],
             [
              0.6666666666666666,
              "#ed7953"
             ],
             [
              0.7777777777777778,
              "#fb9f3a"
             ],
             [
              0.8888888888888888,
              "#fdca26"
             ],
             [
              1,
              "#f0f921"
             ]
            ],
            "type": "histogram2d"
           }
          ],
          "histogram2dcontour": [
           {
            "colorbar": {
             "outlinewidth": 0,
             "ticks": ""
            },
            "colorscale": [
             [
              0,
              "#0d0887"
             ],
             [
              0.1111111111111111,
              "#46039f"
             ],
             [
              0.2222222222222222,
              "#7201a8"
             ],
             [
              0.3333333333333333,
              "#9c179e"
             ],
             [
              0.4444444444444444,
              "#bd3786"
             ],
             [
              0.5555555555555556,
              "#d8576b"
             ],
             [
              0.6666666666666666,
              "#ed7953"
             ],
             [
              0.7777777777777778,
              "#fb9f3a"
             ],
             [
              0.8888888888888888,
              "#fdca26"
             ],
             [
              1,
              "#f0f921"
             ]
            ],
            "type": "histogram2dcontour"
           }
          ],
          "mesh3d": [
           {
            "colorbar": {
             "outlinewidth": 0,
             "ticks": ""
            },
            "type": "mesh3d"
           }
          ],
          "parcoords": [
           {
            "line": {
             "colorbar": {
              "outlinewidth": 0,
              "ticks": ""
             }
            },
            "type": "parcoords"
           }
          ],
          "pie": [
           {
            "automargin": true,
            "type": "pie"
           }
          ],
          "scatter": [
           {
            "fillpattern": {
             "fillmode": "overlay",
             "size": 10,
             "solidity": 0.2
            },
            "type": "scatter"
           }
          ],
          "scatter3d": [
           {
            "line": {
             "colorbar": {
              "outlinewidth": 0,
              "ticks": ""
             }
            },
            "marker": {
             "colorbar": {
              "outlinewidth": 0,
              "ticks": ""
             }
            },
            "type": "scatter3d"
           }
          ],
          "scattercarpet": [
           {
            "marker": {
             "colorbar": {
              "outlinewidth": 0,
              "ticks": ""
             }
            },
            "type": "scattercarpet"
           }
          ],
          "scattergeo": [
           {
            "marker": {
             "colorbar": {
              "outlinewidth": 0,
              "ticks": ""
             }
            },
            "type": "scattergeo"
           }
          ],
          "scattergl": [
           {
            "marker": {
             "colorbar": {
              "outlinewidth": 0,
              "ticks": ""
             }
            },
            "type": "scattergl"
           }
          ],
          "scattermap": [
           {
            "marker": {
             "colorbar": {
              "outlinewidth": 0,
              "ticks": ""
             }
            },
            "type": "scattermap"
           }
          ],
          "scattermapbox": [
           {
            "marker": {
             "colorbar": {
              "outlinewidth": 0,
              "ticks": ""
             }
            },
            "type": "scattermapbox"
           }
          ],
          "scatterpolar": [
           {
            "marker": {
             "colorbar": {
              "outlinewidth": 0,
              "ticks": ""
             }
            },
            "type": "scatterpolar"
           }
          ],
          "scatterpolargl": [
           {
            "marker": {
             "colorbar": {
              "outlinewidth": 0,
              "ticks": ""
             }
            },
            "type": "scatterpolargl"
           }
          ],
          "scatterternary": [
           {
            "marker": {
             "colorbar": {
              "outlinewidth": 0,
              "ticks": ""
             }
            },
            "type": "scatterternary"
           }
          ],
          "surface": [
           {
            "colorbar": {
             "outlinewidth": 0,
             "ticks": ""
            },
            "colorscale": [
             [
              0,
              "#0d0887"
             ],
             [
              0.1111111111111111,
              "#46039f"
             ],
             [
              0.2222222222222222,
              "#7201a8"
             ],
             [
              0.3333333333333333,
              "#9c179e"
             ],
             [
              0.4444444444444444,
              "#bd3786"
             ],
             [
              0.5555555555555556,
              "#d8576b"
             ],
             [
              0.6666666666666666,
              "#ed7953"
             ],
             [
              0.7777777777777778,
              "#fb9f3a"
             ],
             [
              0.8888888888888888,
              "#fdca26"
             ],
             [
              1,
              "#f0f921"
             ]
            ],
            "type": "surface"
           }
          ],
          "table": [
           {
            "cells": {
             "fill": {
              "color": "#EBF0F8"
             },
             "line": {
              "color": "white"
             }
            },
            "header": {
             "fill": {
              "color": "#C8D4E3"
             },
             "line": {
              "color": "white"
             }
            },
            "type": "table"
           }
          ]
         },
         "layout": {
          "annotationdefaults": {
           "arrowcolor": "#2a3f5f",
           "arrowhead": 0,
           "arrowwidth": 1
          },
          "autotypenumbers": "strict",
          "coloraxis": {
           "colorbar": {
            "outlinewidth": 0,
            "ticks": ""
           }
          },
          "colorscale": {
           "diverging": [
            [
             0,
             "#8e0152"
            ],
            [
             0.1,
             "#c51b7d"
            ],
            [
             0.2,
             "#de77ae"
            ],
            [
             0.3,
             "#f1b6da"
            ],
            [
             0.4,
             "#fde0ef"
            ],
            [
             0.5,
             "#f7f7f7"
            ],
            [
             0.6,
             "#e6f5d0"
            ],
            [
             0.7,
             "#b8e186"
            ],
            [
             0.8,
             "#7fbc41"
            ],
            [
             0.9,
             "#4d9221"
            ],
            [
             1,
             "#276419"
            ]
           ],
           "sequential": [
            [
             0,
             "#0d0887"
            ],
            [
             0.1111111111111111,
             "#46039f"
            ],
            [
             0.2222222222222222,
             "#7201a8"
            ],
            [
             0.3333333333333333,
             "#9c179e"
            ],
            [
             0.4444444444444444,
             "#bd3786"
            ],
            [
             0.5555555555555556,
             "#d8576b"
            ],
            [
             0.6666666666666666,
             "#ed7953"
            ],
            [
             0.7777777777777778,
             "#fb9f3a"
            ],
            [
             0.8888888888888888,
             "#fdca26"
            ],
            [
             1,
             "#f0f921"
            ]
           ],
           "sequentialminus": [
            [
             0,
             "#0d0887"
            ],
            [
             0.1111111111111111,
             "#46039f"
            ],
            [
             0.2222222222222222,
             "#7201a8"
            ],
            [
             0.3333333333333333,
             "#9c179e"
            ],
            [
             0.4444444444444444,
             "#bd3786"
            ],
            [
             0.5555555555555556,
             "#d8576b"
            ],
            [
             0.6666666666666666,
             "#ed7953"
            ],
            [
             0.7777777777777778,
             "#fb9f3a"
            ],
            [
             0.8888888888888888,
             "#fdca26"
            ],
            [
             1,
             "#f0f921"
            ]
           ]
          },
          "colorway": [
           "#636efa",
           "#EF553B",
           "#00cc96",
           "#ab63fa",
           "#FFA15A",
           "#19d3f3",
           "#FF6692",
           "#B6E880",
           "#FF97FF",
           "#FECB52"
          ],
          "font": {
           "color": "#2a3f5f"
          },
          "geo": {
           "bgcolor": "white",
           "lakecolor": "white",
           "landcolor": "#E5ECF6",
           "showlakes": true,
           "showland": true,
           "subunitcolor": "white"
          },
          "hoverlabel": {
           "align": "left"
          },
          "hovermode": "closest",
          "mapbox": {
           "style": "light"
          },
          "paper_bgcolor": "white",
          "plot_bgcolor": "#E5ECF6",
          "polar": {
           "angularaxis": {
            "gridcolor": "white",
            "linecolor": "white",
            "ticks": ""
           },
           "bgcolor": "#E5ECF6",
           "radialaxis": {
            "gridcolor": "white",
            "linecolor": "white",
            "ticks": ""
           }
          },
          "scene": {
           "xaxis": {
            "backgroundcolor": "#E5ECF6",
            "gridcolor": "white",
            "gridwidth": 2,
            "linecolor": "white",
            "showbackground": true,
            "ticks": "",
            "zerolinecolor": "white"
           },
           "yaxis": {
            "backgroundcolor": "#E5ECF6",
            "gridcolor": "white",
            "gridwidth": 2,
            "linecolor": "white",
            "showbackground": true,
            "ticks": "",
            "zerolinecolor": "white"
           },
           "zaxis": {
            "backgroundcolor": "#E5ECF6",
            "gridcolor": "white",
            "gridwidth": 2,
            "linecolor": "white",
            "showbackground": true,
            "ticks": "",
            "zerolinecolor": "white"
           }
          },
          "shapedefaults": {
           "line": {
            "color": "#2a3f5f"
           }
          },
          "ternary": {
           "aaxis": {
            "gridcolor": "white",
            "linecolor": "white",
            "ticks": ""
           },
           "baxis": {
            "gridcolor": "white",
            "linecolor": "white",
            "ticks": ""
           },
           "bgcolor": "#E5ECF6",
           "caxis": {
            "gridcolor": "white",
            "linecolor": "white",
            "ticks": ""
           }
          },
          "title": {
           "x": 0.05
          },
          "xaxis": {
           "automargin": true,
           "gridcolor": "white",
           "linecolor": "white",
           "ticks": "",
           "title": {
            "standoff": 15
           },
           "zerolinecolor": "white",
           "zerolinewidth": 2
          },
          "yaxis": {
           "automargin": true,
           "gridcolor": "white",
           "linecolor": "white",
           "ticks": "",
           "title": {
            "standoff": 15
           },
           "zerolinecolor": "white",
           "zerolinewidth": 2
          }
         }
        },
        "title": {
         "text": "Number of athletes per country"
        },
        "width": 1000
       }
      }
     },
     "metadata": {},
     "output_type": "display_data"
    }
   ],
   "source": [
    "# worldmap by number of events\n",
    "\n",
    "fig = px.choropleth(\n",
    "    athletes_counts,\n",
    "    locations=\"country\",\n",
    "    locationmode=\"ISO-3\",\n",
    "    color=\"athletes_count\",\n",
    "    title=\"Number of athletes per country\",\n",
    "    color_continuous_scale=px.colors.sequential.RdPu,\n",
    ")\n",
    "\n",
    "\n",
    "fig.update_layout(width=1000, height=600)\n"
   ]
  },
  {
   "cell_type": "markdown",
   "metadata": {},
   "source": [
    "# Visualisation questions"
   ]
  },
  {
   "cell_type": "markdown",
   "metadata": {},
   "source": [
    "### 1. growth\n",
    "    number of events per year as dots on a map \n",
    "    number of athletes or new athletes per year"
   ]
  }
 ],
 "metadata": {
  "kernelspec": {
   "display_name": "base",
   "language": "python",
   "name": "python3"
  },
  "language_info": {
   "codemirror_mode": {
    "name": "ipython",
    "version": 3
   },
   "file_extension": ".py",
   "mimetype": "text/x-python",
   "name": "python",
   "nbconvert_exporter": "python",
   "pygments_lexer": "ipython3",
   "version": "3.9.20"
  }
 },
 "nbformat": 4,
 "nbformat_minor": 2
}
