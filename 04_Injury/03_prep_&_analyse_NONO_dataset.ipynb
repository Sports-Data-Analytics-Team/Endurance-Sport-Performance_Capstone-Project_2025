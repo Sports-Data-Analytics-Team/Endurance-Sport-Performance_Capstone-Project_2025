{
 "cells": [
  {
   "cell_type": "markdown",
   "metadata": {},
   "source": [
    "# internal Dataset - ANALYSES (Hypothesis 3a)\n",
    "\n",
    "## context\n",
    "This internal dataset is one individual's (Nono's) training data over 7 years of training for Triathlon including 4 injuries.\n",
    "\n",
    "## aim\n",
    "We want to see, if we can also verify the Hypothesis 3a (\"There is a significant change in training before an injury\").\n",
    "\n",
    "As Nono's injury mostly were related to running, we mainly focus on that part of the training. Nevertheless we build an aggregated column with relative distance, because 1km swimming is different then 1km cycling or running.  \n",
    "\n",
    "## process\n",
    "1. preparing \n",
    "    bringing the data in the same aggregated condition as the injury-datasets.\n",
    "    - fill up all days \n",
    "    - drop columns & build new columns for\n",
    "        - Injury\n",
    "        - mileage (RunDistance in km)\n",
    "        - Sessions\n",
    "        - Rest Days\n",
    "        - relative distance (RelTriDistance: weighting depending on ratio during short&middle distance Triathlon)\n",
    "\n",
    "    - build structure of 3-weeks-perspective from every daypoint with .rolling\n",
    "        - w1_\n",
    "        - w2_\n",
    "        - w3_\n",
    "2. Analyses\n",
    "    - distribution: Shapiro-Wilk-Test\n",
    "    - significance: \n",
    "        - T-Test (due to normal distribution)  \n",
    "        - Mann-Whitnyey-U-Test (due to Imbalance of sample size of the two groups)\n",
    "        - Permutation Test\n",
    "        - boxplot\n",
    "\n",
    "## result\n",
    "Unlike in the comparative data set, the data here is often normally distributed.\n",
    "\n",
    "As the two groups (injury = 1 vs injury =0) we had to try several testing procedures and after comparing them we come to the result that we have significant differences before an injury on the following features:\n",
    "- significance on all three tests:\n",
    "    - w3_RunKm (✅ all)\n",
    "    - w3_RelTriDistance (✅ all )\n",
    "\n",
    "- significance on two test\n",
    "    - w4_RunKm (✅ T-Test, Mann-Whitney U-Test)\n",
    "    - m_RunKm (✅ Mann-Whitney U-Test, Permutation Test)\n",
    "    - w3_Sessions (✅ Mann-Whitney U-Test, Permutation Test)\n",
    "\n",
    "- significance on one test\n",
    "    - w1_KmZ5 (✅ T-Test)\n",
    "    - w3_KmZ5 (✅ T-Test)\n",
    "    - w1_RestDays (✅ T-Test)\n",
    "    - w2_KmZ5 (✅ Mann-Whitney U-Test)\n",
    "\n",
    "## further steps\n",
    "Compare if in the Open Source Dataset there are differences between athletes, too"
   ]
  },
  {
   "cell_type": "markdown",
   "metadata": {},
   "source": [
    "---------------------------------------"
   ]
  },
  {
   "cell_type": "code",
   "execution_count": 4,
   "metadata": {},
   "outputs": [],
   "source": [
    "## import relevant packages\n",
    "\n",
    "import pandas as pd\n",
    "import numpy as np\n",
    "\n",
    "import matplotlib.pyplot as plt\n",
    "import seaborn as sns\n",
    "import io\n",
    "from scipy import stats\n",
    "from scipy.stats import shapiro\n",
    "\n",
    "import warnings\n",
    "warnings.filterwarnings(\"ignore\")"
   ]
  },
  {
   "cell_type": "markdown",
   "metadata": {},
   "source": [
    "# _reading data"
   ]
  },
  {
   "cell_type": "markdown",
   "metadata": {},
   "source": [
    "### SQAlchemy"
   ]
  },
  {
   "cell_type": "code",
   "execution_count": 1,
   "metadata": {},
   "outputs": [],
   "source": [
    "from sqlalchemy import create_engine, types\n",
    "from sqlalchemy import text # to be able to pass string\n",
    "from sqlalchemy.exc import SQLAlchemyError\n",
    "from dotenv import dotenv_values # to load the data from .env file"
   ]
  },
  {
   "cell_type": "markdown",
   "metadata": {},
   "source": [
    "preparing the connection"
   ]
  },
  {
   "cell_type": "code",
   "execution_count": 2,
   "metadata": {},
   "outputs": [],
   "source": [
    "#load the data from .env file\n",
    "config = dotenv_values()\n",
    "\n",
    "# define variables for the login\n",
    "pg_user = config['AZURE_USER'] \n",
    "pg_host = config['AZURE_HOST']\n",
    "pg_port = config['AZURE_PORT']\n",
    "pg_db = config['AZURE_DB']\n",
    "pg_schema = config['AZURE_SCHEMA']\n",
    "pg_pass = config['AZURE_PASS']\n",
    "\n",
    "# build the URL\n",
    "url = f'postgresql://{pg_user}:{pg_pass}@{pg_host}:{pg_port}/{pg_db}'\n",
    "\n",
    "# create the engine\n",
    "engine = create_engine(url, echo=False)\n",
    "engine.url\n",
    "\n",
    "# build the search path\n",
    "my_schema = pg_schema \n",
    "with engine.begin() as conn: \n",
    "    result = conn.execute(text(f'SET search_path TO {my_schema};'))"
   ]
  },
  {
   "cell_type": "markdown",
   "metadata": {},
   "source": [
    "testing the connection"
   ]
  },
  {
   "cell_type": "code",
   "execution_count": 3,
   "metadata": {},
   "outputs": [
    {
     "name": "stdout",
     "output_type": "stream",
     "text": [
      "Connection successful!\n"
     ]
    },
    {
     "data": {
      "text/plain": [
       "True"
      ]
     },
     "execution_count": 3,
     "metadata": {},
     "output_type": "execute_result"
    }
   ],
   "source": [
    "def test_db_connection(engine):\n",
    "    try:\n",
    "        connection = engine.connect() # including 'connection' as variable to close the connection\n",
    "        print(\"Connection successful!\")\n",
    "        connection.close() # closing the connection\n",
    "        return True\n",
    "    except SQLAlchemyError as e:\n",
    "        print(f\"Connection failed: {e}\")\n",
    "        return False\n",
    "\n",
    "# Test the connection\n",
    "test_db_connection(engine)"
   ]
  },
  {
   "cell_type": "markdown",
   "metadata": {},
   "source": [
    "reading DataFrames FROM Database"
   ]
  },
  {
   "cell_type": "code",
   "execution_count": 5,
   "metadata": {},
   "outputs": [
    {
     "name": "stdout",
     "output_type": "stream",
     "text": [
      "<class 'pandas.core.frame.DataFrame'>\n",
      "RangeIndex: 1038 entries, 0 to 1037\n",
      "Data columns (total 85 columns):\n",
      " #   Column                 Non-Null Count  Dtype  \n",
      "---  ------                 --------------  -----  \n",
      " 0   activity id            1038 non-null   int64  \n",
      " 1   date                   1038 non-null   object \n",
      " 2   activity date          1038 non-null   object \n",
      " 3   sport                  1038 non-null   object \n",
      " 4   activity type          1038 non-null   object \n",
      " 5   start time             1038 non-null   object \n",
      " 6   moving time            1038 non-null   object \n",
      " 7   elapsed time           945 non-null    object \n",
      " 8   finish time            945 non-null    object \n",
      " 9   swim pace              240 non-null    object \n",
      " 10  bike pace              413 non-null    object \n",
      " 11  run pace               379 non-null    object \n",
      " 12  distance               1035 non-null   float64\n",
      " 13  avg heart rate         685 non-null    float64\n",
      " 14  avg heart rate zone    1038 non-null   object \n",
      " 15  max heart rate         157 non-null    float64\n",
      " 16  max heart rate yearly  1038 non-null   int64  \n",
      " 17  avg speed              853 non-null    float64\n",
      " 18  max speed              927 non-null    float64\n",
      " 19  avg elapsed speed      479 non-null    float64\n",
      " 20  relative effort        522 non-null    float64\n",
      " 21  calories               908 non-null    float64\n",
      " 22  pool length            33 non-null     float64\n",
      " 23  elevation gain         764 non-null    float64\n",
      " 24  elevation loss         748 non-null    float64\n",
      " 25  elevation low          753 non-null    float64\n",
      " 26  elevation high         753 non-null    float64\n",
      " 27  max grade              784 non-null    float64\n",
      " 28  avg grade              792 non-null    float64\n",
      " 29  avg watts              367 non-null    float64\n",
      " 30  avg cadence            529 non-null    float64\n",
      " 31  max cadence            529 non-null    float64\n",
      " 32  activity name          945 non-null    object \n",
      " 33  activity description   374 non-null    object \n",
      " 34  perceived exertion     197 non-null    float64\n",
      " 35  event                  1038 non-null   object \n",
      " 36  injury description     1038 non-null   object \n",
      " 37  filename               927 non-null    object \n",
      " 38  filenumber             1038 non-null   int64  \n",
      " 39  below zones            341 non-null    float64\n",
      " 40  no hr collected        341 non-null    float64\n",
      " 41  z1                     341 non-null    float64\n",
      " 42  z2                     341 non-null    float64\n",
      " 43  z3                     341 non-null    float64\n",
      " 44  z4                     341 non-null    float64\n",
      " 45  z5                     341 non-null    float64\n",
      " 46  time low zones         341 non-null    float64\n",
      " 47  time high zones        341 non-null    float64\n",
      " 48  training mode          341 non-null    object \n",
      " 49  dist below zones       341 non-null    float64\n",
      " 50  dist no hr collected   341 non-null    float64\n",
      " 51  dist z1                341 non-null    float64\n",
      " 52  dist z2                341 non-null    float64\n",
      " 53  dist z3                341 non-null    float64\n",
      " 54  dist z4                341 non-null    float64\n",
      " 55  dist z5                341 non-null    float64\n",
      " 56  cycle id               761 non-null    float64\n",
      " 57  wake onset             761 non-null    object \n",
      " 58  to bed date            761 non-null    object \n",
      " 59  sleep onset            761 non-null    object \n",
      " 60  sleep performance      761 non-null    float64\n",
      " 61  recovery score         761 non-null    float64\n",
      " 62  day strain             760 non-null    float64\n",
      " 63  rhr                    761 non-null    float64\n",
      " 64  hrv                    761 non-null    float64\n",
      " 65  respiratory rate       761 non-null    float64\n",
      " 66  asleep duration        761 non-null    float64\n",
      " 67  in bed duration        761 non-null    float64\n",
      " 68  light sleep duration   761 non-null    float64\n",
      " 69  deep sleep duration    761 non-null    float64\n",
      " 70  rem sleep duration     761 non-null    float64\n",
      " 71  awake duration         761 non-null    float64\n",
      " 72  sleep need             761 non-null    float64\n",
      " 73  sleep debt             761 non-null    float64\n",
      " 74  sleep efficiency       761 non-null    float64\n",
      " 75  sleep consistency      761 non-null    float64\n",
      " 76  skin temp              548 non-null    float64\n",
      " 77  blood oxygen           548 non-null    float64\n",
      " 78  cal burned             760 non-null    float64\n",
      " 79  max hr                 760 non-null    float64\n",
      " 80  avg hr                 760 non-null    float64\n",
      " 81  cycle start time       761 non-null    object \n",
      " 82  cycle end time         761 non-null    object \n",
      " 83  cycle timezone         761 non-null    object \n",
      " 84  moving time seconds    1038 non-null   float64\n",
      "dtypes: float64(58), int64(3), object(24)\n",
      "memory usage: 689.4+ KB\n"
     ]
    }
   ],
   "source": [
    "df_train_raw = pd.read_sql(sql=text('SELECT * FROM public.df_activs_plus;'), con=engine)\n",
    "\n",
    "df_train_raw.info()"
   ]
  },
  {
   "cell_type": "markdown",
   "metadata": {},
   "source": [
    "# 1. preparing"
   ]
  },
  {
   "cell_type": "markdown",
   "metadata": {},
   "source": [
    "## 1.1 fill up dates"
   ]
  },
  {
   "cell_type": "markdown",
   "metadata": {},
   "source": [
    "For having a similar dataset we need all days of the period in it and count the days without training as Rest Days."
   ]
  },
  {
   "cell_type": "code",
   "execution_count": 6,
   "metadata": {},
   "outputs": [],
   "source": [
    "# date als datetime\n",
    "\n",
    "df_train_raw['date'] = pd.to_datetime(df_train_raw['date'])"
   ]
  },
  {
   "cell_type": "code",
   "execution_count": 7,
   "metadata": {},
   "outputs": [
    {
     "name": "stdout",
     "output_type": "stream",
     "text": [
      "<class 'pandas.core.frame.DataFrame'>\n",
      "RangeIndex: 2470 entries, 0 to 2469\n",
      "Data columns (total 85 columns):\n",
      " #   Column                 Non-Null Count  Dtype         \n",
      "---  ------                 --------------  -----         \n",
      " 0   date                   2470 non-null   datetime64[ns]\n",
      " 1   activity id            1038 non-null   float64       \n",
      " 2   activity date          1038 non-null   object        \n",
      " 3   sport                  1038 non-null   object        \n",
      " 4   activity type          1038 non-null   object        \n",
      " 5   start time             1038 non-null   object        \n",
      " 6   moving time            1038 non-null   object        \n",
      " 7   elapsed time           945 non-null    object        \n",
      " 8   finish time            945 non-null    object        \n",
      " 9   swim pace              240 non-null    object        \n",
      " 10  bike pace              413 non-null    object        \n",
      " 11  run pace               379 non-null    object        \n",
      " 12  distance               1035 non-null   float64       \n",
      " 13  avg heart rate         685 non-null    float64       \n",
      " 14  avg heart rate zone    1038 non-null   object        \n",
      " 15  max heart rate         157 non-null    float64       \n",
      " 16  max heart rate yearly  1038 non-null   float64       \n",
      " 17  avg speed              853 non-null    float64       \n",
      " 18  max speed              927 non-null    float64       \n",
      " 19  avg elapsed speed      479 non-null    float64       \n",
      " 20  relative effort        522 non-null    float64       \n",
      " 21  calories               908 non-null    float64       \n",
      " 22  pool length            33 non-null     float64       \n",
      " 23  elevation gain         764 non-null    float64       \n",
      " 24  elevation loss         748 non-null    float64       \n",
      " 25  elevation low          753 non-null    float64       \n",
      " 26  elevation high         753 non-null    float64       \n",
      " 27  max grade              784 non-null    float64       \n",
      " 28  avg grade              792 non-null    float64       \n",
      " 29  avg watts              367 non-null    float64       \n",
      " 30  avg cadence            529 non-null    float64       \n",
      " 31  max cadence            529 non-null    float64       \n",
      " 32  activity name          945 non-null    object        \n",
      " 33  activity description   374 non-null    object        \n",
      " 34  perceived exertion     197 non-null    float64       \n",
      " 35  event                  1038 non-null   object        \n",
      " 36  injury description     1038 non-null   object        \n",
      " 37  filename               927 non-null    object        \n",
      " 38  filenumber             1038 non-null   float64       \n",
      " 39  below zones            341 non-null    float64       \n",
      " 40  no hr collected        341 non-null    float64       \n",
      " 41  z1                     341 non-null    float64       \n",
      " 42  z2                     341 non-null    float64       \n",
      " 43  z3                     341 non-null    float64       \n",
      " 44  z4                     341 non-null    float64       \n",
      " 45  z5                     341 non-null    float64       \n",
      " 46  time low zones         341 non-null    float64       \n",
      " 47  time high zones        341 non-null    float64       \n",
      " 48  training mode          341 non-null    object        \n",
      " 49  dist below zones       341 non-null    float64       \n",
      " 50  dist no hr collected   341 non-null    float64       \n",
      " 51  dist z1                341 non-null    float64       \n",
      " 52  dist z2                341 non-null    float64       \n",
      " 53  dist z3                341 non-null    float64       \n",
      " 54  dist z4                341 non-null    float64       \n",
      " 55  dist z5                341 non-null    float64       \n",
      " 56  cycle id               761 non-null    float64       \n",
      " 57  wake onset             761 non-null    object        \n",
      " 58  to bed date            761 non-null    object        \n",
      " 59  sleep onset            761 non-null    object        \n",
      " 60  sleep performance      761 non-null    float64       \n",
      " 61  recovery score         761 non-null    float64       \n",
      " 62  day strain             760 non-null    float64       \n",
      " 63  rhr                    761 non-null    float64       \n",
      " 64  hrv                    761 non-null    float64       \n",
      " 65  respiratory rate       761 non-null    float64       \n",
      " 66  asleep duration        761 non-null    float64       \n",
      " 67  in bed duration        761 non-null    float64       \n",
      " 68  light sleep duration   761 non-null    float64       \n",
      " 69  deep sleep duration    761 non-null    float64       \n",
      " 70  rem sleep duration     761 non-null    float64       \n",
      " 71  awake duration         761 non-null    float64       \n",
      " 72  sleep need             761 non-null    float64       \n",
      " 73  sleep debt             761 non-null    float64       \n",
      " 74  sleep efficiency       761 non-null    float64       \n",
      " 75  sleep consistency      761 non-null    float64       \n",
      " 76  skin temp              548 non-null    float64       \n",
      " 77  blood oxygen           548 non-null    float64       \n",
      " 78  cal burned             760 non-null    float64       \n",
      " 79  max hr                 760 non-null    float64       \n",
      " 80  avg hr                 760 non-null    float64       \n",
      " 81  cycle start time       761 non-null    object        \n",
      " 82  cycle end time         761 non-null    object        \n",
      " 83  cycle timezone         761 non-null    object        \n",
      " 84  moving time seconds    1038 non-null   float64       \n",
      "dtypes: datetime64[ns](1), float64(61), object(23)\n",
      "memory usage: 1.6+ MB\n"
     ]
    }
   ],
   "source": [
    "## fill up with empty date rows (for restdays)\n",
    "\n",
    "# build a date series\n",
    "full_dates = pd.date_range(start=df_train_raw['date'].min(), end=df_train_raw['date'].max(), freq='D')\n",
    "\n",
    "# new dataset with all dates in it\n",
    "df_full = pd.DataFrame({'date': full_dates})\n",
    "\n",
    "# Merge left join on complete data serie\n",
    "df_full_date = df_full.merge(df_train_raw, on='date', how='left')\n",
    "\n",
    "df_full_date.info()"
   ]
  },
  {
   "cell_type": "markdown",
   "metadata": {},
   "source": [
    "Like this there are many cells without entries. Filling them up with '0' as there is f.e. no mileage on a rest day."
   ]
  },
  {
   "cell_type": "code",
   "execution_count": 8,
   "metadata": {},
   "outputs": [],
   "source": [
    "# fill up with 0\n",
    "\n",
    "df_full_date.fillna(0, inplace=True)"
   ]
  },
  {
   "cell_type": "markdown",
   "metadata": {},
   "source": [
    "## 1.2 drop columns"
   ]
  },
  {
   "cell_type": "markdown",
   "metadata": {},
   "source": [
    "Not all columns are necessary for this analysis. "
   ]
  },
  {
   "cell_type": "code",
   "execution_count": 9,
   "metadata": {},
   "outputs": [
    {
     "data": {
      "text/plain": [
       "['date',\n",
       " 'activity id',\n",
       " 'activity date',\n",
       " 'sport',\n",
       " 'activity type',\n",
       " 'start time',\n",
       " 'moving time',\n",
       " 'elapsed time',\n",
       " 'finish time',\n",
       " 'swim pace',\n",
       " 'bike pace',\n",
       " 'run pace',\n",
       " 'distance',\n",
       " 'avg heart rate',\n",
       " 'avg heart rate zone',\n",
       " 'max heart rate',\n",
       " 'max heart rate yearly',\n",
       " 'avg speed',\n",
       " 'max speed',\n",
       " 'avg elapsed speed',\n",
       " 'relative effort',\n",
       " 'calories',\n",
       " 'pool length',\n",
       " 'elevation gain',\n",
       " 'elevation loss',\n",
       " 'elevation low',\n",
       " 'elevation high',\n",
       " 'max grade',\n",
       " 'avg grade',\n",
       " 'avg watts',\n",
       " 'avg cadence',\n",
       " 'max cadence',\n",
       " 'activity name',\n",
       " 'activity description',\n",
       " 'perceived exertion',\n",
       " 'event',\n",
       " 'injury description',\n",
       " 'filename',\n",
       " 'filenumber',\n",
       " 'below zones',\n",
       " 'no hr collected',\n",
       " 'z1',\n",
       " 'z2',\n",
       " 'z3',\n",
       " 'z4',\n",
       " 'z5',\n",
       " 'time low zones',\n",
       " 'time high zones',\n",
       " 'training mode',\n",
       " 'dist below zones',\n",
       " 'dist no hr collected',\n",
       " 'dist z1',\n",
       " 'dist z2',\n",
       " 'dist z3',\n",
       " 'dist z4',\n",
       " 'dist z5',\n",
       " 'cycle id',\n",
       " 'wake onset',\n",
       " 'to bed date',\n",
       " 'sleep onset',\n",
       " 'sleep performance',\n",
       " 'recovery score',\n",
       " 'day strain',\n",
       " 'rhr',\n",
       " 'hrv',\n",
       " 'respiratory rate',\n",
       " 'asleep duration',\n",
       " 'in bed duration',\n",
       " 'light sleep duration',\n",
       " 'deep sleep duration',\n",
       " 'rem sleep duration',\n",
       " 'awake duration',\n",
       " 'sleep need',\n",
       " 'sleep debt',\n",
       " 'sleep efficiency',\n",
       " 'sleep consistency',\n",
       " 'skin temp',\n",
       " 'blood oxygen',\n",
       " 'cal burned',\n",
       " 'max hr',\n",
       " 'avg hr',\n",
       " 'cycle start time',\n",
       " 'cycle end time',\n",
       " 'cycle timezone',\n",
       " 'moving time seconds']"
      ]
     },
     "execution_count": 9,
     "metadata": {},
     "output_type": "execute_result"
    }
   ],
   "source": [
    "# list of columns\n",
    "\n",
    "list(df_full_date.columns)"
   ]
  },
  {
   "cell_type": "code",
   "execution_count": 10,
   "metadata": {},
   "outputs": [],
   "source": [
    "df_full_date = df_full_date.drop(axis=1, columns=\n",
    "                  [  \n",
    "'event', \n",
    "'injury description', \n",
    " 'activity type',\n",
    " 'start time',\n",
    " 'moving time',\n",
    " 'elapsed time',\n",
    " 'finish time',\n",
    " 'swim pace',\n",
    " 'bike pace',\n",
    " 'run pace',\n",
    " 'avg heart rate',\n",
    " 'avg heart rate zone',\n",
    " 'max heart rate',\n",
    " 'max heart rate yearly',\n",
    " 'avg speed',\n",
    " 'max speed',\n",
    " 'avg elapsed speed',\n",
    " 'relative effort',\n",
    " 'calories',\n",
    " 'pool length',\n",
    " 'elevation gain',\n",
    " 'elevation loss',\n",
    " 'elevation low',\n",
    " 'elevation high',\n",
    " 'max grade',\n",
    " 'avg grade',\n",
    " 'avg watts',\n",
    " 'avg cadence',\n",
    " 'max cadence',\n",
    " 'activity name',\n",
    " 'activity description',\n",
    " 'perceived exertion',\n",
    " 'filename',\n",
    " 'filenumber',\n",
    " 'below zones',\n",
    " 'no hr collected',\n",
    " 'z1',\n",
    " 'z2',\n",
    " 'z3',\n",
    " 'z4',\n",
    " 'z5',\n",
    " 'time low zones',\n",
    " 'time high zones',\n",
    " 'training mode',\n",
    " 'cycle id',\n",
    " 'wake onset',\n",
    " 'to bed date',\n",
    " 'sleep onset',\n",
    " 'sleep performance',\n",
    " 'recovery score',\n",
    " 'day strain',\n",
    " 'rhr',\n",
    " 'hrv',\n",
    " 'respiratory rate',\n",
    " 'asleep duration',\n",
    " 'in bed duration',\n",
    " 'light sleep duration',\n",
    " 'deep sleep duration',\n",
    " 'rem sleep duration',\n",
    " 'awake duration',\n",
    " 'sleep need',\n",
    " 'sleep debt',\n",
    " 'sleep efficiency',\n",
    " 'sleep consistency',\n",
    " 'skin temp',\n",
    " 'blood oxygen',\n",
    " 'cal burned',\n",
    " 'max hr',\n",
    " 'avg hr',\n",
    " 'cycle start time',\n",
    " 'cycle end time',\n",
    " 'cycle timezone'])"
   ]
  },
  {
   "cell_type": "code",
   "execution_count": 11,
   "metadata": {},
   "outputs": [
    {
     "name": "stdout",
     "output_type": "stream",
     "text": [
      "<class 'pandas.core.frame.DataFrame'>\n",
      "RangeIndex: 2470 entries, 0 to 2469\n",
      "Data columns (total 13 columns):\n",
      " #   Column                Non-Null Count  Dtype         \n",
      "---  ------                --------------  -----         \n",
      " 0   date                  2470 non-null   datetime64[ns]\n",
      " 1   activity id           2470 non-null   float64       \n",
      " 2   activity date         2470 non-null   object        \n",
      " 3   sport                 2470 non-null   object        \n",
      " 4   distance              2470 non-null   float64       \n",
      " 5   dist below zones      2470 non-null   float64       \n",
      " 6   dist no hr collected  2470 non-null   float64       \n",
      " 7   dist z1               2470 non-null   float64       \n",
      " 8   dist z2               2470 non-null   float64       \n",
      " 9   dist z3               2470 non-null   float64       \n",
      " 10  dist z4               2470 non-null   float64       \n",
      " 11  dist z5               2470 non-null   float64       \n",
      " 12  moving time seconds   2470 non-null   float64       \n",
      "dtypes: datetime64[ns](1), float64(10), object(2)\n",
      "memory usage: 251.0+ KB\n"
     ]
    }
   ],
   "source": [
    "df_full_date.info()"
   ]
  },
  {
   "cell_type": "markdown",
   "metadata": {},
   "source": [
    "## 1.3 new columns"
   ]
  },
  {
   "cell_type": "markdown",
   "metadata": {},
   "source": [
    "### 1.3.1 Injury"
   ]
  },
  {
   "cell_type": "markdown",
   "metadata": {},
   "source": [
    "There are 4 dates with an injury."
   ]
  },
  {
   "cell_type": "code",
   "execution_count": 12,
   "metadata": {},
   "outputs": [],
   "source": [
    "## create column 'Injury' and fill with the 4 events.\n",
    "\n",
    "# list of the four injuries\n",
    "injury_dates = ['2021-06-30', '2021-08-08', '2024-02-11', '2024-10-10']\n",
    "\n",
    "# default: injury = 0\n",
    "df_full_date['Injury'] = 0\n",
    "\n",
    "# change injury = 1 for the listed dates\n",
    "df_full_date.loc[df_full_date['date'].isin(pd.to_datetime(injury_dates)), 'Injury'] = 1"
   ]
  },
  {
   "cell_type": "markdown",
   "metadata": {},
   "source": [
    "### 1.3.2 mileage in km by discipline"
   ]
  },
  {
   "cell_type": "markdown",
   "metadata": {},
   "source": [
    "The column 'sport' defines the discipline. With a combination of the information of the discipline and the distance we build new columns. \n",
    "- SwimDistance\n",
    "- BikeDistance\n",
    "- RunDistance"
   ]
  },
  {
   "cell_type": "code",
   "execution_count": 36,
   "metadata": {},
   "outputs": [
    {
     "name": "stdout",
     "output_type": "stream",
     "text": [
      "<class 'pandas.core.frame.DataFrame'>\n",
      "RangeIndex: 2309 entries, 0 to 2308\n",
      "Data columns (total 6 columns):\n",
      " #   Column        Non-Null Count  Dtype         \n",
      "---  ------        --------------  -----         \n",
      " 0   date          2309 non-null   datetime64[ns]\n",
      " 1   Injury        2309 non-null   int64         \n",
      " 2   dist z5       2309 non-null   float64       \n",
      " 3   BikeDistance  2309 non-null   float64       \n",
      " 4   RunDistance   2309 non-null   float64       \n",
      " 5   SwimDistance  2309 non-null   float64       \n",
      "dtypes: datetime64[ns](1), float64(4), int64(1)\n",
      "memory usage: 108.4 KB\n"
     ]
    }
   ],
   "source": [
    "## building new structured dataframe with distances and only relevant rows\n",
    "\n",
    "# group by 'date' and 'sport' und sum 'distance' = for every discipline a row with the distance\n",
    "# for the days without sport (sport =0) there will be a new column 0 that I drop after\n",
    "df_sport = df_full_date.groupby(['date', 'sport'])['distance'].sum().unstack(fill_value=0)\n",
    "\n",
    "# rename to the new column names\n",
    "df_sport = df_sport.rename(columns={'Run': 'RunDistance', 'Bike': 'BikeDistance', 'Swim': 'SwimDistance'})\n",
    "\n",
    "# round all distance columns to one decimal place\n",
    "df_sport = df_sport.round(1)\n",
    "\n",
    "# select other columns that we want to keep\n",
    "df_other = df_full_date[['date', 'Injury', 'dist z5']].drop_duplicates(subset=['date'])\n",
    "\n",
    "# bring together to a new dataframe\n",
    "df_final = df_other.merge(df_sport, on='date', how='left')\n",
    "\n",
    "# drop the '0' column if it exists\n",
    "df_final = df_final.drop(columns=[0], errors='ignore')\n",
    "\n",
    "df_final.info()\n"
   ]
  },
  {
   "cell_type": "markdown",
   "metadata": {},
   "source": [
    "### 1.3.3 Sessions \n"
   ]
  },
  {
   "cell_type": "markdown",
   "metadata": {},
   "source": [
    "Depending on the distance of each discipline counting the number of Sessions"
   ]
  },
  {
   "cell_type": "code",
   "execution_count": 37,
   "metadata": {},
   "outputs": [
    {
     "name": "stdout",
     "output_type": "stream",
     "text": [
      "------------------------------\n",
      "There are:\n",
      "1436 days with 0 activities\n",
      "778 days with 1 activity\n",
      "69 days with 2 activities\n",
      "26 days with 3 activities\n",
      "------------------------------\n"
     ]
    }
   ],
   "source": [
    "# new column 'Session' counts how many Distance columns are > 0 (0 bis 3)\n",
    "df_final['Sessions'] = (df_final[['RunDistance', 'SwimDistance', 'BikeDistance']] > 0).sum(axis=1)\n",
    "\n",
    "# count occurence\n",
    "session_counts = df_final['Sessions'].value_counts().sort_index()\n",
    "\n",
    "# print result (incl grammar change)\n",
    "output = \"\\n\".join([\n",
    "    f\"{count} days with {session} activity\" if session == 1 else f\"{count} days with {session} activities\"\n",
    "    for session, count in session_counts.items()\n",
    "])\n",
    "print(\"-\" * 30)\n",
    "print(f\"There are:\\n{output}\")\n",
    "print(\"-\" * 30)"
   ]
  },
  {
   "cell_type": "markdown",
   "metadata": {},
   "source": [
    "### 1.3.4 Rest Days\n",
    "\n",
    "aggregated out of Sessions"
   ]
  },
  {
   "cell_type": "code",
   "execution_count": 38,
   "metadata": {},
   "outputs": [
    {
     "data": {
      "text/html": [
       "<div>\n",
       "<style scoped>\n",
       "    .dataframe tbody tr th:only-of-type {\n",
       "        vertical-align: middle;\n",
       "    }\n",
       "\n",
       "    .dataframe tbody tr th {\n",
       "        vertical-align: top;\n",
       "    }\n",
       "\n",
       "    .dataframe thead th {\n",
       "        text-align: right;\n",
       "    }\n",
       "</style>\n",
       "<table border=\"1\" class=\"dataframe\">\n",
       "  <thead>\n",
       "    <tr style=\"text-align: right;\">\n",
       "      <th></th>\n",
       "      <th>date</th>\n",
       "      <th>Injury</th>\n",
       "      <th>dist z5</th>\n",
       "      <th>BikeDistance</th>\n",
       "      <th>RunDistance</th>\n",
       "      <th>SwimDistance</th>\n",
       "      <th>Sessions</th>\n",
       "      <th>RestDay</th>\n",
       "    </tr>\n",
       "  </thead>\n",
       "  <tbody>\n",
       "    <tr>\n",
       "      <th>0</th>\n",
       "      <td>2018-10-18</td>\n",
       "      <td>0</td>\n",
       "      <td>0.0</td>\n",
       "      <td>13.5</td>\n",
       "      <td>0.0</td>\n",
       "      <td>1.5</td>\n",
       "      <td>2</td>\n",
       "      <td>0</td>\n",
       "    </tr>\n",
       "    <tr>\n",
       "      <th>1</th>\n",
       "      <td>2018-10-19</td>\n",
       "      <td>0</td>\n",
       "      <td>0.0</td>\n",
       "      <td>0.0</td>\n",
       "      <td>0.0</td>\n",
       "      <td>0.0</td>\n",
       "      <td>0</td>\n",
       "      <td>1</td>\n",
       "    </tr>\n",
       "    <tr>\n",
       "      <th>2</th>\n",
       "      <td>2018-10-20</td>\n",
       "      <td>0</td>\n",
       "      <td>0.0</td>\n",
       "      <td>0.0</td>\n",
       "      <td>0.0</td>\n",
       "      <td>0.0</td>\n",
       "      <td>0</td>\n",
       "      <td>1</td>\n",
       "    </tr>\n",
       "    <tr>\n",
       "      <th>3</th>\n",
       "      <td>2018-10-21</td>\n",
       "      <td>0</td>\n",
       "      <td>0.0</td>\n",
       "      <td>0.0</td>\n",
       "      <td>5.1</td>\n",
       "      <td>0.0</td>\n",
       "      <td>1</td>\n",
       "      <td>0</td>\n",
       "    </tr>\n",
       "    <tr>\n",
       "      <th>4</th>\n",
       "      <td>2018-10-22</td>\n",
       "      <td>0</td>\n",
       "      <td>0.0</td>\n",
       "      <td>22.5</td>\n",
       "      <td>0.0</td>\n",
       "      <td>0.0</td>\n",
       "      <td>1</td>\n",
       "      <td>0</td>\n",
       "    </tr>\n",
       "  </tbody>\n",
       "</table>\n",
       "</div>"
      ],
      "text/plain": [
       "        date  Injury  dist z5  BikeDistance  RunDistance  SwimDistance  \\\n",
       "0 2018-10-18       0      0.0          13.5          0.0           1.5   \n",
       "1 2018-10-19       0      0.0           0.0          0.0           0.0   \n",
       "2 2018-10-20       0      0.0           0.0          0.0           0.0   \n",
       "3 2018-10-21       0      0.0           0.0          5.1           0.0   \n",
       "4 2018-10-22       0      0.0          22.5          0.0           0.0   \n",
       "\n",
       "   Sessions  RestDay  \n",
       "0         2        0  \n",
       "1         0        1  \n",
       "2         0        1  \n",
       "3         1        0  \n",
       "4         1        0  "
      ]
     },
     "execution_count": 38,
     "metadata": {},
     "output_type": "execute_result"
    }
   ],
   "source": [
    "# 'RestDay' ist genau das Gegenteil: 1, wenn keine Session stattfand, sonst 0\n",
    "df_final['RestDay'] = (df_final['Sessions'] == 0).astype(int)\n",
    "\n",
    "df_final.head()\n"
   ]
  },
  {
   "cell_type": "markdown",
   "metadata": {},
   "source": [
    "### 1.3.5 relative distance (Traithlon ratio)\n",
    "\n",
    "As Nono is not only running but he is training for Triathlon the other two disciplines (swimming and cycling) may be interesting, too.\n",
    "But as 1km in swimming is harder then 1km running or biking, we give those discipline_distances a weight following the Triathlon ratio for sprint and olympic distances, which is swim : bike : run = 1:26.7:6.7\n",
    "\n",
    "The calculation of the total RelTriDistance is based on this weighting."
   ]
  },
  {
   "cell_type": "code",
   "execution_count": 39,
   "metadata": {},
   "outputs": [
    {
     "data": {
      "text/html": [
       "<div>\n",
       "<style scoped>\n",
       "    .dataframe tbody tr th:only-of-type {\n",
       "        vertical-align: middle;\n",
       "    }\n",
       "\n",
       "    .dataframe tbody tr th {\n",
       "        vertical-align: top;\n",
       "    }\n",
       "\n",
       "    .dataframe thead th {\n",
       "        text-align: right;\n",
       "    }\n",
       "</style>\n",
       "<table border=\"1\" class=\"dataframe\">\n",
       "  <thead>\n",
       "    <tr style=\"text-align: right;\">\n",
       "      <th></th>\n",
       "      <th>SwimDistance</th>\n",
       "      <th>BikeDistance</th>\n",
       "      <th>RunDistance</th>\n",
       "      <th>RelTriDistance</th>\n",
       "    </tr>\n",
       "  </thead>\n",
       "  <tbody>\n",
       "    <tr>\n",
       "      <th>0</th>\n",
       "      <td>1.5</td>\n",
       "      <td>13.5</td>\n",
       "      <td>0.0</td>\n",
       "      <td>2.005618</td>\n",
       "    </tr>\n",
       "    <tr>\n",
       "      <th>1</th>\n",
       "      <td>0.0</td>\n",
       "      <td>0.0</td>\n",
       "      <td>0.0</td>\n",
       "      <td>0.000000</td>\n",
       "    </tr>\n",
       "    <tr>\n",
       "      <th>2</th>\n",
       "      <td>0.0</td>\n",
       "      <td>0.0</td>\n",
       "      <td>0.0</td>\n",
       "      <td>0.000000</td>\n",
       "    </tr>\n",
       "    <tr>\n",
       "      <th>3</th>\n",
       "      <td>0.0</td>\n",
       "      <td>0.0</td>\n",
       "      <td>5.1</td>\n",
       "      <td>0.761194</td>\n",
       "    </tr>\n",
       "    <tr>\n",
       "      <th>4</th>\n",
       "      <td>0.0</td>\n",
       "      <td>22.5</td>\n",
       "      <td>0.0</td>\n",
       "      <td>0.842697</td>\n",
       "    </tr>\n",
       "  </tbody>\n",
       "</table>\n",
       "</div>"
      ],
      "text/plain": [
       "   SwimDistance  BikeDistance  RunDistance  RelTriDistance\n",
       "0           1.5          13.5          0.0        2.005618\n",
       "1           0.0           0.0          0.0        0.000000\n",
       "2           0.0           0.0          0.0        0.000000\n",
       "3           0.0           0.0          5.1        0.761194\n",
       "4           0.0          22.5          0.0        0.842697"
      ]
     },
     "execution_count": 39,
     "metadata": {},
     "output_type": "execute_result"
    }
   ],
   "source": [
    "# weighting by Triathlon ratio\n",
    "swim_weight = 1\n",
    "bike_weight = 26.7\n",
    "run_weight = 6.7\n",
    "\n",
    "# calculate by division\n",
    "df_final['RelTriDistance'] = (\n",
    "    df_final['SwimDistance'] / swim_weight +\n",
    "    df_final['BikeDistance'] / bike_weight +\n",
    "    df_final['RunDistance'] / run_weight\n",
    ")\n",
    "\n",
    "df_final[['SwimDistance', 'BikeDistance', 'RunDistance', 'RelTriDistance']].head()\n"
   ]
  },
  {
   "cell_type": "markdown",
   "metadata": {},
   "source": [
    "## 1.4 aggregate 3-weeks-periodes"
   ]
  },
  {
   "cell_type": "markdown",
   "metadata": {},
   "source": [
    "By using .rolling I group rows to 7-days-periods as one week before, two weeks before, three weeks before an injury (or a normal event)."
   ]
  },
  {
   "cell_type": "markdown",
   "metadata": {},
   "source": [
    "### 1.4.1 Run Distance"
   ]
  },
  {
   "cell_type": "markdown",
   "metadata": {},
   "source": [
    "for running I also do 4 weeks before and the month in total because during analyses we didn't get significant differences"
   ]
  },
  {
   "cell_type": "code",
   "execution_count": 44,
   "metadata": {},
   "outputs": [
    {
     "name": "stdout",
     "output_type": "stream",
     "text": [
      "      w1_RunKm  w2_RunKm  w3_RunKm  w4_RunKm  m_RunKm  VaRunVolumeChange_w  \\\n",
      "2299       0.0       0.0       0.0       0.0      0.0                  0.0   \n",
      "2300       0.0       0.0       0.0       0.0      0.0                  0.0   \n",
      "2301       0.0       0.0       0.0       0.0      0.0                  0.0   \n",
      "2302       0.0       0.0       0.0       0.0      0.0                  0.0   \n",
      "2303       0.0       0.0       0.0       0.0      0.0                  0.0   \n",
      "2304       0.0       0.0       0.0       0.0      0.0                  0.0   \n",
      "2305       0.0       0.0       0.0       0.0      0.0                  0.0   \n",
      "2306       0.0       0.0       0.0       0.0      0.0                  0.0   \n",
      "2307       0.0       0.0       0.0       0.0      0.0                  0.0   \n",
      "2308       0.0       0.0       0.0       0.0      0.0                  0.0   \n",
      "\n",
      "      TrendRunVolumeChange_w  \n",
      "2299                     0.0  \n",
      "2300                     0.0  \n",
      "2301                     0.0  \n",
      "2302                     0.0  \n",
      "2303                     0.0  \n",
      "2304                     0.0  \n",
      "2305                     0.0  \n",
      "2306                     0.0  \n",
      "2307                     0.0  \n",
      "2308                     0.0  \n"
     ]
    }
   ],
   "source": [
    "## buidling the total Run Distance in km by weeks\n",
    "\n",
    "# calculate the 7-day-sum for each week\n",
    "df_final['w1_RunKm'] = df_final['RunDistance'].shift(1).rolling(window=7, min_periods=1).sum()\n",
    "df_final['w2_RunKm'] = df_final['RunDistance'].shift(8).rolling(window=7, min_periods=1).sum()\n",
    "df_final['w3_RunKm'] = df_final['RunDistance'].shift(15).rolling(window=7, min_periods=1).sum()\n",
    "df_final['w4_RunKm'] = df_final['RunDistance'].shift(22).rolling(window=7, min_periods=1).sum()\n",
    "df_final['m_RunKm'] = df_final['RunDistance'].shift(1).rolling(window=30, min_periods=1).sum()\n",
    "\n",
    "# calculate the variance\n",
    "df_final['VaRunVolumeChange_w'] = df_final[['w3_RunKm', 'w2_RunKm', 'w1_RunKm', 'w4_RunKm']].var(axis=1)\n",
    "\n",
    "# calculate trend\n",
    "df_final['TrendRunVolumeChange_w'] = df_final[\"w1_RunKm\"] - df_final[\"w4_RunKm\"]\n",
    "\n",
    "# show result\n",
    "print(df_final[['w1_RunKm', 'w2_RunKm', 'w3_RunKm', 'w4_RunKm', 'm_RunKm', 'VaRunVolumeChange_w', 'TrendRunVolumeChange_w']].tail(10))"
   ]
  },
  {
   "cell_type": "markdown",
   "metadata": {},
   "source": [
    "### 1.4.2 High intensity as KmZ5"
   ]
  },
  {
   "cell_type": "code",
   "execution_count": 45,
   "metadata": {},
   "outputs": [
    {
     "name": "stdout",
     "output_type": "stream",
     "text": [
      "      w3_KmZ5  w2_KmZ5  w1_KmZ5  VarKmZ5_w  TrendKmZ5_w\n",
      "2299      0.0      0.0      0.0        0.0          0.0\n",
      "2300      0.0      0.0      0.0        0.0          0.0\n",
      "2301      0.0      0.0      0.0        0.0          0.0\n",
      "2302      0.0      0.0      0.0        0.0          0.0\n",
      "2303      0.0      0.0      0.0        0.0          0.0\n",
      "2304      0.0      0.0      0.0        0.0          0.0\n",
      "2305      0.0      0.0      0.0        0.0          0.0\n",
      "2306      0.0      0.0      0.0        0.0          0.0\n",
      "2307      0.0      0.0      0.0        0.0          0.0\n",
      "2308      0.0      0.0      0.0        0.0          0.0\n"
     ]
    }
   ],
   "source": [
    "## buidling the Km in Heartrate Zone 5 by weeks\n",
    "\n",
    "# calculate the 7-day-sum for each week\n",
    "df_final['w1_KmZ5'] = df_final['dist z5'].shift(1).rolling(window=7, min_periods=1).sum()\n",
    "df_final['w2_KmZ5'] = df_final['dist z5'].shift(8).rolling(window=7, min_periods=1).sum()\n",
    "df_final['w3_KmZ5'] = df_final['dist z5'].shift(15).rolling(window=7, min_periods=1).sum()\n",
    "\n",
    "# calculate the variance\n",
    "df_final['VarKmZ5_w'] = df_final[['w3_KmZ5', 'w2_KmZ5', 'w1_KmZ5']].var(axis=1)\n",
    "\n",
    "# calculate trend\n",
    "df_final['TrendKmZ5_w'] = df_final[\"w1_KmZ5\"] - df_final[\"w3_KmZ5\"]\n",
    "\n",
    "# show result\n",
    "print(df_final[['w3_KmZ5', 'w2_KmZ5', 'w1_KmZ5', 'VarKmZ5_w', 'TrendKmZ5_w']].tail(10))"
   ]
  },
  {
   "cell_type": "markdown",
   "metadata": {},
   "source": [
    "### 1.4.3 Sessions "
   ]
  },
  {
   "cell_type": "code",
   "execution_count": 46,
   "metadata": {},
   "outputs": [
    {
     "name": "stdout",
     "output_type": "stream",
     "text": [
      "      w3_Sessions  w2_Sessions  w3_Sessions  VarSessions_w  TrendSessions_w\n",
      "2299          3.0          3.0          3.0       0.000000              0.0\n",
      "2300          2.0          3.0          2.0       0.333333              1.0\n",
      "2301          3.0          3.0          3.0       0.333333             -1.0\n",
      "2302          2.0          3.0          2.0       0.333333              1.0\n",
      "2303          2.0          3.0          2.0       0.333333              0.0\n",
      "2304          2.0          3.0          2.0       0.333333              0.0\n",
      "2305          2.0          3.0          2.0       0.333333              1.0\n",
      "2306          3.0          3.0          3.0       0.333333             -1.0\n",
      "2307          3.0          3.0          3.0       0.333333             -1.0\n",
      "2308          3.0          2.0          3.0       0.333333             -1.0\n"
     ]
    }
   ],
   "source": [
    "## buidling the number of sessions by weeks\n",
    "\n",
    "# calculate the 7-day-sum for each week\n",
    "df_final['w1_Sessions'] = df_final['Sessions'].shift(1).rolling(window=7, min_periods=1).sum()\n",
    "df_final['w2_Sessions'] = df_final['Sessions'].shift(8).rolling(window=7, min_periods=1).sum()\n",
    "df_final['w3_Sessions'] = df_final['Sessions'].shift(15).rolling(window=7, min_periods=1).sum()\n",
    "\n",
    "# calculate the variance\n",
    "df_final['VarSessions_w'] = df_final[['w3_Sessions', 'w2_Sessions', 'w1_Sessions']].var(axis=1)\n",
    "\n",
    "# calculate trend\n",
    "df_final['TrendSessions_w'] = df_final[\"w1_Sessions\"] - df_final[\"w3_Sessions\"]\n",
    "\n",
    "# show result\n",
    "print(df_final[['w3_Sessions', 'w2_Sessions', 'w3_Sessions', 'VarSessions_w', 'TrendSessions_w']].tail(10))\n"
   ]
  },
  {
   "cell_type": "markdown",
   "metadata": {},
   "source": [
    "### 1.4.4 Rest Days"
   ]
  },
  {
   "cell_type": "code",
   "execution_count": 47,
   "metadata": {},
   "outputs": [
    {
     "name": "stdout",
     "output_type": "stream",
     "text": [
      "      w3_RestDays  w2_RestDays  w1_RestDays  VarRestDays_w  TrendRestDays_w\n",
      "2299          4.0          4.0          4.0       0.000000              0.0\n",
      "2300          5.0          4.0          4.0       0.333333             -1.0\n",
      "2301          4.0          4.0          5.0       0.333333              1.0\n",
      "2302          5.0          4.0          4.0       0.333333             -1.0\n",
      "2303          5.0          4.0          5.0       0.333333              0.0\n",
      "2304          5.0          4.0          5.0       0.333333              0.0\n",
      "2305          5.0          4.0          4.0       0.333333             -1.0\n",
      "2306          4.0          4.0          5.0       0.333333              1.0\n",
      "2307          4.0          4.0          5.0       0.333333              1.0\n",
      "2308          4.0          5.0          5.0       0.333333              1.0\n"
     ]
    }
   ],
   "source": [
    "## buidling the number of RestDays by weeks\n",
    "\n",
    "# calculate the 7-day-sum for each week\n",
    "df_final['w1_RestDays'] = df_final['RestDay'].shift(1).rolling(window=7, min_periods=1).sum()\n",
    "df_final['w2_RestDays'] = df_final['RestDay'].shift(8).rolling(window=7, min_periods=1).sum()\n",
    "df_final['w3_RestDays'] = df_final['RestDay'].shift(15).rolling(window=7, min_periods=1).sum()\n",
    "\n",
    "# calculate the variance\n",
    "df_final['VarRestDays_w'] = df_final[['w3_RestDays', 'w2_RestDays', 'w1_RestDays']].var(axis=1)\n",
    "\n",
    "# calculate trend\n",
    "df_final['TrendRestDays_w'] = df_final[\"w1_RestDays\"] - df_final[\"w3_RestDays\"]\n",
    "\n",
    "# show result\n",
    "print(df_final[['w3_RestDays', 'w2_RestDays', 'w1_RestDays', 'VarRestDays_w', 'TrendRestDays_w']].tail(10))"
   ]
  },
  {
   "cell_type": "markdown",
   "metadata": {},
   "source": [
    "### 1.4.5 RelTriDistance"
   ]
  },
  {
   "cell_type": "code",
   "execution_count": 48,
   "metadata": {},
   "outputs": [
    {
     "name": "stdout",
     "output_type": "stream",
     "text": [
      "      w3_RelTriDistance  w2_RelTriDistance  w1_RelTriDistance  \\\n",
      "2299           7.105618               10.2                9.4   \n",
      "2300           4.305618               10.2                9.4   \n",
      "2301           7.905618               10.2                5.8   \n",
      "2302           7.400000               10.2                9.8   \n",
      "2303           7.400000                9.5                6.7   \n",
      "2304           7.400000                9.5                6.7   \n",
      "2305           7.400000                9.5                9.5   \n",
      "2306          10.200000                9.4                6.8   \n",
      "2307          10.200000                9.4                6.8   \n",
      "2308          10.200000                5.8                6.8   \n",
      "\n",
      "      VarRelTriDistance_w  TrendRelTriDistance_w  \n",
      "2299             2.579898               2.294382  \n",
      "2300            10.222745               5.094382  \n",
      "2301             4.842969              -2.105618  \n",
      "2302             2.293333               2.400000  \n",
      "2303             2.123333              -0.700000  \n",
      "2304             2.123333              -0.700000  \n",
      "2305             1.470000               2.100000  \n",
      "2306             3.160000              -3.400000  \n",
      "2307             3.160000              -3.400000  \n",
      "2308             5.320000              -3.400000  \n"
     ]
    }
   ],
   "source": [
    "## buidling the relative total distance\n",
    "\n",
    "# calculate the 7-day-sum for each week\n",
    "df_final['w1_RelTriDistance'] = df_final['RelTriDistance'].shift(1).rolling(window=7, min_periods=1).sum()\n",
    "df_final['w2_RelTriDistance'] = df_final['RelTriDistance'].shift(8).rolling(window=7, min_periods=1).sum()\n",
    "df_final['w3_RelTriDistance'] = df_final['RelTriDistance'].shift(15).rolling(window=7, min_periods=1).sum()\n",
    "\n",
    "# calculate the variance\n",
    "df_final['VarRelTriDistance_w'] = df_final[['w3_RelTriDistance', 'w2_RelTriDistance', 'w1_RelTriDistance']].var(axis=1)\n",
    "\n",
    "# calculate trend\n",
    "df_final['TrendRelTriDistance_w'] = df_final[\"w1_RelTriDistance\"] - df_final[\"w3_RelTriDistance\"]\n",
    "\n",
    "# show result\n",
    "print(df_final[['w3_RelTriDistance', 'w2_RelTriDistance', 'w1_RelTriDistance', 'VarRelTriDistance_w', 'TrendRelTriDistance_w']].tail(10))"
   ]
  },
  {
   "cell_type": "markdown",
   "metadata": {},
   "source": [
    "# 2. Analyses"
   ]
  },
  {
   "cell_type": "markdown",
   "metadata": {},
   "source": [
    "We follow now the Analyses we used on the Open Source Injury Dataset. First testing for distribution and then for significant differences compairing the two groups injury=0 and injury=1. The second group (pre-injury-week) only has 4 entries. We will see if that poses problems."
   ]
  },
  {
   "cell_type": "code",
   "execution_count": 71,
   "metadata": {},
   "outputs": [],
   "source": [
    "# preparing the features to be tested  \n",
    "\n",
    "w_Features = [\n",
    "              'w1_RunKm', \n",
    "              'w2_RunKm', \n",
    "              'w3_RunKm', \n",
    "              'w4_RunKm', \n",
    "              'm_RunKm',\n",
    "              #'VaRunVolumeChange_w', \n",
    "              #'TrendRunVolumeChange_w',\n",
    "\n",
    "              'w1_KmZ5', \n",
    "              'w2_KmZ5',\n",
    "              'w3_KmZ5',\n",
    "              #'VarKmZ5_w',\n",
    "              #'TrendKmZ5_w',\n",
    "                \n",
    "              'w1_Sessions', \n",
    "              'w2_Sessions', \n",
    "              'w3_Sessions',\n",
    "              #'VarSessions_w',\n",
    "              #'TrendSessions_w',\n",
    "\n",
    "              'w1_RestDays',\n",
    "              'w2_RestDays',\n",
    "              'w3_RestDays',\n",
    "              #'VarRestDays_w', \n",
    "              #'TrendRestDays_w',\n",
    "\n",
    "              'w3_RelTriDistance', \n",
    "              'w2_RelTriDistance', \n",
    "              'w1_RelTriDistance', \n",
    "              #'VarRelTriDistance_w', \n",
    "              #'TrendRelTriDistance_w'\n",
    "              ]"
   ]
  },
  {
   "cell_type": "markdown",
   "metadata": {},
   "source": [
    "### 2.1 distribution: Shapiro-Wilk-Test"
   ]
  },
  {
   "cell_type": "code",
   "execution_count": 65,
   "metadata": {},
   "outputs": [
    {
     "name": "stdout",
     "output_type": "stream",
     "text": [
      "🔬 testing normal distribution (Shapiro-Wilk-Test):\n",
      "\n",
      "w1_RunKm: W=nan, p=1.00000 → ✅ normal distribution\n",
      "w2_RunKm: W=nan, p=1.00000 → ✅ normal distribution\n",
      "w3_RunKm: W=nan, p=1.00000 → ✅ normal distribution\n",
      "w4_RunKm: W=nan, p=1.00000 → ✅ normal distribution\n",
      "m_RunKm: W=nan, p=1.00000 → ✅ normal distribution\n",
      "VaRunVolumeChange_w: W=nan, p=1.00000 → ✅ normal distribution\n",
      "TrendRunVolumeChange_w: W=nan, p=1.00000 → ✅ normal distribution\n",
      "w1_KmZ5: W=nan, p=1.00000 → ✅ normal distribution\n",
      "w2_KmZ5: W=nan, p=1.00000 → ✅ normal distribution\n",
      "w3_KmZ5: W=nan, p=1.00000 → ✅ normal distribution\n",
      "VarKmZ5_w: W=nan, p=1.00000 → ✅ normal distribution\n",
      "TrendKmZ5_w: W=nan, p=1.00000 → ✅ normal distribution\n",
      "w1_Sessions: W=nan, p=1.00000 → ✅ normal distribution\n",
      "w2_Sessions: W=nan, p=1.00000 → ✅ normal distribution\n",
      "w3_Sessions: W=nan, p=1.00000 → ✅ normal distribution\n",
      "VarSessions_w: W=nan, p=1.00000 → ✅ normal distribution\n",
      "TrendSessions_w: W=nan, p=1.00000 → ✅ normal distribution\n",
      "w1_RestDays: W=nan, p=1.00000 → ✅ normal distribution\n",
      "w2_RestDays: W=nan, p=1.00000 → ✅ normal distribution\n",
      "w3_RestDays: W=nan, p=1.00000 → ✅ normal distribution\n",
      "VarRestDays_w: W=nan, p=1.00000 → ✅ normal distribution\n",
      "TrendRestDays_w: W=nan, p=1.00000 → ✅ normal distribution\n",
      "w3_RelTriDistance: W=nan, p=1.00000 → ✅ normal distribution\n",
      "w2_RelTriDistance: W=nan, p=1.00000 → ✅ normal distribution\n",
      "w1_RelTriDistance: W=nan, p=1.00000 → ✅ normal distribution\n",
      "VarRelTriDistance_w: W=nan, p=1.00000 → ✅ normal distribution\n",
      "TrendRelTriDistance_w: W=nan, p=1.00000 → ✅ normal distribution\n"
     ]
    }
   ],
   "source": [
    "# distribution test\n",
    "\n",
    "print(\"🔬 testing normal distribution (Shapiro-Wilk-Test):\\n\")\n",
    "for day in w_Features:\n",
    "    stat, p_value = shapiro(df_final[w_Features])\n",
    "    if p_value < 0.05:\n",
    "        result = \"❌ NO normal distribution\"\n",
    "    else:\n",
    "        result = \"✅ normal distribution\"\n",
    "    \n",
    "    print(f\"{day}: W={stat:.3f}, p={p_value:.5f} → {result}\")"
   ]
  },
  {
   "cell_type": "markdown",
   "metadata": {},
   "source": [
    "Unlike in the comparative data set, the data here is often normally distributed.\n",
    "\n",
    "So for the significance we can use the T-Test."
   ]
  },
  {
   "cell_type": "markdown",
   "metadata": {},
   "source": [
    "## 2.2 T-Test for significance"
   ]
  },
  {
   "cell_type": "code",
   "execution_count": 66,
   "metadata": {},
   "outputs": [
    {
     "name": "stdout",
     "output_type": "stream",
     "text": [
      "🔬 T-Test (for normal distributed valuest):\n",
      "\n",
      "'w1_RunKm' - ❌ NO significant difference (p-value: 0.2757)\n",
      "'w2_RunKm' - ❌ NO significant difference (p-value: 0.2674)\n",
      "'w3_RunKm' - ✅ significantly different (p-value: 0.0316)\n",
      "'w4_RunKm' - ✅ significantly different (p-value: 0.0024)\n",
      "'m_RunKm' - ❌ NO significant difference (p-value: 0.0898)\n",
      "'VaRunVolumeChange_w' - ❌ NO significant difference (p-value: 0.2439)\n",
      "'TrendRunVolumeChange_w' - ❌ NO significant difference (p-value: 0.7418)\n",
      "'w1_KmZ5' - ✅ significantly different (p-value: 0.0000)\n",
      "'w2_KmZ5' - ❌ NO significant difference (p-value: 0.4613)\n",
      "'w3_KmZ5' - ✅ significantly different (p-value: 0.0000)\n",
      "'VarKmZ5_w' - ✅ significantly different (p-value: 0.0012)\n",
      "'TrendKmZ5_w' - ❌ NO significant difference (p-value: 1.0000)\n",
      "'w1_Sessions' - ❌ NO significant difference (p-value: 0.1036)\n",
      "'w2_Sessions' - ❌ NO significant difference (p-value: 0.7492)\n",
      "'w3_Sessions' - ❌ NO significant difference (p-value: 0.1541)\n",
      "'VarSessions_w' - ❌ NO significant difference (p-value: 0.4056)\n",
      "'TrendSessions_w' - ❌ NO significant difference (p-value: 0.5893)\n",
      "'w1_RestDays' - ✅ significantly different (p-value: 0.0450)\n",
      "'w2_RestDays' - ❌ NO significant difference (p-value: 0.8271)\n",
      "'w3_RestDays' - ❌ NO significant difference (p-value: 0.1577)\n",
      "'VarRestDays_w' - ❌ NO significant difference (p-value: 0.4607)\n",
      "'TrendRestDays_w' - ❌ NO significant difference (p-value: 0.8265)\n",
      "'w3_RelTriDistance' - ✅ significantly different (p-value: 0.0109)\n",
      "'w2_RelTriDistance' - ❌ NO significant difference (p-value: 0.3493)\n",
      "'w1_RelTriDistance' - ❌ NO significant difference (p-value: 0.2270)\n",
      "'VarRelTriDistance_w' - ❌ NO significant difference (p-value: 0.9211)\n",
      "'TrendRelTriDistance_w' - ❌ NO significant difference (p-value: 0.5051)\n"
     ]
    }
   ],
   "source": [
    "print(\"🔬 T-Test (for normal distributed valuest):\\n\")   \n",
    "\n",
    "# preparing two seperate injury-groups for compairing if any signifcant difference\n",
    "for feature in w_Features:\n",
    "    df_injury_0 = df_final[df_final[\"Injury\"] == 0][feature]\n",
    "    df_injury_1 = df_final[df_final[\"Injury\"] == 1][feature]\n",
    "\n",
    "# using t test for compairing \n",
    "    t_stat, p_value = stats.ttest_ind(df_injury_0, df_injury_1, equal_var=False, nan_policy='omit')\n",
    "\n",
    "    # Ergebnis anzeigen mit Symbolen für klare Interpretation\n",
    "    if p_value < 0.05:\n",
    "        print(f\"'{feature}' - ✅ significantly different (p-value: {p_value:.4f})\")\n",
    "    else:\n",
    "        print(f\"'{feature}' - ❌ NO significant difference (p-value: {p_value:.4f})\")"
   ]
  },
  {
   "cell_type": "markdown",
   "metadata": {},
   "source": [
    "As the size of the two groups is very different, we also apply the Mann-Whitney-U-Test."
   ]
  },
  {
   "cell_type": "markdown",
   "metadata": {},
   "source": [
    "## 2.3. Mann-Whitney-U-test for significance (small injury group)"
   ]
  },
  {
   "cell_type": "code",
   "execution_count": 67,
   "metadata": {},
   "outputs": [
    {
     "name": "stdout",
     "output_type": "stream",
     "text": [
      "🔬 Mann-Whitney-U-Test (non-parametric Test):\n",
      "\n",
      "'w1_RunKm' - ❌ NO significant difference (p-value: 0.1070)\n",
      "'w2_RunKm' - ❌ NO significant difference (p-value: 0.1429)\n",
      "'w3_RunKm' - ✅ significantly different (p-value: 0.0065)\n",
      "'w4_RunKm' - ✅ significantly different (p-value: 0.0315)\n",
      "'m_RunKm' - ✅ significantly different (p-value: 0.0144)\n",
      "'VaRunVolumeChange_w' - ❌ NO significant difference (p-value: 0.0681)\n",
      "'TrendRunVolumeChange_w' - ❌ NO significant difference (p-value: 0.9165)\n",
      "'w1_KmZ5' - ❌ NO significant difference (p-value: 0.5909)\n",
      "'w2_KmZ5' - ✅ significantly different (p-value: 0.0010)\n",
      "'w3_KmZ5' - ❌ NO significant difference (p-value: 0.5897)\n",
      "'VarKmZ5_w' - ❌ NO significant difference (p-value: 0.1347)\n",
      "'TrendKmZ5_w' - ❌ NO significant difference (p-value: 0.9713)\n",
      "'w1_Sessions' - ❌ NO significant difference (p-value: 0.0949)\n",
      "'w2_Sessions' - ❌ NO significant difference (p-value: 0.8124)\n",
      "'w3_Sessions' - ✅ significantly different (p-value: 0.0479)\n",
      "'VarSessions_w' - ❌ NO significant difference (p-value: 0.2716)\n",
      "'TrendSessions_w' - ❌ NO significant difference (p-value: 0.5617)\n",
      "'w1_RestDays' - ❌ NO significant difference (p-value: 0.0679)\n",
      "'w2_RestDays' - ❌ NO significant difference (p-value: 0.8414)\n",
      "'w3_RestDays' - ❌ NO significant difference (p-value: 0.0663)\n",
      "'VarRestDays_w' - ❌ NO significant difference (p-value: 0.3124)\n",
      "'TrendRestDays_w' - ❌ NO significant difference (p-value: 0.8898)\n",
      "'w3_RelTriDistance' - ✅ significantly different (p-value: 0.0070)\n",
      "'w2_RelTriDistance' - ❌ NO significant difference (p-value: 0.3931)\n",
      "'w1_RelTriDistance' - ❌ NO significant difference (p-value: 0.0995)\n",
      "'VarRelTriDistance_w' - ❌ NO significant difference (p-value: 0.1072)\n",
      "'TrendRelTriDistance_w' - ❌ NO significant difference (p-value: 0.5151)\n"
     ]
    }
   ],
   "source": [
    "print(\"🔬 Mann-Whitney-U-Test (non-parametric Test):\\n\")\n",
    "\n",
    "# preparing two separate injury groups for comparing if any significant difference - \n",
    "# dropna() because at the beginning of the time periode there won't be enough data for rolling over 21 days\n",
    "for feature in w_Features:\n",
    "    df_injury_0 = df_final[df_final[\"Injury\"] == 0][feature].dropna()\n",
    "    df_injury_1 = df_final[df_final[\"Injury\"] == 1][feature].dropna()\n",
    "\n",
    "    # using Mann-Whitney-U test for comparing\n",
    "    u_stat, p_value = stats.mannwhitneyu(df_injury_0, df_injury_1, alternative='two-sided')\n",
    "\n",
    "    # Ergebnis anzeigen mit Symbolen für klare Interpretation\n",
    "    if p_value < 0.05:\n",
    "        print(f\"'{feature}' - ✅ significantly different (p-value: {p_value:.4f})\")\n",
    "    else:\n",
    "        print(f\"'{feature}' - ❌ NO significant difference (p-value: {p_value:.4f})\")"
   ]
  },
  {
   "cell_type": "markdown",
   "metadata": {},
   "source": [
    "## 2.4 Permutation test + comparing"
   ]
  },
  {
   "cell_type": "code",
   "execution_count": 78,
   "metadata": {},
   "outputs": [
    {
     "name": "stdout",
     "output_type": "stream",
     "text": [
      "'w1_RunKm' - ❌ T-Test p-value: 0.2757, ❌ Mann-Whitney U-Test p-value: 0.1070, ✅ Permutation Test p-value: 0.0261\n",
      "'w2_RunKm' - ❌ T-Test p-value: 0.2674, ❌ Mann-Whitney U-Test p-value: 0.1429, ✅ Permutation Test p-value: 0.0078\n",
      "'w3_RunKm' - ✅ T-Test p-value: 0.0316, ✅ Mann-Whitney U-Test p-value: 0.0065, ✅ Permutation Test p-value: 0.0079\n",
      "'w4_RunKm' - ✅ T-Test p-value: 0.0024, ✅ Mann-Whitney U-Test p-value: 0.0315, ❌ Permutation Test p-value: 0.0999\n",
      "'m_RunKm' - ❌ T-Test p-value: 0.0898, ✅ Mann-Whitney U-Test p-value: 0.0144, ✅ Permutation Test p-value: 0.0008\n",
      "'w1_KmZ5' - ✅ T-Test p-value: 0.0000, ❌ Mann-Whitney U-Test p-value: 0.5909, ❌ Permutation Test p-value: 0.9021\n",
      "'w2_KmZ5' - ❌ T-Test p-value: 0.4613, ✅ Mann-Whitney U-Test p-value: 0.0010, ❌ Permutation Test p-value: 0.1394\n",
      "'w3_KmZ5' - ✅ T-Test p-value: 0.0000, ❌ Mann-Whitney U-Test p-value: 0.5897, ❌ Permutation Test p-value: 0.9045\n",
      "'w1_Sessions' - ❌ T-Test p-value: 0.1036, ❌ Mann-Whitney U-Test p-value: 0.0949, ❌ Permutation Test p-value: 0.1447\n",
      "'w2_Sessions' - ❌ T-Test p-value: 0.7492, ❌ Mann-Whitney U-Test p-value: 0.8124, ❌ Permutation Test p-value: 0.7979\n",
      "'w3_Sessions' - ❌ T-Test p-value: 0.1541, ✅ Mann-Whitney U-Test p-value: 0.0479, ✅ Permutation Test p-value: 0.0191\n",
      "'w1_RestDays' - ✅ T-Test p-value: 0.0450, ❌ Mann-Whitney U-Test p-value: 0.0679, ❌ Permutation Test p-value: 0.1138\n",
      "'w2_RestDays' - ❌ T-Test p-value: 0.8271, ❌ Mann-Whitney U-Test p-value: 0.8414, ❌ Permutation Test p-value: 0.8827\n",
      "'w3_RestDays' - ❌ T-Test p-value: 0.1577, ❌ Mann-Whitney U-Test p-value: 0.0663, ❌ Permutation Test p-value: 0.0572\n",
      "'w3_RelTriDistance' - ✅ T-Test p-value: 0.0109, ✅ Mann-Whitney U-Test p-value: 0.0070, ✅ Permutation Test p-value: 0.0235\n",
      "'w2_RelTriDistance' - ❌ T-Test p-value: 0.3493, ❌ Mann-Whitney U-Test p-value: 0.3931, ❌ Permutation Test p-value: 0.6369\n",
      "'w1_RelTriDistance' - ❌ T-Test p-value: 0.2270, ❌ Mann-Whitney U-Test p-value: 0.0995, ❌ Permutation Test p-value: 0.0985\n"
     ]
    }
   ],
   "source": [
    "# Iterate through the features and run all tests\n",
    "for feature in w_Features:\n",
    "    if feature in df_final.columns:  # Check if the feature exists in the dataframe\n",
    "        # Extract data for injury groups, ignoring NaNs\n",
    "        df_injury_0 = df_final[df_final[\"Injury\"] == 0][feature].dropna()\n",
    "        df_injury_1 = df_final[df_final[\"Injury\"] == 1][feature].dropna()\n",
    "\n",
    "        # Welch T-Test (unequal variance)\n",
    "        t_stat, p_value_ttest = stats.ttest_ind(df_injury_0, df_injury_1, equal_var=False, nan_policy='omit')\n",
    "        result_ttest = \"✅\" if p_value_ttest < 0.05 else \"❌\"\n",
    "\n",
    "        # Mann-Whitney U-Test (non-parametric)\n",
    "        u_stat, p_value_mannwhitneyu = stats.mannwhitneyu(df_injury_0, df_injury_1, alternative='two-sided')\n",
    "        result_mannwhitneyu = \"✅\" if p_value_mannwhitneyu < 0.05 else \"❌\"\n",
    "\n",
    "        # Permutation Test (non-parametric)\n",
    "        p_value_permutation = permutation_test(df_injury_0, df_injury_1)\n",
    "        result_permutation = \"✅\" if p_value_permutation < 0.05 else \"❌\"\n",
    "\n",
    "        # Print results in the desired format\n",
    "        print(f\"'{feature}' - {result_ttest} T-Test p-value: {p_value_ttest:.4f}, {result_mannwhitneyu} Mann-Whitney U-Test p-value: {p_value_mannwhitneyu:.4f}, {result_permutation} Permutation Test p-value: {p_value_permutation:.4f}\")\n"
   ]
  },
  {
   "cell_type": "markdown",
   "metadata": {},
   "source": [
    "## 2.5 boxplot"
   ]
  },
  {
   "cell_type": "markdown",
   "metadata": {},
   "source": [
    "To check the consistency of the results I will boxplot all features that have at least one significant result\n",
    "\n",
    "- significance on all three tests:\n",
    "    - w3_RunKm (✅ all)\n",
    "    - w3_RelTriDistance (✅ all )\n",
    "\n",
    "- significance on two test\n",
    "    - w4_RunKm (✅ T-Test, Mann-Whitney U-Test)\n",
    "    - m_RunKm (✅ Mann-Whitney U-Test, Permutation Test)\n",
    "    - w3_Sessions (✅ Mann-Whitney U-Test, Permutation Test)\n",
    "\n",
    "- significance on one test\n",
    "    - w1_KmZ5 (✅ T-Test)\n",
    "    - w3_KmZ5 (✅ T-Test)\n",
    "    - w1_RestDays (✅ T-Test)\n",
    "    - w2_KmZ5 (✅ Mann-Whitney U-Test)"
   ]
  },
  {
   "cell_type": "code",
   "execution_count": 80,
   "metadata": {},
   "outputs": [
    {
     "data": {
      "image/png": "[encoded data removed]",
      "text/plain": [
       "<Figure size 1200x1200 with 9 Axes>"
      ]
     },
     "metadata": {},
     "output_type": "display_data"
    }
   ],
   "source": [
    "# Liste der Spalten, die du plotten möchtest\n",
    "columns_to_plot = [\n",
    "    'w3_RunKm', \n",
    "    'w3_RelTriDistance',\n",
    "    'w4_RunKm',\n",
    "    'm_RunKm',\n",
    "    'w3_Sessions',\n",
    "    'w1_KmZ5',\n",
    "    'w3_KmZ5',\n",
    "    'w1_RestDays',\n",
    "    'w2_KmZ5',\n",
    "]\n",
    "\n",
    "\n",
    "# Plot erstellen\n",
    "plt.figure(figsize=(12, 12))\n",
    "\n",
    "# Iteriere über jede Spalte, um sie nach 'Injury' (0 und 1) zu plotten\n",
    "for i, column in enumerate(columns_to_plot, start=1):\n",
    "    plt.subplot(3, 3, i)  # Erstelle mehrere Subplots (2 Reihen und 3 Spalten)\n",
    "\n",
    "    # Boxplot für die jeweilige Spalte und den Injury-Status\n",
    "    sns.boxplot(x='Injury', y=column, data=df_final, palette='Set2')\n",
    "\n",
    "    # Titel für jedes Subplot\n",
    "    plt.title(f'Boxplot of {column} by Injury Status')\n",
    "\n",
    "# Layout optimieren\n",
    "plt.tight_layout()\n",
    "\n",
    "# Diagramm anzeigen\n",
    "plt.show()"
   ]
  },
  {
   "cell_type": "markdown",
   "metadata": {},
   "source": [
    "# 3. result\n",
    "\n",
    "After testing with several procedures we will reject the Null-Hypothesis of a significant difference before injury for the following feaures:\n",
    "- w3_RunKm (✅ all)\n",
    "- w3_RelTriDistance (✅ all )\n",
    "- w4_RunKm (✅ T-Test, Mann-Whitney U-Test)\n",
    "- m_RunKm (✅ Mann-Whitney U-Test, Permutation Test)\n",
    "- w3_Sessions (✅ Mann-Whitney U-Test, Permutation Test)\n",
    "- w1_RestDays (✅ T-Test)\n"
   ]
  },
  {
   "cell_type": "markdown",
   "metadata": {},
   "source": [
    "# export new df_final to azure"
   ]
  },
  {
   "cell_type": "code",
   "execution_count": null,
   "metadata": {},
   "outputs": [
    {
     "data": {
      "text/plain": [
       "2309"
      ]
     },
     "execution_count": 91,
     "metadata": {},
     "output_type": "execute_result"
    }
   ],
   "source": [
    "\n",
    "# df_final.to_sql('df_activs_inj_train', con=engine, schema='public', if_exists='replace', index=False, chunksize=1000, method='multi')"
   ]
  }
 ],
 "metadata": {
  "kernelspec": {
   "display_name": "base",
   "language": "python",
   "name": "python3"
  },
  "language_info": {
   "codemirror_mode": {
    "name": "ipython",
    "version": 3
   },
   "file_extension": ".py",
   "mimetype": "text/x-python",
   "name": "python",
   "nbconvert_exporter": "python",
   "pygments_lexer": "ipython3",
   "version": "3.9.20"
  }
 },
 "nbformat": 4,
 "nbformat_minor": 2
}
