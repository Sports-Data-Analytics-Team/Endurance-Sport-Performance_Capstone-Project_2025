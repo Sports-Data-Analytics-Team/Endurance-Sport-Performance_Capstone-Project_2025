{
 "cells": [
  {
   "cell_type": "markdown",
   "metadata": {},
   "source": [
    "# Triathlon Data - giving context\n",
    "\n",
    "### context\n",
    "This datas are giving a context to the relevance of our porject.\n",
    "Triathlon is the combination of the three endurance sports: swim - bike - run and is one of the most growing discipline of the last 30 years.\n",
    "First mentioned in the 20th of 19th century in France as \"les trois sports\" it got forgotten for decades.\n",
    "Only in 1978 it was reinvented in Hawaii where the anual Ironman still can be named as the mother of this sport.\n",
    "\n",
    "### aim\n",
    "We have two combineable datasets - one with all events between 1983 and 2022 and the other one with the individual athletes' results.\n",
    "We want to show the internationality of both, the events and the aethletes by mapping it on a worldmap.\n",
    "\n",
    "### process\n",
    "after checking the data for nulls and duplicats we bring the columns to meaningfull datatypes, droping columns like person names, to make it more anonymous and prepare the data for visualisation.\n",
    "\n",
    "We faced one major problem, as the column, that should show country-codes didn't follow a readable code (ISO-3166-1 alpha3) but was in a sport-related convention (GER instead of DEU).\n",
    "By filtering for those not fitting code, we builded a dictionary from geopandas to change those codes\n",
    "\n",
    "### results / further analysis & visualisations\n",
    "In this notebook are some first visualisations for the worldmap with geopanda. But the most will happen in tableau.\n",
    "As this Dataset for us was only an add-on, at first we didn't go to deep into potential questions like male vs. female distribution or difference between countries/regions that could lead to questions of potential social correlations."
   ]
  },
  {
   "cell_type": "code",
   "execution_count": 170,
   "metadata": {},
   "outputs": [],
   "source": [
    "import pandas as pd\n",
    "import matplotlib as plt\n",
    "import seaborn as sns\n",
    "import warnings\n",
    "warnings.filterwarnings(\"ignore\")"
   ]
  },
  {
   "cell_type": "markdown",
   "metadata": {},
   "source": [
    "# 1. read the data"
   ]
  },
  {
   "cell_type": "code",
   "execution_count": 171,
   "metadata": {},
   "outputs": [],
   "source": [
    "df_events_raw = pd.read_csv('../data_capestone/Triathlon/public_tristat_events.csv')\n"
   ]
  },
  {
   "cell_type": "code",
   "execution_count": 172,
   "metadata": {},
   "outputs": [],
   "source": [
    "df_stats_raw = pd.read_csv('../data_capestone/Triathlon/public_tristat_stat.csv')"
   ]
  },
  {
   "cell_type": "markdown",
   "metadata": {},
   "source": [
    "# 2. EDA"
   ]
  },
  {
   "cell_type": "markdown",
   "metadata": {},
   "source": [
    "## sports events"
   ]
  },
  {
   "cell_type": "code",
   "execution_count": 173,
   "metadata": {},
   "outputs": [
    {
     "name": "stdout",
     "output_type": "stream",
     "text": [
      "<class 'pandas.core.frame.DataFrame'>\n",
      "RangeIndex: 6012 entries, 0 to 6011\n",
      "Data columns (total 6 columns):\n",
      " #   Column       Non-Null Count  Dtype \n",
      "---  ------       --------------  ----- \n",
      " 0   event_dt     6012 non-null   object\n",
      " 1   event_flg    6012 non-null   object\n",
      " 2   event_name   6012 non-null   object\n",
      " 3   event_f_cnt  6012 non-null   int64 \n",
      " 4   event_m_cnt  6012 non-null   int64 \n",
      " 5   event_link   6012 non-null   object\n",
      "dtypes: int64(2), object(4)\n",
      "memory usage: 281.9+ KB\n"
     ]
    }
   ],
   "source": [
    "df_events_raw.info()"
   ]
  },
  {
   "cell_type": "markdown",
   "metadata": {},
   "source": [
    "no NULLs"
   ]
  },
  {
   "cell_type": "code",
   "execution_count": 174,
   "metadata": {},
   "outputs": [
    {
     "data": {
      "text/html": [
       "<div>\n",
       "<style scoped>\n",
       "    .dataframe tbody tr th:only-of-type {\n",
       "        vertical-align: middle;\n",
       "    }\n",
       "\n",
       "    .dataframe tbody tr th {\n",
       "        vertical-align: top;\n",
       "    }\n",
       "\n",
       "    .dataframe thead th {\n",
       "        text-align: right;\n",
       "    }\n",
       "</style>\n",
       "<table border=\"1\" class=\"dataframe\">\n",
       "  <thead>\n",
       "    <tr style=\"text-align: right;\">\n",
       "      <th></th>\n",
       "      <th>event_dt</th>\n",
       "      <th>event_flg</th>\n",
       "      <th>event_name</th>\n",
       "      <th>event_f_cnt</th>\n",
       "      <th>event_m_cnt</th>\n",
       "      <th>event_link</th>\n",
       "    </tr>\n",
       "  </thead>\n",
       "  <tbody>\n",
       "    <tr>\n",
       "      <th>0</th>\n",
       "      <td>2022-12-11</td>\n",
       "      <td>USA</td>\n",
       "      <td>Ironman Florida 70.3 2022</td>\n",
       "      <td>383</td>\n",
       "      <td>1105</td>\n",
       "      <td>/rus/result/ironman/florida/half/2022</td>\n",
       "    </tr>\n",
       "    <tr>\n",
       "      <th>1</th>\n",
       "      <td>2022-12-10</td>\n",
       "      <td>NZL</td>\n",
       "      <td>Ironman New Zealand 2022</td>\n",
       "      <td>93</td>\n",
       "      <td>318</td>\n",
       "      <td>/rus/result/ironman/new-zealand/full/2022</td>\n",
       "    </tr>\n",
       "    <tr>\n",
       "      <th>2</th>\n",
       "      <td>2022-12-10</td>\n",
       "      <td>NZL</td>\n",
       "      <td>Ironman New Zealand 70.3 2022</td>\n",
       "      <td>275</td>\n",
       "      <td>532</td>\n",
       "      <td>/rus/result/ironman/new-zealand/half/2022</td>\n",
       "    </tr>\n",
       "    <tr>\n",
       "      <th>3</th>\n",
       "      <td>2022-12-09</td>\n",
       "      <td>BRN</td>\n",
       "      <td>Ironman Bahrain 70.3 2022</td>\n",
       "      <td>107</td>\n",
       "      <td>576</td>\n",
       "      <td>/rus/result/ironman/bahrain/half/2022</td>\n",
       "    </tr>\n",
       "    <tr>\n",
       "      <th>4</th>\n",
       "      <td>2022-12-04</td>\n",
       "      <td>ARG</td>\n",
       "      <td>Ironman Argentina 2022</td>\n",
       "      <td>21</td>\n",
       "      <td>290</td>\n",
       "      <td>/rus/result/ironman/argentina/full/2022</td>\n",
       "    </tr>\n",
       "  </tbody>\n",
       "</table>\n",
       "</div>"
      ],
      "text/plain": [
       "     event_dt event_flg                     event_name  event_f_cnt  \\\n",
       "0  2022-12-11       USA      Ironman Florida 70.3 2022          383   \n",
       "1  2022-12-10       NZL       Ironman New Zealand 2022           93   \n",
       "2  2022-12-10       NZL  Ironman New Zealand 70.3 2022          275   \n",
       "3  2022-12-09       BRN      Ironman Bahrain 70.3 2022          107   \n",
       "4  2022-12-04       ARG         Ironman Argentina 2022           21   \n",
       "\n",
       "   event_m_cnt                                 event_link  \n",
       "0         1105      /rus/result/ironman/florida/half/2022  \n",
       "1          318  /rus/result/ironman/new-zealand/full/2022  \n",
       "2          532  /rus/result/ironman/new-zealand/half/2022  \n",
       "3          576      /rus/result/ironman/bahrain/half/2022  \n",
       "4          290    /rus/result/ironman/argentina/full/2022  "
      ]
     },
     "execution_count": 174,
     "metadata": {},
     "output_type": "execute_result"
    }
   ],
   "source": [
    "df_events_raw.head()"
   ]
  },
  {
   "cell_type": "markdown",
   "metadata": {},
   "source": [
    "## sports athletes"
   ]
  },
  {
   "cell_type": "code",
   "execution_count": 175,
   "metadata": {},
   "outputs": [
    {
     "name": "stdout",
     "output_type": "stream",
     "text": [
      "<class 'pandas.core.frame.DataFrame'>\n",
      "RangeIndex: 2961502 entries, 0 to 2961501\n",
      "Data columns (total 12 columns):\n",
      " #   Column                         Dtype \n",
      "---  ------                         ----- \n",
      " 0   event_link                     object\n",
      " 1   gender                         object\n",
      " 2   person_link                    object\n",
      " 3   person_flag                    object\n",
      " 4   person_name                    object\n",
      " 5   person_event_group             object\n",
      " 6   person_event_swim_time_text    object\n",
      " 7   person_event_t1_time_text      object\n",
      " 8   person_event_cycle_time_text   object\n",
      " 9   person_event_t2_time_text      object\n",
      " 10  person_event_run_time_text     object\n",
      " 11  person_event_finish_time_text  object\n",
      "dtypes: object(12)\n",
      "memory usage: 271.1+ MB\n"
     ]
    }
   ],
   "source": [
    "df_stats_raw.info()"
   ]
  },
  {
   "cell_type": "markdown",
   "metadata": {},
   "source": [
    "Due to the amount of rows the .info() doesn't work well to look for NaN"
   ]
  },
  {
   "cell_type": "code",
   "execution_count": 176,
   "metadata": {},
   "outputs": [
    {
     "data": {
      "text/plain": [
       "event_link                       False\n",
       "gender                            True\n",
       "person_link                       True\n",
       "person_flag                       True\n",
       "person_name                       True\n",
       "person_event_group                True\n",
       "person_event_swim_time_text      False\n",
       "person_event_t1_time_text        False\n",
       "person_event_cycle_time_text     False\n",
       "person_event_t2_time_text        False\n",
       "person_event_run_time_text       False\n",
       "person_event_finish_time_text    False\n",
       "dtype: bool"
      ]
     },
     "execution_count": 176,
     "metadata": {},
     "output_type": "execute_result"
    }
   ],
   "source": [
    "# are there an NaN?\n",
    "\n",
    "df_stats_raw.isnull().any()"
   ]
  },
  {
   "cell_type": "code",
   "execution_count": 177,
   "metadata": {},
   "outputs": [
    {
     "data": {
      "text/plain": [
       "event_link                       0.000000\n",
       "gender                           0.000169\n",
       "person_link                      2.253654\n",
       "person_flag                      1.993515\n",
       "person_name                      0.000034\n",
       "person_event_group               0.052237\n",
       "person_event_swim_time_text      0.000000\n",
       "person_event_t1_time_text        0.000000\n",
       "person_event_cycle_time_text     0.000000\n",
       "person_event_t2_time_text        0.000000\n",
       "person_event_run_time_text       0.000000\n",
       "person_event_finish_time_text    0.000000\n",
       "dtype: float64"
      ]
     },
     "execution_count": 177,
     "metadata": {},
     "output_type": "execute_result"
    }
   ],
   "source": [
    "# what is the precentage of NaN per row\n",
    "\n",
    "df_stats_raw.isnull().mean() * 100"
   ]
  },
  {
   "cell_type": "code",
   "execution_count": 178,
   "metadata": {},
   "outputs": [
    {
     "data": {
      "text/html": [
       "<div>\n",
       "<style scoped>\n",
       "    .dataframe tbody tr th:only-of-type {\n",
       "        vertical-align: middle;\n",
       "    }\n",
       "\n",
       "    .dataframe tbody tr th {\n",
       "        vertical-align: top;\n",
       "    }\n",
       "\n",
       "    .dataframe thead th {\n",
       "        text-align: right;\n",
       "    }\n",
       "</style>\n",
       "<table border=\"1\" class=\"dataframe\">\n",
       "  <thead>\n",
       "    <tr style=\"text-align: right;\">\n",
       "      <th></th>\n",
       "      <th>event_link</th>\n",
       "      <th>gender</th>\n",
       "      <th>person_link</th>\n",
       "      <th>person_flag</th>\n",
       "      <th>person_name</th>\n",
       "      <th>person_event_group</th>\n",
       "      <th>person_event_swim_time_text</th>\n",
       "      <th>person_event_t1_time_text</th>\n",
       "      <th>person_event_cycle_time_text</th>\n",
       "      <th>person_event_t2_time_text</th>\n",
       "      <th>person_event_run_time_text</th>\n",
       "      <th>person_event_finish_time_text</th>\n",
       "    </tr>\n",
       "  </thead>\n",
       "  <tbody>\n",
       "    <tr>\n",
       "      <th>0</th>\n",
       "      <td>/rus/result/ironman/ireland-cork/full/2019</td>\n",
       "      <td>M</td>\n",
       "      <td>/irl/profile/halliwell-mark</td>\n",
       "      <td>IRL</td>\n",
       "      <td>Halliwell, Mark</td>\n",
       "      <td>M45-49</td>\n",
       "      <td>0:00</td>\n",
       "      <td>0:00</td>\n",
       "      <td>7:52:05</td>\n",
       "      <td>19:00</td>\n",
       "      <td>5:26:34</td>\n",
       "      <td>13:37:39</td>\n",
       "    </tr>\n",
       "    <tr>\n",
       "      <th>1</th>\n",
       "      <td>/rus/result/ironman/ireland-cork/full/2019</td>\n",
       "      <td>F</td>\n",
       "      <td>/usa/profile/harris-polly</td>\n",
       "      <td>USA</td>\n",
       "      <td>Harris, Polly</td>\n",
       "      <td>F50-54</td>\n",
       "      <td>0:00</td>\n",
       "      <td>0:00</td>\n",
       "      <td>7:58:53</td>\n",
       "      <td>16:37</td>\n",
       "      <td>5:22:09</td>\n",
       "      <td>13:37:40</td>\n",
       "    </tr>\n",
       "    <tr>\n",
       "      <th>2</th>\n",
       "      <td>/rus/result/ironman/ireland-cork/full/2019</td>\n",
       "      <td>M</td>\n",
       "      <td>/fra/profile/peugeot-rodolphe</td>\n",
       "      <td>FRA</td>\n",
       "      <td>Peugeot, Rodolphe</td>\n",
       "      <td>M25-29</td>\n",
       "      <td>0:00</td>\n",
       "      <td>0:00</td>\n",
       "      <td>7:57:05</td>\n",
       "      <td>10:40</td>\n",
       "      <td>5:30:10</td>\n",
       "      <td>13:37:55</td>\n",
       "    </tr>\n",
       "    <tr>\n",
       "      <th>3</th>\n",
       "      <td>/rus/result/ironman/ireland-cork/full/2019</td>\n",
       "      <td>F</td>\n",
       "      <td>/gbr/profile/crawford-lisa</td>\n",
       "      <td>GBR</td>\n",
       "      <td>Crawford, Lisa</td>\n",
       "      <td>F50-54</td>\n",
       "      <td>0:00</td>\n",
       "      <td>0:00</td>\n",
       "      <td>7:44:47</td>\n",
       "      <td>12:51</td>\n",
       "      <td>5:40:21</td>\n",
       "      <td>13:37:59</td>\n",
       "    </tr>\n",
       "    <tr>\n",
       "      <th>4</th>\n",
       "      <td>/rus/result/ironman/ireland-cork/full/2019</td>\n",
       "      <td>M</td>\n",
       "      <td>/usa/profile/brumit-aaron</td>\n",
       "      <td>USA</td>\n",
       "      <td>Brumit, Aaron</td>\n",
       "      <td>M45-49</td>\n",
       "      <td>0:00</td>\n",
       "      <td>0:00</td>\n",
       "      <td>7:12:38</td>\n",
       "      <td>34:01</td>\n",
       "      <td>5:51:50</td>\n",
       "      <td>13:38:29</td>\n",
       "    </tr>\n",
       "  </tbody>\n",
       "</table>\n",
       "</div>"
      ],
      "text/plain": [
       "                                   event_link gender  \\\n",
       "0  /rus/result/ironman/ireland-cork/full/2019      M   \n",
       "1  /rus/result/ironman/ireland-cork/full/2019      F   \n",
       "2  /rus/result/ironman/ireland-cork/full/2019      M   \n",
       "3  /rus/result/ironman/ireland-cork/full/2019      F   \n",
       "4  /rus/result/ironman/ireland-cork/full/2019      M   \n",
       "\n",
       "                     person_link person_flag        person_name  \\\n",
       "0    /irl/profile/halliwell-mark         IRL    Halliwell, Mark   \n",
       "1      /usa/profile/harris-polly         USA      Harris, Polly   \n",
       "2  /fra/profile/peugeot-rodolphe         FRA  Peugeot, Rodolphe   \n",
       "3     /gbr/profile/crawford-lisa         GBR     Crawford, Lisa   \n",
       "4      /usa/profile/brumit-aaron         USA      Brumit, Aaron   \n",
       "\n",
       "  person_event_group person_event_swim_time_text person_event_t1_time_text  \\\n",
       "0             M45-49                        0:00                      0:00   \n",
       "1             F50-54                        0:00                      0:00   \n",
       "2             M25-29                        0:00                      0:00   \n",
       "3             F50-54                        0:00                      0:00   \n",
       "4             M45-49                        0:00                      0:00   \n",
       "\n",
       "  person_event_cycle_time_text person_event_t2_time_text  \\\n",
       "0                      7:52:05                     19:00   \n",
       "1                      7:58:53                     16:37   \n",
       "2                      7:57:05                     10:40   \n",
       "3                      7:44:47                     12:51   \n",
       "4                      7:12:38                     34:01   \n",
       "\n",
       "  person_event_run_time_text person_event_finish_time_text  \n",
       "0                    5:26:34                      13:37:39  \n",
       "1                    5:22:09                      13:37:40  \n",
       "2                    5:30:10                      13:37:55  \n",
       "3                    5:40:21                      13:37:59  \n",
       "4                    5:51:50                      13:38:29  "
      ]
     },
     "execution_count": 178,
     "metadata": {},
     "output_type": "execute_result"
    }
   ],
   "source": [
    "df_stats_raw.head()"
   ]
  },
  {
   "cell_type": "markdown",
   "metadata": {},
   "source": [
    "# 3. cleaning"
   ]
  },
  {
   "cell_type": "markdown",
   "metadata": {},
   "source": [
    "# 3.1 cleaning events"
   ]
  },
  {
   "cell_type": "markdown",
   "metadata": {},
   "source": [
    "### 3.1.1 duplicates"
   ]
  },
  {
   "cell_type": "code",
   "execution_count": 179,
   "metadata": {},
   "outputs": [
    {
     "name": "stdout",
     "output_type": "stream",
     "text": [
      "Number of duplicats:  0\n"
     ]
    }
   ],
   "source": [
    "duplicates_e = df_events_raw[df_events_raw.duplicated()]\n",
    "\n",
    "print('Number of duplicats: ', len(duplicates_e))"
   ]
  },
  {
   "cell_type": "markdown",
   "metadata": {},
   "source": [
    "### 3.1.2 NaN\n",
    "\n",
    "There are no NaN in events"
   ]
  },
  {
   "cell_type": "markdown",
   "metadata": {},
   "source": [
    "### 3.1.3 datatypes"
   ]
  },
  {
   "cell_type": "code",
   "execution_count": 180,
   "metadata": {},
   "outputs": [],
   "source": [
    "df_events = df_events_raw"
   ]
  },
  {
   "cell_type": "code",
   "execution_count": 181,
   "metadata": {},
   "outputs": [],
   "source": [
    "## event_dt to date\n",
    "\n",
    "df_events['event_dt'] = pd.to_datetime(df_events['event_dt'])"
   ]
  },
  {
   "cell_type": "code",
   "execution_count": 182,
   "metadata": {},
   "outputs": [],
   "source": [
    "## object to string\n",
    "\n",
    "df_events['event_flg'] = df_events['event_flg'].astype('string')\n",
    "\n",
    "df_events['event_name'] = df_events['event_name'].astype('string')\n",
    "\n",
    "df_events['event_link'] = df_events['event_link'].astype('string')"
   ]
  },
  {
   "cell_type": "code",
   "execution_count": 183,
   "metadata": {},
   "outputs": [
    {
     "name": "stdout",
     "output_type": "stream",
     "text": [
      "<class 'pandas.core.frame.DataFrame'>\n",
      "RangeIndex: 6012 entries, 0 to 6011\n",
      "Data columns (total 6 columns):\n",
      " #   Column       Non-Null Count  Dtype         \n",
      "---  ------       --------------  -----         \n",
      " 0   event_dt     6012 non-null   datetime64[ns]\n",
      " 1   event_flg    6012 non-null   string        \n",
      " 2   event_name   6012 non-null   string        \n",
      " 3   event_f_cnt  6012 non-null   int64         \n",
      " 4   event_m_cnt  6012 non-null   int64         \n",
      " 5   event_link   6012 non-null   string        \n",
      "dtypes: datetime64[ns](1), int64(2), string(3)\n",
      "memory usage: 281.9 KB\n"
     ]
    }
   ],
   "source": [
    "df_events.info()"
   ]
  },
  {
   "cell_type": "markdown",
   "metadata": {},
   "source": [
    "# 3.2 cleaning stats"
   ]
  },
  {
   "cell_type": "markdown",
   "metadata": {},
   "source": [
    "### 3.2.1 duplicates"
   ]
  },
  {
   "cell_type": "code",
   "execution_count": 184,
   "metadata": {},
   "outputs": [
    {
     "name": "stdout",
     "output_type": "stream",
     "text": [
      "Number of duplicats:  3112\n"
     ]
    }
   ],
   "source": [
    "duplicates_s = df_stats_raw[df_stats_raw.duplicated(keep=False)]\n",
    "\n",
    "print('Number of duplicats: ', len(duplicates_s))"
   ]
  },
  {
   "cell_type": "code",
   "execution_count": 185,
   "metadata": {},
   "outputs": [
    {
     "data": {
      "text/html": [
       "<div>\n",
       "<style scoped>\n",
       "    .dataframe tbody tr th:only-of-type {\n",
       "        vertical-align: middle;\n",
       "    }\n",
       "\n",
       "    .dataframe tbody tr th {\n",
       "        vertical-align: top;\n",
       "    }\n",
       "\n",
       "    .dataframe thead th {\n",
       "        text-align: right;\n",
       "    }\n",
       "</style>\n",
       "<table border=\"1\" class=\"dataframe\">\n",
       "  <thead>\n",
       "    <tr style=\"text-align: right;\">\n",
       "      <th></th>\n",
       "      <th>event_link</th>\n",
       "      <th>gender</th>\n",
       "      <th>person_link</th>\n",
       "      <th>person_flag</th>\n",
       "      <th>person_name</th>\n",
       "      <th>person_event_group</th>\n",
       "      <th>person_event_swim_time_text</th>\n",
       "      <th>person_event_t1_time_text</th>\n",
       "      <th>person_event_cycle_time_text</th>\n",
       "      <th>person_event_t2_time_text</th>\n",
       "      <th>person_event_run_time_text</th>\n",
       "      <th>person_event_finish_time_text</th>\n",
       "    </tr>\n",
       "  </thead>\n",
       "  <tbody>\n",
       "    <tr>\n",
       "      <th>2854713</th>\n",
       "      <td>/rus/result/challenge/european-championship-al...</td>\n",
       "      <td>F</td>\n",
       "      <td>/gbr/profile/wood-ger</td>\n",
       "      <td>GBR</td>\n",
       "      <td>Wood Ger</td>\n",
       "      <td>F60-64</td>\n",
       "      <td>1:41:53</td>\n",
       "      <td>10:07</td>\n",
       "      <td>7:06:02</td>\n",
       "      <td>7:00</td>\n",
       "      <td>5:51:31</td>\n",
       "      <td>14:56:31</td>\n",
       "    </tr>\n",
       "    <tr>\n",
       "      <th>2854714</th>\n",
       "      <td>/rus/result/challenge/european-championship-al...</td>\n",
       "      <td>F</td>\n",
       "      <td>/gbr/profile/wood-ger</td>\n",
       "      <td>GBR</td>\n",
       "      <td>Wood Ger</td>\n",
       "      <td>F60-64</td>\n",
       "      <td>1:41:53</td>\n",
       "      <td>10:07</td>\n",
       "      <td>7:06:02</td>\n",
       "      <td>7:00</td>\n",
       "      <td>5:51:31</td>\n",
       "      <td>14:56:31</td>\n",
       "    </tr>\n",
       "    <tr>\n",
       "      <th>2854689</th>\n",
       "      <td>/rus/result/challenge/european-championship-al...</td>\n",
       "      <td>F</td>\n",
       "      <td>/ned/profile/commandeur-brigitta</td>\n",
       "      <td>NED</td>\n",
       "      <td>Commandeur Brigitta</td>\n",
       "      <td>F60-64</td>\n",
       "      <td>1:26:50</td>\n",
       "      <td>12:51</td>\n",
       "      <td>5:56:29</td>\n",
       "      <td>10:04</td>\n",
       "      <td>4:40:20</td>\n",
       "      <td>12:26:31</td>\n",
       "    </tr>\n",
       "    <tr>\n",
       "      <th>2854690</th>\n",
       "      <td>/rus/result/challenge/european-championship-al...</td>\n",
       "      <td>F</td>\n",
       "      <td>/ned/profile/commandeur-brigitta</td>\n",
       "      <td>NED</td>\n",
       "      <td>Commandeur Brigitta</td>\n",
       "      <td>F60-64</td>\n",
       "      <td>1:26:50</td>\n",
       "      <td>12:51</td>\n",
       "      <td>5:56:29</td>\n",
       "      <td>10:04</td>\n",
       "      <td>4:40:20</td>\n",
       "      <td>12:26:31</td>\n",
       "    </tr>\n",
       "    <tr>\n",
       "      <th>2854675</th>\n",
       "      <td>/rus/result/challenge/european-championship-al...</td>\n",
       "      <td>F</td>\n",
       "      <td>/ned/profile/sollie-gerda-2</td>\n",
       "      <td>NED</td>\n",
       "      <td>Sollie Gerda</td>\n",
       "      <td>F60-64</td>\n",
       "      <td>1:14:57</td>\n",
       "      <td>5:28</td>\n",
       "      <td>5:58:12</td>\n",
       "      <td>4:55</td>\n",
       "      <td>4:38:46</td>\n",
       "      <td>12:02:17</td>\n",
       "    </tr>\n",
       "  </tbody>\n",
       "</table>\n",
       "</div>"
      ],
      "text/plain": [
       "                                                event_link gender  \\\n",
       "2854713  /rus/result/challenge/european-championship-al...      F   \n",
       "2854714  /rus/result/challenge/european-championship-al...      F   \n",
       "2854689  /rus/result/challenge/european-championship-al...      F   \n",
       "2854690  /rus/result/challenge/european-championship-al...      F   \n",
       "2854675  /rus/result/challenge/european-championship-al...      F   \n",
       "\n",
       "                              person_link person_flag          person_name  \\\n",
       "2854713             /gbr/profile/wood-ger         GBR             Wood Ger   \n",
       "2854714             /gbr/profile/wood-ger         GBR             Wood Ger   \n",
       "2854689  /ned/profile/commandeur-brigitta         NED  Commandeur Brigitta   \n",
       "2854690  /ned/profile/commandeur-brigitta         NED  Commandeur Brigitta   \n",
       "2854675       /ned/profile/sollie-gerda-2         NED         Sollie Gerda   \n",
       "\n",
       "        person_event_group person_event_swim_time_text  \\\n",
       "2854713             F60-64                     1:41:53   \n",
       "2854714             F60-64                     1:41:53   \n",
       "2854689             F60-64                     1:26:50   \n",
       "2854690             F60-64                     1:26:50   \n",
       "2854675             F60-64                     1:14:57   \n",
       "\n",
       "        person_event_t1_time_text person_event_cycle_time_text  \\\n",
       "2854713                     10:07                      7:06:02   \n",
       "2854714                     10:07                      7:06:02   \n",
       "2854689                     12:51                      5:56:29   \n",
       "2854690                     12:51                      5:56:29   \n",
       "2854675                      5:28                      5:58:12   \n",
       "\n",
       "        person_event_t2_time_text person_event_run_time_text  \\\n",
       "2854713                      7:00                    5:51:31   \n",
       "2854714                      7:00                    5:51:31   \n",
       "2854689                     10:04                    4:40:20   \n",
       "2854690                     10:04                    4:40:20   \n",
       "2854675                      4:55                    4:38:46   \n",
       "\n",
       "        person_event_finish_time_text  \n",
       "2854713                      14:56:31  \n",
       "2854714                      14:56:31  \n",
       "2854689                      12:26:31  \n",
       "2854690                      12:26:31  \n",
       "2854675                      12:02:17  "
      ]
     },
     "execution_count": 185,
     "metadata": {},
     "output_type": "execute_result"
    }
   ],
   "source": [
    "duplicates_sorted = duplicates_s.sort_values(by=list(df_stats_raw.columns))\n",
    "duplicates_sorted.head()"
   ]
  },
  {
   "cell_type": "markdown",
   "metadata": {},
   "source": [
    "Keep the first and drop the duplicates"
   ]
  },
  {
   "cell_type": "code",
   "execution_count": 186,
   "metadata": {},
   "outputs": [],
   "source": [
    "df_stats = df_stats_raw.drop_duplicates(keep = 'first', ignore_index = True, inplace=False)\n"
   ]
  },
  {
   "cell_type": "code",
   "execution_count": 187,
   "metadata": {},
   "outputs": [
    {
     "name": "stdout",
     "output_type": "stream",
     "text": [
      "<class 'pandas.core.frame.DataFrame'>\n",
      "RangeIndex: 2959946 entries, 0 to 2959945\n",
      "Data columns (total 12 columns):\n",
      " #   Column                         Dtype \n",
      "---  ------                         ----- \n",
      " 0   event_link                     object\n",
      " 1   gender                         object\n",
      " 2   person_link                    object\n",
      " 3   person_flag                    object\n",
      " 4   person_name                    object\n",
      " 5   person_event_group             object\n",
      " 6   person_event_swim_time_text    object\n",
      " 7   person_event_t1_time_text      object\n",
      " 8   person_event_cycle_time_text   object\n",
      " 9   person_event_t2_time_text      object\n",
      " 10  person_event_run_time_text     object\n",
      " 11  person_event_finish_time_text  object\n",
      "dtypes: object(12)\n",
      "memory usage: 271.0+ MB\n"
     ]
    }
   ],
   "source": [
    "df_stats.info()"
   ]
  },
  {
   "cell_type": "markdown",
   "metadata": {},
   "source": [
    "### 3.2.2 NaN"
   ]
  },
  {
   "cell_type": "code",
   "execution_count": 188,
   "metadata": {},
   "outputs": [
    {
     "data": {
      "text/plain": [
       "event_link                       0.000000\n",
       "gender                           0.000169\n",
       "person_link                      2.254737\n",
       "person_flag                      1.994563\n",
       "person_name                      0.000034\n",
       "person_event_group               0.052264\n",
       "person_event_swim_time_text      0.000000\n",
       "person_event_t1_time_text        0.000000\n",
       "person_event_cycle_time_text     0.000000\n",
       "person_event_t2_time_text        0.000000\n",
       "person_event_run_time_text       0.000000\n",
       "person_event_finish_time_text    0.000000\n",
       "dtype: float64"
      ]
     },
     "execution_count": 188,
     "metadata": {},
     "output_type": "execute_result"
    }
   ],
   "source": [
    "# what is the precentage of NaN per row\n",
    "\n",
    "df_stats.isnull().mean() * 100"
   ]
  },
  {
   "cell_type": "markdown",
   "metadata": {},
   "source": [
    "#### gender"
   ]
  },
  {
   "cell_type": "markdown",
   "metadata": {},
   "source": [
    "As it's less then 1% I'll drop the missing gender"
   ]
  },
  {
   "cell_type": "code",
   "execution_count": 189,
   "metadata": {},
   "outputs": [],
   "source": [
    "df_stats = df_stats.dropna(subset=['gender'])"
   ]
  },
  {
   "cell_type": "markdown",
   "metadata": {},
   "source": [
    "#### person_link"
   ]
  },
  {
   "cell_type": "code",
   "execution_count": 190,
   "metadata": {},
   "outputs": [
    {
     "data": {
      "text/html": [
       "<div>\n",
       "<style scoped>\n",
       "    .dataframe tbody tr th:only-of-type {\n",
       "        vertical-align: middle;\n",
       "    }\n",
       "\n",
       "    .dataframe tbody tr th {\n",
       "        vertical-align: top;\n",
       "    }\n",
       "\n",
       "    .dataframe thead th {\n",
       "        text-align: right;\n",
       "    }\n",
       "</style>\n",
       "<table border=\"1\" class=\"dataframe\">\n",
       "  <thead>\n",
       "    <tr style=\"text-align: right;\">\n",
       "      <th></th>\n",
       "      <th>event_link</th>\n",
       "      <th>gender</th>\n",
       "      <th>person_link</th>\n",
       "      <th>person_flag</th>\n",
       "      <th>person_name</th>\n",
       "      <th>person_event_group</th>\n",
       "      <th>person_event_swim_time_text</th>\n",
       "      <th>person_event_t1_time_text</th>\n",
       "      <th>person_event_cycle_time_text</th>\n",
       "      <th>person_event_t2_time_text</th>\n",
       "      <th>person_event_run_time_text</th>\n",
       "      <th>person_event_finish_time_text</th>\n",
       "    </tr>\n",
       "  </thead>\n",
       "  <tbody>\n",
       "    <tr>\n",
       "      <th>597</th>\n",
       "      <td>/rus/result/ironman/costa-rica/half/2019</td>\n",
       "      <td>M</td>\n",
       "      <td>NaN</td>\n",
       "      <td>NaN</td>\n",
       "      <td>Salas corella, Roy</td>\n",
       "      <td>M40-44</td>\n",
       "      <td>53:47</td>\n",
       "      <td>2:53</td>\n",
       "      <td>3:12:38</td>\n",
       "      <td>2:44</td>\n",
       "      <td>2:10:36</td>\n",
       "      <td>6:22:38</td>\n",
       "    </tr>\n",
       "    <tr>\n",
       "      <th>2416</th>\n",
       "      <td>/rus/result/ironman/elsinore/half/2019</td>\n",
       "      <td>M</td>\n",
       "      <td>NaN</td>\n",
       "      <td>UKR</td>\n",
       "      <td>,</td>\n",
       "      <td>M30-34</td>\n",
       "      <td>34:36</td>\n",
       "      <td>7:40</td>\n",
       "      <td>3:10:01</td>\n",
       "      <td>3:04</td>\n",
       "      <td>1:59:14</td>\n",
       "      <td>5:54:35</td>\n",
       "    </tr>\n",
       "    <tr>\n",
       "      <th>5922</th>\n",
       "      <td>/rus/result/swissman/extreme-triathlon/full/2019</td>\n",
       "      <td>F</td>\n",
       "      <td>NaN</td>\n",
       "      <td>NaN</td>\n",
       "      <td>Heleen de Hooge</td>\n",
       "      <td>F</td>\n",
       "      <td>0:00</td>\n",
       "      <td>0:00</td>\n",
       "      <td>0:00</td>\n",
       "      <td>0:00</td>\n",
       "      <td>0:00</td>\n",
       "      <td>13:25:00</td>\n",
       "    </tr>\n",
       "    <tr>\n",
       "      <th>11929</th>\n",
       "      <td>/rus/result/ironman/luxembourg/half/2019</td>\n",
       "      <td>M</td>\n",
       "      <td>NaN</td>\n",
       "      <td>ISR</td>\n",
       "      <td>הוכמן, קובי</td>\n",
       "      <td>M45-49</td>\n",
       "      <td>36:47</td>\n",
       "      <td>6:15</td>\n",
       "      <td>3:05:22</td>\n",
       "      <td>4:29</td>\n",
       "      <td>2:22:23</td>\n",
       "      <td>6:15:15</td>\n",
       "    </tr>\n",
       "    <tr>\n",
       "      <th>14337</th>\n",
       "      <td>/rus/result/celtman/extreme-scottish-triathlon...</td>\n",
       "      <td>F</td>\n",
       "      <td>NaN</td>\n",
       "      <td>NaN</td>\n",
       "      <td>Catriona Macleod</td>\n",
       "      <td>FWHITE</td>\n",
       "      <td>1:18:38</td>\n",
       "      <td>11:09</td>\n",
       "      <td>7:44:01</td>\n",
       "      <td>0:00</td>\n",
       "      <td>4:48:50</td>\n",
       "      <td>14:02:38</td>\n",
       "    </tr>\n",
       "  </tbody>\n",
       "</table>\n",
       "</div>"
      ],
      "text/plain": [
       "                                              event_link gender person_link  \\\n",
       "597             /rus/result/ironman/costa-rica/half/2019      M         NaN   \n",
       "2416              /rus/result/ironman/elsinore/half/2019      M         NaN   \n",
       "5922    /rus/result/swissman/extreme-triathlon/full/2019      F         NaN   \n",
       "11929           /rus/result/ironman/luxembourg/half/2019      M         NaN   \n",
       "14337  /rus/result/celtman/extreme-scottish-triathlon...      F         NaN   \n",
       "\n",
       "      person_flag         person_name person_event_group  \\\n",
       "597           NaN  Salas corella, Roy             M40-44   \n",
       "2416          UKR                   ,             M30-34   \n",
       "5922          NaN     Heleen de Hooge                  F   \n",
       "11929         ISR         הוכמן, קובי             M45-49   \n",
       "14337         NaN    Catriona Macleod             FWHITE   \n",
       "\n",
       "      person_event_swim_time_text person_event_t1_time_text  \\\n",
       "597                         53:47                      2:53   \n",
       "2416                        34:36                      7:40   \n",
       "5922                         0:00                      0:00   \n",
       "11929                       36:47                      6:15   \n",
       "14337                     1:18:38                     11:09   \n",
       "\n",
       "      person_event_cycle_time_text person_event_t2_time_text  \\\n",
       "597                        3:12:38                      2:44   \n",
       "2416                       3:10:01                      3:04   \n",
       "5922                          0:00                      0:00   \n",
       "11929                      3:05:22                      4:29   \n",
       "14337                      7:44:01                      0:00   \n",
       "\n",
       "      person_event_run_time_text person_event_finish_time_text  \n",
       "597                      2:10:36                       6:22:38  \n",
       "2416                     1:59:14                       5:54:35  \n",
       "5922                        0:00                      13:25:00  \n",
       "11929                    2:22:23                       6:15:15  \n",
       "14337                    4:48:50                      14:02:38  "
      ]
     },
     "execution_count": 190,
     "metadata": {},
     "output_type": "execute_result"
    }
   ],
   "source": [
    "\n",
    "df_tri_noPerson=df_stats[df_stats['person_link'].isna()]\n",
    "df_tri_noPerson.head()"
   ]
  },
  {
   "cell_type": "markdown",
   "metadata": {},
   "source": [
    "That would be 66.000 participants.\n",
    "But do they include other information like gender or country?"
   ]
  },
  {
   "cell_type": "code",
   "execution_count": 191,
   "metadata": {},
   "outputs": [
    {
     "data": {
      "text/plain": [
       "event_link                         0.000000\n",
       "gender                             0.000000\n",
       "person_link                      100.000000\n",
       "person_flag                       88.460328\n",
       "person_name                        0.001498\n",
       "person_event_group                 0.555930\n",
       "person_event_swim_time_text        0.000000\n",
       "person_event_t1_time_text          0.000000\n",
       "person_event_cycle_time_text       0.000000\n",
       "person_event_t2_time_text          0.000000\n",
       "person_event_run_time_text         0.000000\n",
       "person_event_finish_time_text      0.000000\n",
       "dtype: float64"
      ]
     },
     "execution_count": 191,
     "metadata": {},
     "output_type": "execute_result"
    }
   ],
   "source": [
    "# what other columns may be missing\n",
    "\n",
    "df_tri_noPerson.isnull().mean() * 100"
   ]
  },
  {
   "cell_type": "markdown",
   "metadata": {},
   "source": [
    "Less then 1% missing the person_event_group. So I will drop those but keep the rest for now."
   ]
  },
  {
   "cell_type": "code",
   "execution_count": 192,
   "metadata": {},
   "outputs": [],
   "source": [
    "# droping the cases where person_link AND person_event_group are NaN\n",
    "\n",
    "df_stats = df_stats.dropna(subset=['person_link', 'person_event_group'], how='all')\n"
   ]
  },
  {
   "cell_type": "markdown",
   "metadata": {},
   "source": [
    "#### person_event_group"
   ]
  },
  {
   "cell_type": "code",
   "execution_count": 193,
   "metadata": {},
   "outputs": [
    {
     "data": {
      "text/plain": [
       "event_link                       0.000000\n",
       "gender                           0.000000\n",
       "person_link                      2.242353\n",
       "person_flag                      1.982214\n",
       "person_name                      0.000034\n",
       "person_event_group               0.039736\n",
       "person_event_swim_time_text      0.000000\n",
       "person_event_t1_time_text        0.000000\n",
       "person_event_cycle_time_text     0.000000\n",
       "person_event_t2_time_text        0.000000\n",
       "person_event_run_time_text       0.000000\n",
       "person_event_finish_time_text    0.000000\n",
       "dtype: float64"
      ]
     },
     "execution_count": 193,
     "metadata": {},
     "output_type": "execute_result"
    }
   ],
   "source": [
    "df_stats.isnull().mean() * 100"
   ]
  },
  {
   "cell_type": "markdown",
   "metadata": {},
   "source": [
    "Less then 1% missing person_event_group, so I drop them"
   ]
  },
  {
   "cell_type": "code",
   "execution_count": 194,
   "metadata": {},
   "outputs": [],
   "source": [
    "df_stats = df_stats.dropna(subset=['person_event_group'])"
   ]
  },
  {
   "cell_type": "code",
   "execution_count": 195,
   "metadata": {},
   "outputs": [
    {
     "name": "stdout",
     "output_type": "stream",
     "text": [
      "The number of rows with any NaN is 66,364\n"
     ]
    }
   ],
   "source": [
    "print(f\"The number of rows with any NaN is {df_stats.isnull().any(axis=1).sum():,}\")"
   ]
  },
  {
   "cell_type": "markdown",
   "metadata": {},
   "source": [
    "I'll keep the rest for now."
   ]
  },
  {
   "cell_type": "markdown",
   "metadata": {},
   "source": [
    "### 3.2.3 datatypes"
   ]
  },
  {
   "cell_type": "markdown",
   "metadata": {},
   "source": [
    "3.2.3.1. timedelta"
   ]
  },
  {
   "cell_type": "code",
   "execution_count": 196,
   "metadata": {},
   "outputs": [],
   "source": [
    "## timeinterval via timedelta for all _time_text columns as _time\n",
    "\n",
    "#  1. prepare object to HH:MM:SS / seperated by ':' => three parts \n",
    "#           if only 2 parts, add 00: as hours, fill minutes up to 0x: if needed\n",
    "#           if already three parts, fill hours up to 0x: if needed\n",
    "\n",
    "def convert_to_hhmmss(time_str):\n",
    "    parts = time_str.split(':')\n",
    "    if len(parts) == 2:\n",
    "        minutes = parts[0].zfill(2) \n",
    "        seconds = parts[1]\n",
    "        return f\"00:{minutes}:{seconds}\" \n",
    "    elif len(parts) == 3:\n",
    "        hours = parts[0].zfill(2) \n",
    "        minutes = parts[1]\n",
    "        seconds = parts[2]\n",
    "        return f\"{hours}:{minutes}:{seconds}\"  \n",
    "    return time_str "
   ]
  },
  {
   "cell_type": "code",
   "execution_count": 197,
   "metadata": {},
   "outputs": [],
   "source": [
    "## run function on the different columns\n",
    "\n",
    "# swim\n",
    "\n",
    "df_stats['swim_time_intervals'] = df_stats['person_event_swim_time_text'].apply(convert_to_hhmmss)\n",
    "\n",
    "# bike\n",
    "\n",
    "df_stats['bike_time_intervals'] = df_stats['person_event_cycle_time_text'].apply(convert_to_hhmmss)\n",
    "\n",
    "# run\n",
    "\n",
    "df_stats['run_time_intervals'] = df_stats['person_event_run_time_text'].apply(convert_to_hhmmss)\n",
    "\n",
    "# t1 change\n",
    "\n",
    "df_stats['t1_time_intervals'] = df_stats['person_event_t1_time_text'].apply(convert_to_hhmmss)\n",
    "\n",
    "# t2 change\n",
    "\n",
    "df_stats['t2_time_intervals'] = df_stats['person_event_t2_time_text'].apply(convert_to_hhmmss)\n",
    "\n",
    "# finish time\n",
    "\n",
    "df_stats['finish_time_intervals'] = df_stats['person_event_finish_time_text'].apply(convert_to_hhmmss)\n"
   ]
  },
  {
   "cell_type": "code",
   "execution_count": 198,
   "metadata": {},
   "outputs": [],
   "source": [
    "## timeinterval via timedelta for all _time_text columns as _time\n",
    "\n",
    "# 2. change to timedelta\n",
    "\n",
    "# swim\n",
    "\n",
    "df_stats['person_event_swim_time'] = pd.to_timedelta(df_stats['swim_time_intervals'])\n",
    "\n",
    "# bike\n",
    "\n",
    "df_stats['person_event_cycle_time'] = pd.to_timedelta(df_stats['bike_time_intervals'])\n",
    "\n",
    "# run\n",
    "\n",
    "df_stats['person_event_run_time'] = pd.to_timedelta(df_stats['run_time_intervals'])\n",
    "\n",
    "# t1 change\n",
    "\n",
    "df_stats['person_event_t1_time'] = pd.to_timedelta(df_stats['t1_time_intervals'])\n",
    "\n",
    "# t2 change\n",
    "\n",
    "df_stats['person_event_t2_time'] = pd.to_timedelta(df_stats['t2_time_intervals'])\n",
    "\n",
    "# finish time\n",
    "\n",
    "df_stats['person_event_finish_time'] = pd.to_timedelta(df_stats['finish_time_intervals'])\n"
   ]
  },
  {
   "cell_type": "markdown",
   "metadata": {},
   "source": [
    "3.2.3.2. strings"
   ]
  },
  {
   "cell_type": "code",
   "execution_count": 199,
   "metadata": {},
   "outputs": [],
   "source": [
    "# objects to strings    \n",
    "\n",
    "df_stats['event_link'] = df_stats['event_link'].astype('string')\n",
    "\n",
    "df_stats['gender'] = df_stats['gender'].astype('string')\n",
    "\n",
    "df_stats['person_link'] = df_stats['person_link'].astype('string')\n",
    "\n",
    "df_stats['person_flag'] = df_stats['person_flag'].astype('string')\n",
    "\n",
    "df_stats['person_event_group'] = df_stats['person_event_group'].astype('string')"
   ]
  },
  {
   "cell_type": "markdown",
   "metadata": {},
   "source": [
    "check the datatype changing"
   ]
  },
  {
   "cell_type": "code",
   "execution_count": 200,
   "metadata": {},
   "outputs": [
    {
     "name": "stdout",
     "output_type": "stream",
     "text": [
      "<class 'pandas.core.frame.DataFrame'>\n",
      "Index: 2958394 entries, 0 to 2959945\n",
      "Data columns (total 24 columns):\n",
      " #   Column                         Dtype          \n",
      "---  ------                         -----          \n",
      " 0   event_link                     string         \n",
      " 1   gender                         string         \n",
      " 2   person_link                    string         \n",
      " 3   person_flag                    string         \n",
      " 4   person_name                    object         \n",
      " 5   person_event_group             string         \n",
      " 6   person_event_swim_time_text    object         \n",
      " 7   person_event_t1_time_text      object         \n",
      " 8   person_event_cycle_time_text   object         \n",
      " 9   person_event_t2_time_text      object         \n",
      " 10  person_event_run_time_text     object         \n",
      " 11  person_event_finish_time_text  object         \n",
      " 12  swim_time_intervals            object         \n",
      " 13  bike_time_intervals            object         \n",
      " 14  run_time_intervals             object         \n",
      " 15  t1_time_intervals              object         \n",
      " 16  t2_time_intervals              object         \n",
      " 17  finish_time_intervals          object         \n",
      " 18  person_event_swim_time         timedelta64[ns]\n",
      " 19  person_event_cycle_time        timedelta64[ns]\n",
      " 20  person_event_run_time          timedelta64[ns]\n",
      " 21  person_event_t1_time           timedelta64[ns]\n",
      " 22  person_event_t2_time           timedelta64[ns]\n",
      " 23  person_event_finish_time       timedelta64[ns]\n",
      "dtypes: object(13), string(5), timedelta64[ns](6)\n",
      "memory usage: 564.3+ MB\n"
     ]
    }
   ],
   "source": [
    "df_stats.info()"
   ]
  },
  {
   "cell_type": "markdown",
   "metadata": {},
   "source": [
    "### 3.2.4 drop columns"
   ]
  },
  {
   "cell_type": "markdown",
   "metadata": {},
   "source": [
    "drop the person names and the columns, that we just used for changing the timedelta-datatype"
   ]
  },
  {
   "cell_type": "code",
   "execution_count": 201,
   "metadata": {},
   "outputs": [],
   "source": [
    "df_stats = df_stats.drop(axis = 1,\n",
    "                         columns = [\n",
    "                        'person_name',\n",
    "                        'person_event_swim_time_text',\n",
    "                        'person_event_t1_time_text',\n",
    "                        'person_event_cycle_time_text',\n",
    "                        'person_event_t2_time_text',  \n",
    "                        'person_event_run_time_text',\n",
    "                        'person_event_finish_time_text',\n",
    "                        'swim_time_intervals',\n",
    "                        'bike_time_intervals',\n",
    "                        'run_time_intervals',\n",
    "                        't1_time_intervals',\n",
    "                        't2_time_intervals',\n",
    "                        'finish_time_intervals'\n",
    "                         ]\n",
    "                        )"
   ]
  },
  {
   "cell_type": "code",
   "execution_count": 202,
   "metadata": {},
   "outputs": [
    {
     "data": {
      "text/html": [
       "<div>\n",
       "<style scoped>\n",
       "    .dataframe tbody tr th:only-of-type {\n",
       "        vertical-align: middle;\n",
       "    }\n",
       "\n",
       "    .dataframe tbody tr th {\n",
       "        vertical-align: top;\n",
       "    }\n",
       "\n",
       "    .dataframe thead th {\n",
       "        text-align: right;\n",
       "    }\n",
       "</style>\n",
       "<table border=\"1\" class=\"dataframe\">\n",
       "  <thead>\n",
       "    <tr style=\"text-align: right;\">\n",
       "      <th></th>\n",
       "      <th>person_event_swim_time</th>\n",
       "      <th>person_event_cycle_time</th>\n",
       "      <th>person_event_run_time</th>\n",
       "      <th>person_event_t1_time</th>\n",
       "      <th>person_event_t2_time</th>\n",
       "      <th>person_event_finish_time</th>\n",
       "    </tr>\n",
       "  </thead>\n",
       "  <tbody>\n",
       "    <tr>\n",
       "      <th>count</th>\n",
       "      <td>2958394</td>\n",
       "      <td>2958394</td>\n",
       "      <td>2958394</td>\n",
       "      <td>2958394</td>\n",
       "      <td>2958394</td>\n",
       "      <td>2958394</td>\n",
       "    </tr>\n",
       "    <tr>\n",
       "      <th>mean</th>\n",
       "      <td>0 days 00:48:49.518890654</td>\n",
       "      <td>0 days 03:44:27.893521282</td>\n",
       "      <td>0 days 02:49:08.119488817</td>\n",
       "      <td>0 days 00:05:43.973725609</td>\n",
       "      <td>0 days 00:05:35.545532136</td>\n",
       "      <td>0 days 07:37:53.359474769</td>\n",
       "    </tr>\n",
       "    <tr>\n",
       "      <th>std</th>\n",
       "      <td>0 days 00:36:13.939063033</td>\n",
       "      <td>0 days 02:02:16.947961094</td>\n",
       "      <td>0 days 01:46:36.090354786</td>\n",
       "      <td>0 days 00:10:37.576584291</td>\n",
       "      <td>0 days 00:22:10.719305278</td>\n",
       "      <td>0 days 03:59:54.224848733</td>\n",
       "    </tr>\n",
       "    <tr>\n",
       "      <th>min</th>\n",
       "      <td>0 days 00:00:00</td>\n",
       "      <td>0 days 00:00:00</td>\n",
       "      <td>0 days 00:00:00</td>\n",
       "      <td>0 days 00:00:00</td>\n",
       "      <td>0 days 00:00:00</td>\n",
       "      <td>0 days 00:00:10</td>\n",
       "    </tr>\n",
       "    <tr>\n",
       "      <th>25%</th>\n",
       "      <td>0 days 00:32:23</td>\n",
       "      <td>0 days 02:36:43</td>\n",
       "      <td>0 days 01:43:10</td>\n",
       "      <td>0 days 00:02:53</td>\n",
       "      <td>0 days 00:02:15</td>\n",
       "      <td>0 days 05:08:05</td>\n",
       "    </tr>\n",
       "    <tr>\n",
       "      <th>50%</th>\n",
       "      <td>0 days 00:42:10</td>\n",
       "      <td>0 days 03:09:42</td>\n",
       "      <td>0 days 02:18:35</td>\n",
       "      <td>0 days 00:04:59</td>\n",
       "      <td>0 days 00:03:50</td>\n",
       "      <td>0 days 06:23:36</td>\n",
       "    </tr>\n",
       "    <tr>\n",
       "      <th>75%</th>\n",
       "      <td>0 days 01:07:04</td>\n",
       "      <td>0 days 05:37:08</td>\n",
       "      <td>0 days 04:05:58</td>\n",
       "      <td>0 days 00:07:31</td>\n",
       "      <td>0 days 00:06:06</td>\n",
       "      <td>0 days 11:13:26</td>\n",
       "    </tr>\n",
       "    <tr>\n",
       "      <th>max</th>\n",
       "      <td>0 days 22:55:24</td>\n",
       "      <td>0 days 23:57:43</td>\n",
       "      <td>0 days 23:58:37</td>\n",
       "      <td>0 days 23:59:59</td>\n",
       "      <td>0 days 23:59:49</td>\n",
       "      <td>0 days 23:59:08</td>\n",
       "    </tr>\n",
       "  </tbody>\n",
       "</table>\n",
       "</div>"
      ],
      "text/plain": [
       "          person_event_swim_time    person_event_cycle_time  \\\n",
       "count                    2958394                    2958394   \n",
       "mean   0 days 00:48:49.518890654  0 days 03:44:27.893521282   \n",
       "std    0 days 00:36:13.939063033  0 days 02:02:16.947961094   \n",
       "min              0 days 00:00:00            0 days 00:00:00   \n",
       "25%              0 days 00:32:23            0 days 02:36:43   \n",
       "50%              0 days 00:42:10            0 days 03:09:42   \n",
       "75%              0 days 01:07:04            0 days 05:37:08   \n",
       "max              0 days 22:55:24            0 days 23:57:43   \n",
       "\n",
       "           person_event_run_time       person_event_t1_time  \\\n",
       "count                    2958394                    2958394   \n",
       "mean   0 days 02:49:08.119488817  0 days 00:05:43.973725609   \n",
       "std    0 days 01:46:36.090354786  0 days 00:10:37.576584291   \n",
       "min              0 days 00:00:00            0 days 00:00:00   \n",
       "25%              0 days 01:43:10            0 days 00:02:53   \n",
       "50%              0 days 02:18:35            0 days 00:04:59   \n",
       "75%              0 days 04:05:58            0 days 00:07:31   \n",
       "max              0 days 23:58:37            0 days 23:59:59   \n",
       "\n",
       "            person_event_t2_time   person_event_finish_time  \n",
       "count                    2958394                    2958394  \n",
       "mean   0 days 00:05:35.545532136  0 days 07:37:53.359474769  \n",
       "std    0 days 00:22:10.719305278  0 days 03:59:54.224848733  \n",
       "min              0 days 00:00:00            0 days 00:00:10  \n",
       "25%              0 days 00:02:15            0 days 05:08:05  \n",
       "50%              0 days 00:03:50            0 days 06:23:36  \n",
       "75%              0 days 00:06:06            0 days 11:13:26  \n",
       "max              0 days 23:59:49            0 days 23:59:08  "
      ]
     },
     "execution_count": 202,
     "metadata": {},
     "output_type": "execute_result"
    }
   ],
   "source": [
    "df_stats.describe()"
   ]
  },
  {
   "cell_type": "markdown",
   "metadata": {},
   "source": [
    "As we won't go into deeper analyses on athletes performance base, we can drop the columns with results"
   ]
  },
  {
   "cell_type": "code",
   "execution_count": 127,
   "metadata": {},
   "outputs": [],
   "source": [
    "df_stats = df_stats.drop(axis = 1, columns = [\n",
    " 'person_event_swim_time',\n",
    " 'person_event_cycle_time',\n",
    " 'person_event_run_time',\n",
    " 'person_event_t1_time',\n",
    " 'person_event_t2_time',\n",
    " 'person_event_finish_time'])"
   ]
  },
  {
   "cell_type": "markdown",
   "metadata": {},
   "source": [
    "The athletes are allready grouped by certain criteria - what groups are there?"
   ]
  },
  {
   "cell_type": "markdown",
   "metadata": {},
   "source": [
    "for now, I don't go any further"
   ]
  },
  {
   "cell_type": "markdown",
   "metadata": {},
   "source": [
    "# 4. First Analysis"
   ]
  },
  {
   "cell_type": "markdown",
   "metadata": {},
   "source": [
    "### events: How many different countries?"
   ]
  },
  {
   "cell_type": "code",
   "execution_count": 203,
   "metadata": {},
   "outputs": [
    {
     "name": "stdout",
     "output_type": "stream",
     "text": [
      "Number of distinct countries:  132\n"
     ]
    }
   ],
   "source": [
    "print('Number of distinct countries: ', df_events['event_flg'].nunique())"
   ]
  },
  {
   "cell_type": "markdown",
   "metadata": {},
   "source": [
    "### stats: How many unique participants?"
   ]
  },
  {
   "cell_type": "code",
   "execution_count": 205,
   "metadata": {},
   "outputs": [
    {
     "name": "stdout",
     "output_type": "stream",
     "text": [
      "Number of distinct participants: 1,021,725\n"
     ]
    }
   ],
   "source": [
    "print(f\"Number of distinct participants: {df_stats['person_link'].nunique():,}\")"
   ]
  },
  {
   "cell_type": "markdown",
   "metadata": {},
   "source": [
    "### stats: How many countries are represented?"
   ]
  },
  {
   "cell_type": "code",
   "execution_count": 206,
   "metadata": {},
   "outputs": [
    {
     "name": "stdout",
     "output_type": "stream",
     "text": [
      "Number of distinct origin of the participants:  250\n"
     ]
    }
   ],
   "source": [
    "print('Number of distinct origin of the participants: ', df_stats['person_flag'].nunique())"
   ]
  },
  {
   "cell_type": "markdown",
   "metadata": {},
   "source": [
    "# 5. First Visualisations"
   ]
  },
  {
   "cell_type": "code",
   "execution_count": 131,
   "metadata": {},
   "outputs": [],
   "source": [
    "# !pip install pycountry"
   ]
  },
  {
   "cell_type": "code",
   "execution_count": 132,
   "metadata": {},
   "outputs": [],
   "source": [
    "# !pip install geopandas"
   ]
  },
  {
   "cell_type": "code",
   "execution_count": 133,
   "metadata": {},
   "outputs": [],
   "source": [
    "#!pip install plotly"
   ]
  },
  {
   "cell_type": "code",
   "execution_count": 207,
   "metadata": {},
   "outputs": [],
   "source": [
    "import geopandas as gpd\n",
    "import matplotlib.pyplot as plt\n",
    "import matplotlib.colors as mcolors\n",
    "import pycountry\n",
    "import plotly.express as px"
   ]
  },
  {
   "cell_type": "code",
   "execution_count": 208,
   "metadata": {},
   "outputs": [],
   "source": [
    "world = gpd.read_file('./_python_packages/ne_110m_admin_0_countries/ne_110m_admin_0_countries.shp')"
   ]
  },
  {
   "cell_type": "markdown",
   "metadata": {},
   "source": [
    "PROBLEM: not all country codes follow the ISO 3166-1 alpha-3"
   ]
  },
  {
   "cell_type": "markdown",
   "metadata": {},
   "source": [
    "# prep: country name"
   ]
  },
  {
   "cell_type": "markdown",
   "metadata": {},
   "source": [
    "Translate the missing 50 codes to ISO"
   ]
  },
  {
   "cell_type": "code",
   "execution_count": 209,
   "metadata": {},
   "outputs": [],
   "source": [
    "# Mapping the wrong country codes to ISO 3166-1 Alpha-3 Codes\n",
    "\n",
    "corrections = {\n",
    "    \"VIE\": \"VNM\", \"PHI\": \"PHL\", \"RSA\": \"ZAF\", \"MAS\": \"MYS\", \"GRE\": \"GRC\", \"CRO\": \"HRV\", \"POR\": \"PRT\", \"INA\": \"IDN\",\n",
    "    \"TPE\": \"TWN\", \"OMA\": \"OMN\", \"GER\": \"DEU\", \"SLO\": \"SVN\", \"PAR\": \"PRY\", \"DEN\": \"DNK\", \"LAT\": \"LVA\", \"NED\": \"NLD\",\n",
    "    \"CRC\": \"CRI\", \"SUI\": \"CHE\", \"GUA\": \"GTM\", \"PUR\": \"PRI\", \"MRI\": \"MUS\", \"URU\": \"URY\", \"NEP\": \"NPL\", \"ZIM\": \"ZWE\",\n",
    "    \"UAE\": \"ARE\", \"CHI\": \"CHL\", \"NGR\": \"NGA\", \"ALG\": \"DZA\", \"SAM\": \"WSM\", \"BAR\": \"BRB\", \"HON\": \"HND\", \"SKN\": \"KNA\",\n",
    "    \"GRN\": \"GRD\", \"MAC\": \"MAC\", \"IVB\": \"VGB\", \"BUL\": \"BGR\", \"GIB\": \"GIB\", \"MGL\": \"MNG\", \"BAH\": \"BHS\", \"BER\": \"BMU\",\n",
    "    \"SRI\": \"LKA\", \"HKG\": \"HKG\", \"ESA\": \"SLV\", \"NCA\": \"NIC\", \"ISV\": \"VIR\", \"MNP\": \"MNP\", \"IRI\": \"IRN\", \"PYF\": \"PYF\",\n",
    "    \"SOL\": \"SLB\", \"FIJ\": \"FJI\", \"ARU\": \"ABW\", \"MAD\": \"MDG\", \"BOT\": \"BWA\", \"COK\": \"COK\", \"CAY\": \"CYM\", \"MON\": \"MCO\",\n",
    "    \"NCL\": \"NCL\"\n",
    "}\n",
    "\n",
    "# using the correction to column event_flg\n",
    "df_events[\"event_flg\"] = df_events[\"event_flg\"].replace(corrections)"
   ]
  },
  {
   "cell_type": "markdown",
   "metadata": {},
   "source": [
    "adding a column with country names"
   ]
  },
  {
   "cell_type": "code",
   "execution_count": 210,
   "metadata": {},
   "outputs": [],
   "source": [
    "# Mapping of country code to country name + use for new column\n",
    "\n",
    "country_mapping = {country.alpha_3: country.name for country in pycountry.countries}"
   ]
  },
  {
   "cell_type": "markdown",
   "metadata": {},
   "source": [
    "## map events"
   ]
  },
  {
   "cell_type": "code",
   "execution_count": 211,
   "metadata": {},
   "outputs": [],
   "source": [
    "df_events[\"country_name\"] = df_events[\"event_flg\"].map(country_mapping)"
   ]
  },
  {
   "cell_type": "markdown",
   "metadata": {},
   "source": [
    "Count of events to show on a map"
   ]
  },
  {
   "cell_type": "code",
   "execution_count": 212,
   "metadata": {},
   "outputs": [],
   "source": [
    "# Number of events by country\n",
    "\n",
    "event_counts = df_events[\"event_flg\"].value_counts().reset_index()\n",
    "event_counts.columns = [\"country\", \"event_count\"]"
   ]
  },
  {
   "cell_type": "code",
   "execution_count": 213,
   "metadata": {},
   "outputs": [],
   "source": [
    "# merge world map with df_events\n",
    "\n",
    "world_events = world.merge(event_counts, how=\"left\", left_on=\"SOVEREIGNT\", right_on=\"country\", suffixes=(\"\", \"_duplicate\"))\n",
    "world_events = world.drop(columns=[col for col in world.columns if \"_duplicate\" in col])\n"
   ]
  },
  {
   "cell_type": "code",
   "execution_count": 141,
   "metadata": {},
   "outputs": [
    {
     "data": {
      "text/plain": [
       "' \\nfig = px.choropleth(\\n    event_counts,\\n    locations=\"country\",\\n    locationmode=\"ISO-3\",\\n    color=\"event_count\",\\n    title=\"Number of events per country\",\\n    color_continuous_scale=px.colors.sequential.RdPu,\\n)\\n\\n\\nfig.update_layout(width=1000, height=600)\\n'"
      ]
     },
     "execution_count": 141,
     "metadata": {},
     "output_type": "execute_result"
    }
   ],
   "source": [
    "# worldmap by number of events\n",
    "\n",
    "fig = px.choropleth(\n",
    "    event_counts,\n",
    "    locations=\"country\",\n",
    "    locationmode=\"ISO-3\",\n",
    "    color=\"event_count\",\n",
    "    title=\"Number of events per country\",\n",
    "    color_continuous_scale=px.colors.sequential.RdPu,\n",
    ")\n",
    "\n",
    "\n",
    "fig.update_layout(width=1000, height=600"
   ]
  },
  {
   "cell_type": "markdown",
   "metadata": {},
   "source": [
    "## map athletes"
   ]
  },
  {
   "cell_type": "code",
   "execution_count": 214,
   "metadata": {},
   "outputs": [],
   "source": [
    "# using correction to column person_flg\n",
    "df_stats[\"person_flag\"] = df_stats[\"person_flag\"].replace(corrections)"
   ]
  },
  {
   "cell_type": "code",
   "execution_count": 215,
   "metadata": {},
   "outputs": [],
   "source": [
    "# Mapping of country code to country name + use for new column\n",
    "\n",
    "country_mapping = {country.alpha_3: country.name for country in pycountry.countries}"
   ]
  },
  {
   "cell_type": "code",
   "execution_count": 216,
   "metadata": {},
   "outputs": [],
   "source": [
    "df_stats[\"person_country\"] = df_stats[\"person_flag\"].map(country_mapping)"
   ]
  },
  {
   "cell_type": "markdown",
   "metadata": {},
   "source": [
    "Count of athletes to show on a map"
   ]
  },
  {
   "cell_type": "code",
   "execution_count": 217,
   "metadata": {},
   "outputs": [],
   "source": [
    "# Number of events by country\n",
    "\n",
    "athletes_counts = df_stats[\"person_flag\"].value_counts().reset_index()\n",
    "athletes_counts.columns = [\"person_country\", \"athletes_count\"]"
   ]
  },
  {
   "cell_type": "code",
   "execution_count": 218,
   "metadata": {},
   "outputs": [],
   "source": [
    "# merge world map with df_events\n",
    "\n",
    "world_athletes = world.merge(event_counts, how=\"left\", left_on=\"SOVEREIGNT\", right_on=\"country\", suffixes=(\"\", \"_duplicate\"))\n",
    "world_athletes = world.drop(columns=[col for col in world.columns if \"_duplicate\" in col])\n"
   ]
  },
  {
   "cell_type": "code",
   "execution_count": 147,
   "metadata": {},
   "outputs": [
    {
     "data": {
      "text/plain": [
       "' \\nfig = px.choropleth(\\n    athletes_counts,\\n    locations=\"country\",\\n    locationmode=\"ISO-3\",\\n    color=\"athletes_count\",\\n    title=\"Number of athletes per country\",\\n    color_continuous_scale=px.colors.sequential.RdPu,\\n)\\n\\n\\nfig.update_layout(width=1000, height=600)\\n'"
      ]
     },
     "execution_count": 147,
     "metadata": {},
     "output_type": "execute_result"
    }
   ],
   "source": [
    "# worldmap by number of athletes\n",
    "\n",
    "fig = px.choropleth(\n",
    "    athletes_counts,\n",
    "    locations=\"country\",\n",
    "    locationmode=\"ISO-3\",\n",
    "    color=\"athletes_count\",\n",
    "    title=\"Number of athletes per country\",\n",
    "    color_continuous_scale=px.colors.sequential.RdPu,\n",
    ")\n",
    "\n",
    "\n",
    "fig.update_layout(width=1000, height=600)\n"
   ]
  },
  {
   "cell_type": "markdown",
   "metadata": {},
   "source": [
    "___________________"
   ]
  },
  {
   "cell_type": "markdown",
   "metadata": {},
   "source": [
    "We stop here and load the data to the database to then do visualisation in tableau."
   ]
  },
  {
   "cell_type": "markdown",
   "metadata": {},
   "source": [
    "# SQAlchemy"
   ]
  },
  {
   "cell_type": "code",
   "execution_count": 219,
   "metadata": {},
   "outputs": [],
   "source": [
    "from sqlalchemy import create_engine, types\n",
    "from sqlalchemy import text # to be able to pass string\n",
    "from sqlalchemy.exc import SQLAlchemyError\n",
    "from dotenv import dotenv_values # to load the data from .env file"
   ]
  },
  {
   "cell_type": "markdown",
   "metadata": {},
   "source": [
    "preparing connection"
   ]
  },
  {
   "cell_type": "code",
   "execution_count": 220,
   "metadata": {},
   "outputs": [],
   "source": [
    "#load the data from .env file\n",
    "config = dotenv_values()\n",
    "\n",
    "# define variables for the login\n",
    "pg_user = config['AZURE_USER'] \n",
    "pg_host = config['AZURE_HOST']\n",
    "pg_port = config['AZURE_PORT']\n",
    "pg_db = config['AZURE_DB']\n",
    "pg_schema = config['AZURE_SCHEMA']\n",
    "pg_pass = config['AZURE_PASS']\n",
    "\n",
    "# build the URL\n",
    "url = f'postgresql://{pg_user}:{pg_pass}@{pg_host}:{pg_port}/{pg_db}'\n",
    "\n",
    "# create the engine\n",
    "engine = create_engine(url, echo=False)\n",
    "engine.url\n",
    "\n",
    "# build the search path\n",
    "my_schema = pg_schema \n",
    "with engine.begin() as conn: \n",
    "    result = conn.execute(text(f'SET search_path TO {my_schema};'))"
   ]
  },
  {
   "cell_type": "markdown",
   "metadata": {},
   "source": [
    "testing the connection"
   ]
  },
  {
   "cell_type": "code",
   "execution_count": 221,
   "metadata": {},
   "outputs": [
    {
     "name": "stdout",
     "output_type": "stream",
     "text": [
      "Connection successful!\n"
     ]
    },
    {
     "data": {
      "text/plain": [
       "True"
      ]
     },
     "execution_count": 221,
     "metadata": {},
     "output_type": "execute_result"
    }
   ],
   "source": [
    "def test_db_connection(engine):\n",
    "    try:\n",
    "        connection = engine.connect() # including 'connection' as variable to close the connection\n",
    "        print(\"Connection successful!\")\n",
    "        connection.close() # closing the connection\n",
    "        return True\n",
    "    except SQLAlchemyError as e:\n",
    "        print(f\"Connection failed: {e}\")\n",
    "        return False\n",
    "\n",
    "# Test the connection\n",
    "test_db_connection(engine)"
   ]
  },
  {
   "cell_type": "markdown",
   "metadata": {},
   "source": [
    "load DataFrames to Database"
   ]
  },
  {
   "cell_type": "markdown",
   "metadata": {},
   "source": [
    "## events"
   ]
  },
  {
   "cell_type": "code",
   "execution_count": 222,
   "metadata": {},
   "outputs": [
    {
     "data": {
      "text/plain": [
       "12"
      ]
     },
     "execution_count": 222,
     "metadata": {},
     "output_type": "execute_result"
    }
   ],
   "source": [
    "df_events.to_sql('df_tri_events_clean', con=engine, schema='public', if_exists='replace', index=False)"
   ]
  },
  {
   "cell_type": "markdown",
   "metadata": {},
   "source": [
    "## stats"
   ]
  },
  {
   "cell_type": "code",
   "execution_count": 223,
   "metadata": {},
   "outputs": [
    {
     "data": {
      "text/plain": [
       "394"
      ]
     },
     "execution_count": 223,
     "metadata": {},
     "output_type": "execute_result"
    }
   ],
   "source": [
    "df_stats.to_sql('df_tri_stats_clean', con=engine, schema='public', if_exists='replace', index=False)"
   ]
  }
 ],
 "metadata": {
  "kernelspec": {
   "display_name": "base",
   "language": "python",
   "name": "python3"
  },
  "language_info": {
   "codemirror_mode": {
    "name": "ipython",
    "version": 3
   },
   "file_extension": ".py",
   "mimetype": "text/x-python",
   "name": "python",
   "nbconvert_exporter": "python",
   "pygments_lexer": "ipython3",
   "version": "3.9.20"
  }
 },
 "nbformat": 4,
 "nbformat_minor": 2
}
