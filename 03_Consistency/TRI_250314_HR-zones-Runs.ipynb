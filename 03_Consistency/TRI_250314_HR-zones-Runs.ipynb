{
 "cells": [
  {
   "cell_type": "markdown",
   "metadata": {},
   "source": [
    "# Creating HR Zone Data from Single Activities (high/low intensity runs)"
   ]
  },
  {
   "cell_type": "code",
   "execution_count": 1,
   "metadata": {},
   "outputs": [
    {
     "name": "stderr",
     "output_type": "stream",
     "text": [
      "/var/folders/1m/_v4c_fx94fv55ggvl5l850080000gn/T/ipykernel_94717/1099230358.py:11: DtypeWarning: Columns (3) have mixed types. Specify dtype option on import or set low_memory=False.\n",
      "  df_all_runs = pd.read_csv('./df_all_runs.csv')\n"
     ]
    }
   ],
   "source": [
    "# Setup \n",
    "import pandas as pd\n",
    "import matplotlib.pyplot as plt\n",
    "import seaborn as sns\n",
    "import numpy as np\n",
    "\n",
    "pd.options.display.max_rows = 6000\n",
    "pd.options.display.max_columns = 6000\n",
    "\n",
    "# Read Data and Create Data Frames\n",
    "df_all_runs = pd.read_csv('./df_all_runs.csv')\n",
    "df_max_hr_limit = pd.read_csv('../TRI_250105_Whoop-Data_Analysis/whoop data/max heart rate limit per day.csv')\n",
    "df_runs = pd.read_csv('../data/df_runs.csv')"
   ]
  },
  {
   "cell_type": "markdown",
   "metadata": {},
   "source": [
    "## Cleaning `df_runs`"
   ]
  },
  {
   "cell_type": "code",
   "execution_count": 2,
   "metadata": {},
   "outputs": [],
   "source": [
    "# Reformat the filename column so that it gets easier to import the files in the next steps\n",
    "df_runs[\"filename\"] = df_runs[\"filename\"].str.extract(r'(\\d+)')[0]  #+ \".fit\""
   ]
  },
  {
   "cell_type": "code",
   "execution_count": 3,
   "metadata": {},
   "outputs": [],
   "source": [
    "# create list of filenames\n",
    "file_list = df_runs[\"filename\"] "
   ]
  },
  {
   "cell_type": "markdown",
   "metadata": {},
   "source": [
    "## Labelling activities as `high intensity` or `low intensity` "
   ]
  },
  {
   "cell_type": "markdown",
   "metadata": {},
   "source": [
    "Creating a process that transforms and then saves heart rate zone data from each individual activity into a new dataframe which can then later be merged with `df_activs`, which holds all the high-level data from all activities"
   ]
  },
  {
   "cell_type": "markdown",
   "metadata": {},
   "source": [
    "⚠️ In an other notebook we created a function that transformed all .fit activities in to one single .csv file (`df_all_runs`). We use this file in the following steps to label each activity."
   ]
  },
  {
   "cell_type": "markdown",
   "metadata": {},
   "source": [
    "## Preparation\n",
    "\n",
    "1. Read in the file\n",
    "2. cleaning each of the individual activities"
   ]
  },
  {
   "cell_type": "code",
   "execution_count": 4,
   "metadata": {},
   "outputs": [
    {
     "name": "stderr",
     "output_type": "stream",
     "text": [
      "/var/folders/1m/_v4c_fx94fv55ggvl5l850080000gn/T/ipykernel_94717/3337448445.py:2: DtypeWarning: Columns (3) have mixed types. Specify dtype option on import or set low_memory=False.\n",
      "  df_all_runs = pd.read_csv('./df_all_runs.csv')\n"
     ]
    }
   ],
   "source": [
    "# Read in the file\n",
    "df_all_runs = pd.read_csv('./df_all_runs.csv')"
   ]
  },
  {
   "cell_type": "code",
   "execution_count": 5,
   "metadata": {},
   "outputs": [],
   "source": [
    "# dropping unnecessary columns\n",
    "df_all_runs = df_all_runs.drop([\n",
    "\"accumulated_power\",\n",
    "\"altitude\",\n",
    "\"cadence\",\n",
    "\"enhanced_altitude\",\n",
    "\"enhanced_speed\",\n",
    "\"fractional_cadence\",\n",
    "\"position_lat\",\n",
    "\"position_long\",\n",
    "\"power\",\n",
    "\"speed\",\n",
    "\"stance_time\",\n",
    "\"stance_time_balance\",\n",
    "\"stance_time_percent\",\n",
    "\"step_length\",\n",
    "\"unknown_107\",\n",
    "\"unknown_134\",\n",
    "\"unknown_135\",\n",
    "\"unknown_136\",\n",
    "\"unknown_137\",\n",
    "\"unknown_138\",\n",
    "\"unknown_140\",\n",
    "\"unknown_143\",\n",
    "\"unknown_87\",\n",
    "\"unknown_88\",\n",
    "\"unknown_90\",\n",
    "\"vertical_oscillation\",\n",
    "\"vertical_ratio\"\n",
    "], axis=1)\n",
    "\n",
    "# renaming columns\n",
    "df_all_runs = df_all_runs.rename({\"source_file\": \"filename\"}, axis=1)\n",
    "df_all_runs = df_all_runs.rename({\"activity_type\": \"sport\"}, axis=1)\n",
    "df_all_runs = df_all_runs.rename({\"heart_rate\": \"heart rate\"}, axis=1)\n",
    "\n",
    "# change datatype\n",
    "df_all_runs[\"timestamp\"]= pd.to_datetime(df_all_runs[\"timestamp\"])\n"
   ]
  },
  {
   "cell_type": "code",
   "execution_count": 6,
   "metadata": {},
   "outputs": [],
   "source": [
    "df_all_runs[\"year\"] = df_all_runs[\"timestamp\"].dt.year"
   ]
  },
  {
   "cell_type": "markdown",
   "metadata": {},
   "source": [
    "## Transforming zones per minutes\n",
    "\n",
    "1. Create Heart Rate Zones\n",
    "2. Aggregate average hr per (moving) minute\n",
    "3. Label each minute with zone (z1,z2,z3,z4,z5)"
   ]
  },
  {
   "cell_type": "code",
   "execution_count": 7,
   "metadata": {},
   "outputs": [],
   "source": [
    "# Create Heart Rate Zones\n",
    "\n",
    "# Note: These HR Zones are based on a max hr of 191, which is the avg max heart rate over my 6 years of training. \n",
    "# The zone calculation is therefore an approximation. I would be better to calculate the zones based on my daily or at least yearly max heart rate. \n",
    "def assign_zone(hr):\n",
    "    if hr < 94:        \n",
    "        return 'below zones' \n",
    "    elif 130 <= hr < 140:\n",
    "        return 'z1'                 \n",
    "    elif 141 <= hr < 154:\n",
    "        return 'z2'                 \n",
    "    elif 155 <= hr < 167:\n",
    "        return 'z3'                 \n",
    "    elif 168 <= hr < 179:\n",
    "        return 'z4'                 \n",
    "    elif hr > 180:\n",
    "        return 'z5'\n",
    "    else:\n",
    "        return 'no hr collected'\n"
   ]
  },
  {
   "cell_type": "code",
   "execution_count": 8,
   "metadata": {},
   "outputs": [],
   "source": [
    "#### Aggregate average hr per (moving) minute"
   ]
  },
  {
   "cell_type": "code",
   "execution_count": 9,
   "metadata": {},
   "outputs": [],
   "source": [
    "def aggregate_activity_by_minute(activity_df):\n",
    "    # Ensure the 'timestamp' column is in datetime format\n",
    "    activity_df['timestamp'] = pd.to_datetime(activity_df['timestamp'], errors='coerce')\n",
    "\n",
    "    # Floor the timestamp to the minute (removing seconds)\n",
    "    activity_df['minute'] = activity_df['timestamp'].dt.floor('min')\n",
    "\n",
    "    # Group by the floored minute and compute the average heart rate for each minute\n",
    "    agg_df = activity_df.groupby('minute')['heart rate'].mean().reset_index()\n",
    "    agg_df.rename(columns={'heart rate': 'avg_heart_rate'}, inplace=True)\n",
    "\n",
    "    # Assign a zone label to each minute based on the average heart rate\n",
    "    agg_df['zone'] = agg_df['avg_heart_rate'].apply(assign_zone)\n",
    "\n",
    "    return agg_df"
   ]
  },
  {
   "cell_type": "code",
   "execution_count": 10,
   "metadata": {},
   "outputs": [],
   "source": [
    "#### Label each minute with zone (1,2,3,4,5)"
   ]
  },
  {
   "cell_type": "code",
   "execution_count": 11,
   "metadata": {},
   "outputs": [
    {
     "data": {
      "text/html": [
       "<div>\n",
       "<style scoped>\n",
       "    .dataframe tbody tr th:only-of-type {\n",
       "        vertical-align: middle;\n",
       "    }\n",
       "\n",
       "    .dataframe tbody tr th {\n",
       "        vertical-align: top;\n",
       "    }\n",
       "\n",
       "    .dataframe thead th {\n",
       "        text-align: right;\n",
       "    }\n",
       "</style>\n",
       "<table border=\"1\" class=\"dataframe\">\n",
       "  <thead>\n",
       "    <tr style=\"text-align: right;\">\n",
       "      <th></th>\n",
       "      <th>filename</th>\n",
       "      <th>filenumber</th>\n",
       "      <th>sport</th>\n",
       "      <th>distance</th>\n",
       "      <th>heart rate</th>\n",
       "      <th>timestamp</th>\n",
       "      <th>year</th>\n",
       "    </tr>\n",
       "  </thead>\n",
       "  <tbody>\n",
       "  </tbody>\n",
       "</table>\n",
       "</div>"
      ],
      "text/plain": [
       "Empty DataFrame\n",
       "Columns: [filename, filenumber, sport, distance, heart rate, timestamp, year]\n",
       "Index: []"
      ]
     },
     "execution_count": 11,
     "metadata": {},
     "output_type": "execute_result"
    }
   ],
   "source": [
    "df_all_runs.head(0)"
   ]
  },
  {
   "cell_type": "code",
   "execution_count": 12,
   "metadata": {},
   "outputs": [
    {
     "name": "stderr",
     "output_type": "stream",
     "text": [
      "/var/folders/1m/_v4c_fx94fv55ggvl5l850080000gn/T/ipykernel_94717/894682812.py:13: FutureWarning: The behavior of DataFrame concatenation with empty or all-NA entries is deprecated. In a future version, this will no longer exclude empty or all-NA columns when determining the result dtypes. To retain the old behavior, exclude the relevant entries before the concat operation.\n",
      "  df_all_runs_min_zones = pd.concat([df_all_runs_min_zones, agg_activity], ignore_index=True)\n",
      "/var/folders/1m/_v4c_fx94fv55ggvl5l850080000gn/T/ipykernel_94717/894682812.py:13: FutureWarning: The behavior of DataFrame concatenation with empty or all-NA entries is deprecated. In a future version, this will no longer exclude empty or all-NA columns when determining the result dtypes. To retain the old behavior, exclude the relevant entries before the concat operation.\n",
      "  df_all_runs_min_zones = pd.concat([df_all_runs_min_zones, agg_activity], ignore_index=True)\n"
     ]
    }
   ],
   "source": [
    "\n",
    "# Create an empty DataFrame to store the per-minute aggregated results for all activities\n",
    "df_all_runs_min_zones = pd.DataFrame(columns=['filenumber', 'minute', 'avg_heart_rate', 'zone'])\n",
    "\n",
    "\n",
    "# Group the data by 'filenumber' (each unique activity) and process each one\n",
    "for filenumber, group in df_all_runs.groupby('filenumber'):\n",
    "    \n",
    "    # Aggregate the group by minute\n",
    "    agg_activity = aggregate_activity_by_minute(group)\n",
    "    # Add the filenumber column to the aggregated data\n",
    "    agg_activity['filenumber'] = filenumber\n",
    "    # Append to the empty DataFrame\n",
    "    df_all_runs_min_zones = pd.concat([df_all_runs_min_zones, agg_activity], ignore_index=True)\n",
    "\n",
    "# Reorder columns \n",
    "df_all_runs_min_zones = df_all_runs_min_zones[['filenumber', 'minute', 'avg_heart_rate', 'zone']]\n"
   ]
  },
  {
   "cell_type": "markdown",
   "metadata": {},
   "source": [
    "## Aggregating zones per minutes\n",
    "\n",
    "How many minutes spend in which zone per activity in `df_runs_mins_zones`\n",
    "\n",
    "1. count minutes spend per zone per activity\n",
    "2. count minutes spend in low zones (z1, z2) per activity\n",
    "3. count minutes spend in high zones (z3,z4,z5) per activity\n",
    "4. create label for activity [\"training mode\"]: >30% time in high = high intensity"
   ]
  },
  {
   "cell_type": "markdown",
   "metadata": {},
   "source": [
    "##### 1. count minutes spend per zone per activity"
   ]
  },
  {
   "cell_type": "code",
   "execution_count": 13,
   "metadata": {},
   "outputs": [
    {
     "data": {
      "text/html": [
       "<div>\n",
       "<style scoped>\n",
       "    .dataframe tbody tr th:only-of-type {\n",
       "        vertical-align: middle;\n",
       "    }\n",
       "\n",
       "    .dataframe tbody tr th {\n",
       "        vertical-align: top;\n",
       "    }\n",
       "\n",
       "    .dataframe thead th {\n",
       "        text-align: right;\n",
       "    }\n",
       "</style>\n",
       "<table border=\"1\" class=\"dataframe\">\n",
       "  <thead>\n",
       "    <tr style=\"text-align: right;\">\n",
       "      <th>zone</th>\n",
       "      <th>filenumber</th>\n",
       "      <th>below zones</th>\n",
       "      <th>no hr collected</th>\n",
       "      <th>z1</th>\n",
       "      <th>z2</th>\n",
       "      <th>z3</th>\n",
       "      <th>z4</th>\n",
       "      <th>z5</th>\n",
       "    </tr>\n",
       "  </thead>\n",
       "  <tbody>\n",
       "    <tr>\n",
       "      <th>339</th>\n",
       "      <td>13930619274</td>\n",
       "      <td>1.0</td>\n",
       "      <td>9.0</td>\n",
       "      <td>16.0</td>\n",
       "      <td>46.0</td>\n",
       "      <td>0.0</td>\n",
       "      <td>0.0</td>\n",
       "      <td>0.0</td>\n",
       "    </tr>\n",
       "    <tr>\n",
       "      <th>340</th>\n",
       "      <td>14100622155</td>\n",
       "      <td>0.0</td>\n",
       "      <td>5.0</td>\n",
       "      <td>3.0</td>\n",
       "      <td>12.0</td>\n",
       "      <td>13.0</td>\n",
       "      <td>0.0</td>\n",
       "      <td>0.0</td>\n",
       "    </tr>\n",
       "  </tbody>\n",
       "</table>\n",
       "</div>"
      ],
      "text/plain": [
       "zone   filenumber  below zones  no hr collected    z1    z2    z3   z4   z5\n",
       "339   13930619274          1.0              9.0  16.0  46.0   0.0  0.0  0.0\n",
       "340   14100622155          0.0              5.0   3.0  12.0  13.0  0.0  0.0"
      ]
     },
     "execution_count": 13,
     "metadata": {},
     "output_type": "execute_result"
    }
   ],
   "source": [
    "# For each activity (filenumber) and minute, assume that the zone is constant.\n",
    "# We'll take the first zone value within each minute.\n",
    "minute_zone = df_all_runs_min_zones.groupby(['filenumber', 'minute' ])['zone'].first().reset_index()\n",
    "\n",
    "# Now, group by filenumber and zone and count the number of minutes\n",
    "zone_counts = minute_zone.groupby(['filenumber', 'zone']).size().reset_index(name='minutes')\n",
    "\n",
    "# Optional: Pivot the data so that each activity is a row and each zone is a column\n",
    "zone_counts_pivot = zone_counts.pivot(index='filenumber', columns='zone', values='minutes').reset_index()\n",
    "\n",
    "# Replace NaN with 0 (if an activity didn't have any minutes in a particular zone)\n",
    "df_runs_min_zones = zone_counts_pivot.fillna(0)\n",
    "\n",
    "df_runs_min_zones.tail(2)"
   ]
  },
  {
   "cell_type": "markdown",
   "metadata": {},
   "source": [
    "##### Count minutes spend in low zones (z1 & z2)"
   ]
  },
  {
   "cell_type": "code",
   "execution_count": 14,
   "metadata": {},
   "outputs": [],
   "source": [
    "df_runs_min_zones[\"time low zones\"] = df_runs_min_zones[\"z1\"] + df_runs_min_zones[\"z2\"]"
   ]
  },
  {
   "cell_type": "markdown",
   "metadata": {},
   "source": [
    "##### Count minutes spend in high zones (z3,4 & z5)"
   ]
  },
  {
   "cell_type": "code",
   "execution_count": 15,
   "metadata": {},
   "outputs": [],
   "source": [
    "df_runs_min_zones[\"time high zones\"] = df_runs_min_zones[\"z3\"] + df_runs_min_zones[\"z4\"] + df_runs_min_zones[\"z5\"]"
   ]
  },
  {
   "cell_type": "markdown",
   "metadata": {},
   "source": [
    "##### Labelling activities high or low intensity"
   ]
  },
  {
   "cell_type": "code",
   "execution_count": 16,
   "metadata": {},
   "outputs": [],
   "source": [
    "#  create label for activity [\"activity zone\"]: >50% time in low = low intensity\n",
    "\n",
    "# create a list of our conditions\n",
    "conditions = [\n",
    "    ((df_runs_min_zones['time high zones'] / (df_runs_min_zones[\"time high zones\"] + df_runs_min_zones[\"time low zones\"] )) >= 0.3    ),\n",
    "    ((df_runs_min_zones['time low zones'] / (df_runs_min_zones[\"time high zones\"] + df_runs_min_zones[\"time low zones\"] )) > 0.7    )\n",
    "    ]\n",
    "\n",
    "# create a list of the values we want to assign for each condition\n",
    "values = ['high int', 'low int']\n",
    "\n",
    "# create a new column and use np.select to assign values to it using our lists as arguments\n",
    "df_runs_min_zones[\"training mode\"] = np.select(conditions, values)\n"
   ]
  },
  {
   "cell_type": "markdown",
   "metadata": {},
   "source": [
    "##### saving `df_runs_min_zones`as .csv"
   ]
  },
  {
   "cell_type": "code",
   "execution_count": 17,
   "metadata": {},
   "outputs": [
    {
     "data": {
      "text/plain": [
       "'\\n'"
      ]
     },
     "execution_count": 17,
     "metadata": {},
     "output_type": "execute_result"
    }
   ],
   "source": [
    "\n",
    "df_runs_min_zones.to_csv('../data/df_runs_min_zones.csv', index=False)\n",
    "'''\n",
    "'''"
   ]
  },
  {
   "cell_type": "markdown",
   "metadata": {},
   "source": [
    "## Aggregating zones per distance\n",
    "\n",
    "How much distance spend in which zone per activity (in 100m) in `df_runs_dist_zones`\n",
    "\n",
    "1. aggregate average hr per 100 meter \n",
    "2. label each 100m with zone (1,2,3,4,5)\n",
    "3. count distance spend per zone\n",
    "4. combine z3z4"
   ]
  },
  {
   "cell_type": "markdown",
   "metadata": {},
   "source": [
    "##### aggregate average hr per 100 meter "
   ]
  },
  {
   "cell_type": "code",
   "execution_count": 18,
   "metadata": {},
   "outputs": [],
   "source": [
    "def aggregate_activity_by_100m(df_all_runs):\n",
    "    \n",
    "    # Create a bucket column: each bucket represents 100m segments.\n",
    "    # For example, if distance is 251.68, then floor(251.68/100)*100 = 200.\n",
    "    df_all_runs['distance 100m'] = (df_all_runs['distance'] // 100) * 100\n",
    "    \n",
    "    # Group by the bucket and compute the average heart rate in each segment.\n",
    "    agg_df = df_all_runs.groupby('distance 100m')['heart rate'].mean().reset_index()\n",
    "    agg_df.rename(columns={'heart rate': 'heart rate 100m'}, inplace=True)\n",
    "   \n",
    "    # Assign zones based on the average heart rate.\n",
    "    agg_df['zone'] = agg_df['heart rate 100m'].apply(assign_zone)\n",
    "    \n",
    "    return agg_df"
   ]
  },
  {
   "cell_type": "markdown",
   "metadata": {},
   "source": [
    "#### label each 100m with zone (z1,z2,z3,z4,z5)"
   ]
  },
  {
   "cell_type": "code",
   "execution_count": 19,
   "metadata": {},
   "outputs": [
    {
     "name": "stderr",
     "output_type": "stream",
     "text": [
      "/var/folders/1m/_v4c_fx94fv55ggvl5l850080000gn/T/ipykernel_94717/2661034030.py:8: FutureWarning: The behavior of DataFrame concatenation with empty or all-NA entries is deprecated. In a future version, this will no longer exclude empty or all-NA columns when determining the result dtypes. To retain the old behavior, exclude the relevant entries before the concat operation.\n",
      "  df_runs_dist_zones = pd.concat([df_runs_dist_zones, agg_activity], ignore_index=True)\n",
      "/var/folders/1m/_v4c_fx94fv55ggvl5l850080000gn/T/ipykernel_94717/2661034030.py:8: FutureWarning: The behavior of DataFrame concatenation with empty or all-NA entries is deprecated. In a future version, this will no longer exclude empty or all-NA columns when determining the result dtypes. To retain the old behavior, exclude the relevant entries before the concat operation.\n",
      "  df_runs_dist_zones = pd.concat([df_runs_dist_zones, agg_activity], ignore_index=True)\n"
     ]
    }
   ],
   "source": [
    "# Create an empty DataFrame to store the aggregated results for all activities.\n",
    "df_runs_dist_zones = pd.DataFrame(columns=['filenumber', 'distance 100m', 'heart rate 100m', 'zone'])\n",
    "\n",
    "# Loop over each activity group 'filenumber' distinguishes activities)\n",
    "for filenumber, group in df_all_runs.groupby('filenumber'):\n",
    "    agg_activity = aggregate_activity_by_100m(group)\n",
    "    agg_activity['filenumber'] = filenumber\n",
    "    df_runs_dist_zones = pd.concat([df_runs_dist_zones, agg_activity], ignore_index=True)\n",
    "df_runs_dist_zones.tail(100)\n",
    "\n",
    "df_runs_dist_zones[\"distance 100m\"] = df_runs_dist_zones[\"distance 100m\"]/100"
   ]
  },
  {
   "cell_type": "markdown",
   "metadata": {},
   "source": [
    "##### Count distance spend per zone"
   ]
  },
  {
   "cell_type": "code",
   "execution_count": 20,
   "metadata": {},
   "outputs": [
    {
     "data": {
      "text/html": [
       "<div>\n",
       "<style scoped>\n",
       "    .dataframe tbody tr th:only-of-type {\n",
       "        vertical-align: middle;\n",
       "    }\n",
       "\n",
       "    .dataframe tbody tr th {\n",
       "        vertical-align: top;\n",
       "    }\n",
       "\n",
       "    .dataframe thead th {\n",
       "        text-align: right;\n",
       "    }\n",
       "</style>\n",
       "<table border=\"1\" class=\"dataframe\">\n",
       "  <thead>\n",
       "    <tr style=\"text-align: right;\">\n",
       "      <th>zone</th>\n",
       "      <th>filenumber</th>\n",
       "      <th>below zones</th>\n",
       "      <th>no hr collected</th>\n",
       "      <th>z1</th>\n",
       "      <th>z2</th>\n",
       "      <th>z3</th>\n",
       "      <th>z4</th>\n",
       "      <th>z5</th>\n",
       "    </tr>\n",
       "  </thead>\n",
       "  <tbody>\n",
       "    <tr>\n",
       "      <th>340</th>\n",
       "      <td>14100622155</td>\n",
       "      <td>0.0</td>\n",
       "      <td>6.0</td>\n",
       "      <td>5.0</td>\n",
       "      <td>18.0</td>\n",
       "      <td>22.0</td>\n",
       "      <td>0.0</td>\n",
       "      <td>0.0</td>\n",
       "    </tr>\n",
       "  </tbody>\n",
       "</table>\n",
       "</div>"
      ],
      "text/plain": [
       "zone   filenumber  below zones  no hr collected   z1    z2    z3   z4   z5\n",
       "340   14100622155          0.0              6.0  5.0  18.0  22.0  0.0  0.0"
      ]
     },
     "execution_count": 20,
     "metadata": {},
     "output_type": "execute_result"
    }
   ],
   "source": [
    "# For each activity (filenumber) and minute, assume that the zone is constant.\n",
    "# We'll take the first zone value within each minute.\n",
    "distance_zone = df_runs_dist_zones.groupby(['filenumber', 'distance 100m' ])['zone'].first().reset_index()\n",
    "\n",
    "# Now, group by filenumber and zone and count the number of minutes\n",
    "zone_counts = distance_zone.groupby(['filenumber', 'zone']).size().reset_index(name='distance 100m')\n",
    "\n",
    "# Optional: Pivot the data so that each activity is a row and each zone is a column\n",
    "zone_counts_pivot = zone_counts.pivot(index='filenumber', columns='zone', values='distance 100m').reset_index()\n",
    "\n",
    "# Replace NaN with 0 (if an activity didn't have any minutes in a particular zone)\n",
    "df_runs_dist_zones = zone_counts_pivot.fillna(0)\n",
    "\n",
    "df_runs_dist_zones.tail(1)\n",
    "\n"
   ]
  },
  {
   "cell_type": "code",
   "execution_count": 21,
   "metadata": {},
   "outputs": [],
   "source": [
    "# renaming the distance columns in order to be able to merge them later with other dataframes and to avoid confusion\n",
    "df_runs_dist_zones = df_runs_dist_zones.rename({\"z1\": \"dist z1\"}, axis=1)\n",
    "df_runs_dist_zones = df_runs_dist_zones.rename({\"z2\": \"dist z2\"}, axis=1)\n",
    "df_runs_dist_zones = df_runs_dist_zones.rename({\"z3\": \"dist z3\"}, axis=1)\n",
    "df_runs_dist_zones = df_runs_dist_zones.rename({\"z4\": \"dist z4\"}, axis=1)\n",
    "df_runs_dist_zones = df_runs_dist_zones.rename({\"z5\": \"dist z5\"}, axis=1)\n",
    "df_runs_dist_zones = df_runs_dist_zones.rename({\"below zones\": \"dist below zones\"}, axis=1)\n",
    "df_runs_dist_zones = df_runs_dist_zones.rename({\"no hr collected\": \"dist no hr collected\"}, axis=1)"
   ]
  },
  {
   "cell_type": "code",
   "execution_count": 22,
   "metadata": {},
   "outputs": [],
   "source": [
    "# formatting the distance spent in zone columns\n",
    "df_runs_dist_zones[\"dist z1\"] = df_runs_dist_zones[\"dist z1\"]/10\n",
    "df_runs_dist_zones[\"dist z2\"] = df_runs_dist_zones[\"dist z2\"]/10\n",
    "df_runs_dist_zones[\"dist z3\"] = df_runs_dist_zones[\"dist z3\"]/10\n",
    "df_runs_dist_zones[\"dist z4\"] = df_runs_dist_zones[\"dist z4\"]/10\n",
    "df_runs_dist_zones[\"dist z5\"] = df_runs_dist_zones[\"dist z5\"]/10\n",
    "df_runs_dist_zones[\"dist below zones\"] = df_runs_dist_zones[\"dist below zones\"]/10\n",
    "df_runs_dist_zones[\"dist no hr collected\"] = df_runs_dist_zones[\"dist no hr collected\"]/10\n"
   ]
  },
  {
   "cell_type": "markdown",
   "metadata": {},
   "source": [
    "##### saving `df_runs_min_zones`as .csv  "
   ]
  },
  {
   "cell_type": "code",
   "execution_count": 24,
   "metadata": {},
   "outputs": [
    {
     "data": {
      "text/plain": [
       "'\\n'"
      ]
     },
     "execution_count": 24,
     "metadata": {},
     "output_type": "execute_result"
    }
   ],
   "source": [
    "df_runs_dist_zones.to_csv('../data/df_runs_dist_zones.csv', index=False)\n",
    "'''\n",
    "'''"
   ]
  },
  {
   "cell_type": "markdown",
   "metadata": {},
   "source": [
    "#### Final steps"
   ]
  },
  {
   "cell_type": "code",
   "execution_count": 25,
   "metadata": {},
   "outputs": [
    {
     "name": "stdout",
     "output_type": "stream",
     "text": [
      "––––– The original file df_runs contains all running activities. 38 activities, however, where not properly recorded on a fitness watch and have therefore no actual detailed data –––––\n",
      "All runs ever recorded: 379\n",
      "–––––  These are the activities that we have actual data for –––––\n",
      "All runs with detailed data: 341\n",
      "All runs in 'df_runs_dist_zones': 341\n",
      "All runs in 'df_runs_min_zones': 341\n"
     ]
    }
   ],
   "source": [
    "# Checking if all three dataframes have the same amount of rows/activities. Since they are, we have all the activities in them. \n",
    "\n",
    "print(\"––––– The original file df_runs contains all running activities. 38 activities, however, where not properly recorded on a fitness watch and have therefore no actual detailed data –––––\" )\n",
    "\n",
    "print(f\"All runs ever recorded: {len(df_runs)}\")\n",
    "\n",
    "print(\"–––––  These are the activities that we have actual data for –––––\" )\n",
    "print(f\"All runs with detailed data: {df_all_runs['filenumber'].nunique()}\")\n",
    "\n",
    "print(f\"All runs in 'df_runs_dist_zones': {len(df_runs_dist_zones) }\")\n",
    "print(f\"All runs in 'df_runs_min_zones': {len(df_runs_min_zones) }\")\n"
   ]
  }
 ],
 "metadata": {
  "kernelspec": {
   "display_name": "base",
   "language": "python",
   "name": "python3"
  },
  "language_info": {
   "codemirror_mode": {
    "name": "ipython",
    "version": 3
   },
   "file_extension": ".py",
   "mimetype": "text/x-python",
   "name": "python",
   "nbconvert_exporter": "python",
   "pygments_lexer": "ipython3",
   "version": "3.9.20"
  }
 },
 "nbformat": 4,
 "nbformat_minor": 2
}
