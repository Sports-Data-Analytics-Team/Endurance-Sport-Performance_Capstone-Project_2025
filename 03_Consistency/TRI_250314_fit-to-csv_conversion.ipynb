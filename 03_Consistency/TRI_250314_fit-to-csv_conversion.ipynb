{
 "cells": [
  {
   "cell_type": "markdown",
   "metadata": {},
   "source": [
    "# Converting numerous .fit files to .csv files"
   ]
  },
  {
   "cell_type": "code",
   "execution_count": 1,
   "metadata": {},
   "outputs": [],
   "source": [
    "#!pip install fitparse"
   ]
  },
  {
   "cell_type": "code",
   "execution_count": 2,
   "metadata": {},
   "outputs": [],
   "source": [
    "# Setup \n",
    "from fitparse import FitFile\n",
    "import csv\n",
    "import os\n",
    "\n",
    "import pandas as pd\n",
    "import matplotlib.pyplot as plt\n",
    "import seaborn as sns\n",
    "import numpy as np\n",
    "\n",
    "pd.options.display.max_rows = 6000\n",
    "pd.options.display.max_columns = 6000\n",
    "\n",
    "# Read Data and Create Data Frames\n",
    "df_runs = pd.read_csv('../data/df_runs.csv')"
   ]
  },
  {
   "cell_type": "code",
   "execution_count": 3,
   "metadata": {},
   "outputs": [],
   "source": [
    "# Reformat the filename column so that it gets easier to import the files in the next steps\n",
    "df_runs[\"filename\"] = df_runs[\"filename\"].str.extract(r'(\\d+)')[0]  #+ \".fit\"\n",
    "\n",
    "# create list of filenames\n",
    "file_list = df_runs[\"filename\"] "
   ]
  },
  {
   "cell_type": "code",
   "execution_count": 4,
   "metadata": {},
   "outputs": [
    {
     "name": "stdout",
     "output_type": "stream",
     "text": [
      "⚠ File not found: 1918768385.fit\n",
      "⚠ File not found: 1935885034.fit\n",
      "⚠ File not found: 1939735718.fit\n",
      "⚠ File not found: 1951138745.fit\n",
      "⚠ File not found: 1977072433.fit\n",
      "⚠ File not found: 1987637978.fit\n",
      "⚠ File not found: 2004954352.fit\n",
      "⚠ File not found: 2015168237.fit\n",
      "⚠ File not found: 2040416397.fit\n",
      "⚠ File not found: 2050672971.fit\n",
      "⚠ File not found: 2057416397.fit\n",
      "⚠ File not found: 2071168310.fit\n",
      "⚠ File not found: 2121806714.fit\n",
      "⚠ File not found: 2137313471.fit\n",
      "⚠ File not found: 2167240690.fit\n",
      "⚠ File not found: 2183684928.fit\n",
      "⚠ File not found: 2204567413.fit\n",
      "⚠ File not found: 2220562687.fit\n",
      "⚠ File not found: 2240223112.fit\n",
      "⚠ File not found: 2271901792.fit\n",
      "⚠ File not found: 2287488494.fit\n",
      "⚠ File not found: 2324849076.fit\n",
      "⚠ File not found: 2348857684.fit\n",
      "⚠ File not found: 2362425331.fit\n",
      "⚠ File not found: 2436285919.fit\n",
      "⚠ File not found: 2444336786.fit\n",
      "⚠ File not found: 2466166232.fit\n",
      "⚠ File not found: 2478352896.fit\n",
      "⚠ File not found: 2521444893.fit\n",
      "⚠ File not found: 2537467700.fit\n",
      "⚠ File not found: 2559750061.fit\n",
      "⚠ File not found: nan.fit\n",
      "⚠ File not found: nan.fit\n",
      "⚠ File not found: nan.fit\n",
      "⚠ File not found: 13301364336.fit\n",
      "⚠ File not found: nan.fit\n",
      "⚠ File not found: nan.fit\n",
      "⚠ File not found: 14137343161.fit\n",
      "✅ Alle angegebenen FIT-Dateien wurden verarbeitet und in 'df_all_runs.csv' gespeichert.\n"
     ]
    }
   ],
   "source": [
    "# Ordner mit den .fit-Dateien\n",
    "fit_dir = \"../data/activities/\"\n",
    "csv_output_file = \"df_all_runs.csv\"\n",
    "\n",
    "# empty list for collecting data\n",
    "data_list = []\n",
    "all_fields = set()\n",
    "\n",
    "# Loop over all data from our `file_list`\n",
    "for file_number in file_list:\n",
    "    fit_filename = f\"{file_number}.fit\"  \n",
    "    fit_file_path = os.path.join(fit_dir, fit_filename)\n",
    "    \n",
    "    # Prüfen, ob die Datei existiert, um Fehler zu vermeiden\n",
    "    if not os.path.exists(fit_file_path):\n",
    "        print(f\"⚠ File not found: {fit_filename}\")\n",
    "        continue  # Springt zur nächsten Datei\n",
    "\n",
    "    # FIT-Datei laden\n",
    "    fitfile = FitFile(fit_file_path)\n",
    "    \n",
    "    for record in fitfile.get_messages(\"record\"):  \n",
    "        data = {\n",
    "            \"source_file\": fit_filename,  # Dateiname speichern\n",
    "            \"filenumber\": file_number            # Neue Spalte mit der filenumber\n",
    "        }\n",
    "        for field in record:\n",
    "            data[field.name] = field.value\n",
    "            all_fields.add(field.name)\n",
    "        \n",
    "        data_list.append(data)\n",
    "\n",
    "# CSV speichern, wenn Daten vorhanden sind\n",
    "if data_list:\n",
    "    with open(csv_output_file, \"w\", newline=\"\") as csvfile:\n",
    "        fieldnames = sorted(all_fields)  # Alle Spalten alphabetisch sortieren\n",
    "        fieldnames.insert(0, \"filenumber\")   # \"filenumber\" als erste Spalte\n",
    "        fieldnames.insert(0, \"source_file\")  # \"source_file\" als erste Spalte\n",
    "\n",
    "        writer = csv.DictWriter(csvfile, fieldnames=fieldnames)\n",
    "        writer.writeheader()  # Header schreiben\n",
    "        \n",
    "        for row in data_list:\n",
    "            writer.writerow({field: row.get(field, \"\") for field in fieldnames})\n",
    "\n",
    "print(f\"✅ Alle angegebenen FIT-Dateien wurden verarbeitet und in '{csv_output_file}' gespeichert.\")"
   ]
  },
  {
   "cell_type": "code",
   "execution_count": 9,
   "metadata": {},
   "outputs": [
    {
     "name": "stderr",
     "output_type": "stream",
     "text": [
      "/var/folders/1m/_v4c_fx94fv55ggvl5l850080000gn/T/ipykernel_86894/2601867117.py:4: DtypeWarning: Columns (3) have mixed types. Specify dtype option on import or set low_memory=False.\n",
      "  df_all_runs = pd.read_csv('df_all_runs.csv')\n"
     ]
    }
   ],
   "source": [
    "# Read Data and Create Data Frames\n",
    "\n",
    "\n",
    "df_all_runs = pd.read_csv('df_all_runs.csv')"
   ]
  }
 ],
 "metadata": {
  "kernelspec": {
   "display_name": "base",
   "language": "python",
   "name": "python3"
  },
  "language_info": {
   "codemirror_mode": {
    "name": "ipython",
    "version": 3
   },
   "file_extension": ".py",
   "mimetype": "text/x-python",
   "name": "python",
   "nbconvert_exporter": "python",
   "pygments_lexer": "ipython3",
   "version": "3.9.20"
  }
 },
 "nbformat": 4,
 "nbformat_minor": 2
}
