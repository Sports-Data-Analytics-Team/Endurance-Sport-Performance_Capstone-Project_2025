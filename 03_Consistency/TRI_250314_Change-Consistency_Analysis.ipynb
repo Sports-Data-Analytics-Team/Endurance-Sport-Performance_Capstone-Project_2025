{
 "cells": [
  {
   "cell_type": "markdown",
   "metadata": {},
   "source": [
    "# Change & Consistency Analysis (Correlations RHR/HRV with Change)"
   ]
  },
  {
   "cell_type": "code",
   "execution_count": 1,
   "metadata": {},
   "outputs": [],
   "source": [
    "# Setup \n",
    "import pandas as pd\n",
    "import matplotlib.pyplot as plt\n",
    "import seaborn as sns\n",
    "import numpy as np\n",
    "from statistics import stdev\n",
    "\n",
    "pd.options.display.max_rows = 6000\n",
    "pd.options.display.max_columns = 6000\n",
    "\n",
    "# Read Data and Create Data Frames\n",
    "#df_activs_plus = pd.read_csv('./df_activs_plus.csv')\n",
    "\n",
    "# warnings supression\n",
    "import warnings\n",
    "warnings.simplefilter(action='ignore', category=FutureWarning)"
   ]
  },
  {
   "cell_type": "markdown",
   "metadata": {},
   "source": [
    "## Downloading the data from the database"
   ]
  },
  {
   "cell_type": "markdown",
   "metadata": {},
   "source": [
    "#### Creating a connection to the database"
   ]
  },
  {
   "cell_type": "code",
   "execution_count": 2,
   "metadata": {},
   "outputs": [
    {
     "name": "stdout",
     "output_type": "stream",
     "text": [
      "Connection successful!\n"
     ]
    }
   ],
   "source": [
    "# SQAlchemy\n",
    "import pandas as pd\n",
    "from sqlalchemy import create_engine, types\n",
    "from sqlalchemy import text # to be able to pass string\n",
    "from sqlalchemy.exc import SQLAlchemyError\n",
    "from dotenv import dotenv_values # to load the data from .env file\n",
    "\n",
    "#load the data from .env file\n",
    "config = dotenv_values()\n",
    "\n",
    "# define variables for the login\n",
    "pg_user = config['AZURE_USER'] \n",
    "pg_host = config['AZURE_HOST']\n",
    "pg_port = config['AZURE_PORT']\n",
    "pg_db = config['AZURE_DB']\n",
    "pg_schema = config['AZURE_SCHEMA']\n",
    "pg_pass = config['AZURE_PASS']\n",
    "\n",
    "# building the URL\n",
    "url = f'postgresql://{pg_user}:{pg_pass}@{pg_host}:{pg_port}/{pg_db}'\n",
    "\n",
    "#creating the engine\n",
    "\n",
    "engine = create_engine(url, echo=False)\n",
    "engine.url\n",
    "\n",
    "#testing the connection\n",
    "def test_db_connection(engine):\n",
    "    try:\n",
    "        connection = engine.connect() # including 'connection' as variable to close the connection\n",
    "        print(\"Connection successful!\")\n",
    "        connection.close() # closing the connection\n",
    "        return True\n",
    "    except SQLAlchemyError as e:\n",
    "        print(f\"Connection failed: {e}\")\n",
    "        return False\n",
    "\n",
    "test_db_connection(engine)\n",
    "\n",
    "# building the search path\n",
    "my_schema = pg_schema \n",
    "\n",
    "with engine.begin() as conn: \n",
    "    result = conn.execute(text(f'SET search_path TO {my_schema};'))"
   ]
  },
  {
   "cell_type": "markdown",
   "metadata": {},
   "source": [
    "#### Reading in the data from the database"
   ]
  },
  {
   "cell_type": "code",
   "execution_count": 3,
   "metadata": {},
   "outputs": [],
   "source": [
    "# reading table into a dataframe\n",
    "\n",
    "df_activs_plus = pd.read_sql(sql=text('SELECT * FROM public.df_activs_plus;'), con=engine)\n",
    "\n",
    "df_phys = pd.read_sql(sql=text('SELECT * FROM public.df_phys;'), con=engine)\n"
   ]
  },
  {
   "cell_type": "markdown",
   "metadata": {},
   "source": [
    "## Filtering the whole notebook for sport & timeperiod"
   ]
  },
  {
   "cell_type": "code",
   "execution_count": 4,
   "metadata": {},
   "outputs": [],
   "source": [
    "# FILTERING THE WHOLE NOTEBOOK TO JUST ONE SPORT\n",
    "#df_activs_plus = df_activs_plus[df_activs_plus [\"sport\"] == \"Run\"]   # ⚠️ uncomment this if you want to look for all sports \n",
    "\n",
    "# FILTERING THE WHOLE NOTEBOOK TO A TIMEPERIOD\n",
    "#df_activs_plus = df_activs_plus[df_activs_plus[\"activity date\"] < \"2024-01-01\"]    # ⚠️  uncomment this if you want to look for all time\n"
   ]
  },
  {
   "cell_type": "markdown",
   "metadata": {},
   "source": [
    "## Preparation"
   ]
  },
  {
   "cell_type": "markdown",
   "metadata": {},
   "source": [
    "#### 1a) Preparing `df_activs_m` "
   ]
  },
  {
   "cell_type": "code",
   "execution_count": 5,
   "metadata": {},
   "outputs": [],
   "source": [
    "#Creating new and condensed dataframe from df_activs_plus\n",
    "df_acts = df_activs_plus.drop([\n",
    "       #'activity id', 'date', 'activity date', 'sport', 'activity type',\n",
    "       'start time', \n",
    "       #'moving time', \n",
    "       'elapsed time', 'finish time', 'swim pace','bike pace', 'run pace', \n",
    "       #'distance', \n",
    "        'avg heart rate','avg heart rate zone', 'max heart rate', 'max heart rate yearly',\n",
    "        'avg speed', 'max speed', 'avg elapsed speed', 'relative effort',\n",
    "       'calories', 'pool length', 'elevation gain', 'elevation loss',\n",
    "       'elevation low', 'elevation high', 'max grade', 'avg grade',\n",
    "       'avg watts', 'avg cadence', 'max cadence', 'activity name',\n",
    "       'activity description', 'perceived exertion', 'event',\n",
    "       'injury description', 'filename', 'filenumber', \n",
    "       'below zones','no hr collected', 'z1', 'z2', 'z3', 'z4', 'z5', \n",
    "       #'time low zones','time high zones', 'training mode', \n",
    "       'dist below zones','dist no hr collected', 'dist z1', 'dist z2', 'dist z3', 'dist z4','dist z5', \n",
    "       'cycle id', 'wake onset', 'to bed date', 'sleep onset',\n",
    "       'sleep performance', 'recovery score', 'day strain', \n",
    "       #'rhr', 'hrv',\n",
    "       'respiratory rate', 'asleep duration', 'in bed duration',\n",
    "       'light sleep duration', 'deep sleep duration', 'rem sleep duration',\n",
    "       'awake duration', 'sleep need', 'sleep debt', 'sleep efficiency',\n",
    "       'sleep consistency', 'skin temp', 'blood oxygen', 'cal burned',\n",
    "       'max hr', 'avg hr', 'cycle start time', 'cycle end time',\n",
    "       'cycle timezone'\n",
    "], axis=1)\n",
    "\n",
    "# sorting the dataframe by start of the activity\n",
    "df_acts.sort_values(by=['activity date'], inplace=True)\n",
    "\n",
    "# Change data types\n",
    "df_acts[\"date\"] = pd.to_datetime(df_acts[\"date\"], format=\"mixed\",  dayfirst = True)\n",
    "df_acts[\"activity date\"] = pd.to_datetime(df_acts[\"activity date\"], format=\"mixed\",  dayfirst = True)\n",
    "df_acts[\"moving time\"]= pd.to_timedelta(df_acts[\"moving time\"])\n",
    "\n",
    "\n",
    "# Since I want to compare months' with each other, I create a month column\n",
    "df_acts['month'] = df_acts['date'].dt.to_period('M') \n",
    "#df_acts['week'] = df_acts['date'].dt.to_period('W') \n"
   ]
  },
  {
   "cell_type": "code",
   "execution_count": 6,
   "metadata": {},
   "outputs": [],
   "source": [
    "# I also want the count of activities per month\n",
    "#df_acts['activity count'] = df_acts.groupby('month')['date'].transform('count')\n",
    "df_acts['activity count'] = 1"
   ]
  },
  {
   "cell_type": "code",
   "execution_count": 7,
   "metadata": {},
   "outputs": [],
   "source": [
    "# Rearranging columns\n",
    "df_acts = df_acts[[ 'activity id', 'date','month', #'week', \n",
    "        'activity date', 'sport', 'activity type',\n",
    "       'moving time', 'distance',  \"activity count\", 'time low zones', 'time high zones',\n",
    "       'training mode', 'rhr', 'hrv', \n",
    " ]]\n",
    "\n",
    "# dropping even more columns\n",
    "df_acts = df_acts.drop([\n",
    "       'activity id', 'date', 'activity date', 'sport', 'activity type', \"time low zones\",\"time high zones\", \"training mode\", \"rhr\", \"hrv\"\n",
    "       ], axis=1)"
   ]
  },
  {
   "cell_type": "code",
   "execution_count": 8,
   "metadata": {},
   "outputs": [],
   "source": [
    "# Grouping by month\n",
    "df_activs_m = df_acts.groupby('month').sum().reset_index()"
   ]
  },
  {
   "cell_type": "code",
   "execution_count": 9,
   "metadata": {},
   "outputs": [],
   "source": [
    "# the activity dataframe and the physical dataframe are over different timeperiods. To align them, I drop rows outside the timeperiod here\n",
    "df_activs_m = df_activs_m.drop(df_activs_m[df_activs_m[\"month\"]< \"2021-01\"].index)\n",
    "df_activs_m = df_activs_m.drop(df_activs_m[df_activs_m[\"month\"]> \"2024-12\"].index)"
   ]
  },
  {
   "cell_type": "code",
   "execution_count": 10,
   "metadata": {},
   "outputs": [],
   "source": [
    "#rounding columns\n",
    "df_activs_m[\"distance\"] = df_activs_m[\"distance\"].astype(int)"
   ]
  },
  {
   "cell_type": "code",
   "execution_count": 11,
   "metadata": {},
   "outputs": [
    {
     "data": {
      "text/html": [
       "<div>\n",
       "<style scoped>\n",
       "    .dataframe tbody tr th:only-of-type {\n",
       "        vertical-align: middle;\n",
       "    }\n",
       "\n",
       "    .dataframe tbody tr th {\n",
       "        vertical-align: top;\n",
       "    }\n",
       "\n",
       "    .dataframe thead th {\n",
       "        text-align: right;\n",
       "    }\n",
       "</style>\n",
       "<table border=\"1\" class=\"dataframe\">\n",
       "  <thead>\n",
       "    <tr style=\"text-align: right;\">\n",
       "      <th></th>\n",
       "      <th>month</th>\n",
       "      <th>moving time</th>\n",
       "      <th>distance</th>\n",
       "      <th>activity count</th>\n",
       "    </tr>\n",
       "  </thead>\n",
       "  <tbody>\n",
       "    <tr>\n",
       "      <th>27</th>\n",
       "      <td>2021-01</td>\n",
       "      <td>0 days 04:24:32</td>\n",
       "      <td>45</td>\n",
       "      <td>9</td>\n",
       "    </tr>\n",
       "    <tr>\n",
       "      <th>28</th>\n",
       "      <td>2021-02</td>\n",
       "      <td>0 days 02:58:21</td>\n",
       "      <td>31</td>\n",
       "      <td>6</td>\n",
       "    </tr>\n",
       "    <tr>\n",
       "      <th>29</th>\n",
       "      <td>2021-03</td>\n",
       "      <td>0 days 01:01:14</td>\n",
       "      <td>11</td>\n",
       "      <td>2</td>\n",
       "    </tr>\n",
       "    <tr>\n",
       "      <th>30</th>\n",
       "      <td>2021-04</td>\n",
       "      <td>0 days 01:53:30</td>\n",
       "      <td>20</td>\n",
       "      <td>4</td>\n",
       "    </tr>\n",
       "    <tr>\n",
       "      <th>31</th>\n",
       "      <td>2021-05</td>\n",
       "      <td>0 days 05:25:33</td>\n",
       "      <td>57</td>\n",
       "      <td>10</td>\n",
       "    </tr>\n",
       "    <tr>\n",
       "      <th>32</th>\n",
       "      <td>2021-06</td>\n",
       "      <td>0 days 05:22:20</td>\n",
       "      <td>57</td>\n",
       "      <td>9</td>\n",
       "    </tr>\n",
       "    <tr>\n",
       "      <th>33</th>\n",
       "      <td>2021-07</td>\n",
       "      <td>0 days 04:55:24</td>\n",
       "      <td>50</td>\n",
       "      <td>12</td>\n",
       "    </tr>\n",
       "    <tr>\n",
       "      <th>34</th>\n",
       "      <td>2021-08</td>\n",
       "      <td>0 days 04:02:24</td>\n",
       "      <td>34</td>\n",
       "      <td>9</td>\n",
       "    </tr>\n",
       "    <tr>\n",
       "      <th>35</th>\n",
       "      <td>2021-09</td>\n",
       "      <td>0 days 03:57:19</td>\n",
       "      <td>43</td>\n",
       "      <td>5</td>\n",
       "    </tr>\n",
       "    <tr>\n",
       "      <th>36</th>\n",
       "      <td>2021-10</td>\n",
       "      <td>0 days 01:12:42</td>\n",
       "      <td>13</td>\n",
       "      <td>7</td>\n",
       "    </tr>\n",
       "    <tr>\n",
       "      <th>37</th>\n",
       "      <td>2021-11</td>\n",
       "      <td>0 days 02:37:37</td>\n",
       "      <td>26</td>\n",
       "      <td>4</td>\n",
       "    </tr>\n",
       "    <tr>\n",
       "      <th>38</th>\n",
       "      <td>2021-12</td>\n",
       "      <td>0 days 06:44:07</td>\n",
       "      <td>66</td>\n",
       "      <td>7</td>\n",
       "    </tr>\n",
       "    <tr>\n",
       "      <th>39</th>\n",
       "      <td>2022-01</td>\n",
       "      <td>0 days 08:15:59</td>\n",
       "      <td>82</td>\n",
       "      <td>8</td>\n",
       "    </tr>\n",
       "    <tr>\n",
       "      <th>40</th>\n",
       "      <td>2022-02</td>\n",
       "      <td>0 days 04:08:45</td>\n",
       "      <td>42</td>\n",
       "      <td>3</td>\n",
       "    </tr>\n",
       "    <tr>\n",
       "      <th>41</th>\n",
       "      <td>2022-03</td>\n",
       "      <td>0 days 05:44:23</td>\n",
       "      <td>56</td>\n",
       "      <td>6</td>\n",
       "    </tr>\n",
       "    <tr>\n",
       "      <th>42</th>\n",
       "      <td>2022-04</td>\n",
       "      <td>0 days 06:46:22</td>\n",
       "      <td>65</td>\n",
       "      <td>9</td>\n",
       "    </tr>\n",
       "    <tr>\n",
       "      <th>43</th>\n",
       "      <td>2022-05</td>\n",
       "      <td>0 days 03:34:43</td>\n",
       "      <td>37</td>\n",
       "      <td>6</td>\n",
       "    </tr>\n",
       "    <tr>\n",
       "      <th>44</th>\n",
       "      <td>2022-06</td>\n",
       "      <td>0 days 05:36:49</td>\n",
       "      <td>56</td>\n",
       "      <td>8</td>\n",
       "    </tr>\n",
       "    <tr>\n",
       "      <th>45</th>\n",
       "      <td>2022-07</td>\n",
       "      <td>0 days 06:13:58</td>\n",
       "      <td>58</td>\n",
       "      <td>9</td>\n",
       "    </tr>\n",
       "    <tr>\n",
       "      <th>46</th>\n",
       "      <td>2022-08</td>\n",
       "      <td>0 days 04:48:33</td>\n",
       "      <td>53</td>\n",
       "      <td>8</td>\n",
       "    </tr>\n",
       "    <tr>\n",
       "      <th>47</th>\n",
       "      <td>2022-09</td>\n",
       "      <td>0 days 04:29:17</td>\n",
       "      <td>45</td>\n",
       "      <td>4</td>\n",
       "    </tr>\n",
       "    <tr>\n",
       "      <th>48</th>\n",
       "      <td>2022-10</td>\n",
       "      <td>0 days 04:52:23</td>\n",
       "      <td>44</td>\n",
       "      <td>6</td>\n",
       "    </tr>\n",
       "    <tr>\n",
       "      <th>49</th>\n",
       "      <td>2022-11</td>\n",
       "      <td>0 days 06:24:58</td>\n",
       "      <td>61</td>\n",
       "      <td>7</td>\n",
       "    </tr>\n",
       "    <tr>\n",
       "      <th>50</th>\n",
       "      <td>2022-12</td>\n",
       "      <td>0 days 00:47:23</td>\n",
       "      <td>7</td>\n",
       "      <td>1</td>\n",
       "    </tr>\n",
       "    <tr>\n",
       "      <th>51</th>\n",
       "      <td>2023-01</td>\n",
       "      <td>0 days 03:12:26</td>\n",
       "      <td>21</td>\n",
       "      <td>3</td>\n",
       "    </tr>\n",
       "    <tr>\n",
       "      <th>52</th>\n",
       "      <td>2023-02</td>\n",
       "      <td>0 days 04:08:03</td>\n",
       "      <td>42</td>\n",
       "      <td>8</td>\n",
       "    </tr>\n",
       "    <tr>\n",
       "      <th>53</th>\n",
       "      <td>2023-03</td>\n",
       "      <td>0 days 04:57:26</td>\n",
       "      <td>44</td>\n",
       "      <td>7</td>\n",
       "    </tr>\n",
       "    <tr>\n",
       "      <th>54</th>\n",
       "      <td>2023-04</td>\n",
       "      <td>0 days 03:35:13</td>\n",
       "      <td>35</td>\n",
       "      <td>4</td>\n",
       "    </tr>\n",
       "    <tr>\n",
       "      <th>55</th>\n",
       "      <td>2023-05</td>\n",
       "      <td>0 days 07:21:46</td>\n",
       "      <td>81</td>\n",
       "      <td>10</td>\n",
       "    </tr>\n",
       "    <tr>\n",
       "      <th>56</th>\n",
       "      <td>2023-06</td>\n",
       "      <td>0 days 04:45:22</td>\n",
       "      <td>54</td>\n",
       "      <td>8</td>\n",
       "    </tr>\n",
       "    <tr>\n",
       "      <th>57</th>\n",
       "      <td>2023-07</td>\n",
       "      <td>0 days 03:53:36</td>\n",
       "      <td>43</td>\n",
       "      <td>6</td>\n",
       "    </tr>\n",
       "    <tr>\n",
       "      <th>58</th>\n",
       "      <td>2023-08</td>\n",
       "      <td>0 days 03:31:43</td>\n",
       "      <td>38</td>\n",
       "      <td>8</td>\n",
       "    </tr>\n",
       "    <tr>\n",
       "      <th>59</th>\n",
       "      <td>2023-09</td>\n",
       "      <td>0 days 04:29:30</td>\n",
       "      <td>50</td>\n",
       "      <td>5</td>\n",
       "    </tr>\n",
       "    <tr>\n",
       "      <th>60</th>\n",
       "      <td>2023-10</td>\n",
       "      <td>0 days 05:44:06</td>\n",
       "      <td>57</td>\n",
       "      <td>5</td>\n",
       "    </tr>\n",
       "    <tr>\n",
       "      <th>61</th>\n",
       "      <td>2023-11</td>\n",
       "      <td>0 days 00:40:20</td>\n",
       "      <td>6</td>\n",
       "      <td>1</td>\n",
       "    </tr>\n",
       "    <tr>\n",
       "      <th>62</th>\n",
       "      <td>2023-12</td>\n",
       "      <td>0 days 00:58:05</td>\n",
       "      <td>10</td>\n",
       "      <td>1</td>\n",
       "    </tr>\n",
       "  </tbody>\n",
       "</table>\n",
       "</div>"
      ],
      "text/plain": [
       "      month     moving time  distance  activity count\n",
       "27  2021-01 0 days 04:24:32        45               9\n",
       "28  2021-02 0 days 02:58:21        31               6\n",
       "29  2021-03 0 days 01:01:14        11               2\n",
       "30  2021-04 0 days 01:53:30        20               4\n",
       "31  2021-05 0 days 05:25:33        57              10\n",
       "32  2021-06 0 days 05:22:20        57               9\n",
       "33  2021-07 0 days 04:55:24        50              12\n",
       "34  2021-08 0 days 04:02:24        34               9\n",
       "35  2021-09 0 days 03:57:19        43               5\n",
       "36  2021-10 0 days 01:12:42        13               7\n",
       "37  2021-11 0 days 02:37:37        26               4\n",
       "38  2021-12 0 days 06:44:07        66               7\n",
       "39  2022-01 0 days 08:15:59        82               8\n",
       "40  2022-02 0 days 04:08:45        42               3\n",
       "41  2022-03 0 days 05:44:23        56               6\n",
       "42  2022-04 0 days 06:46:22        65               9\n",
       "43  2022-05 0 days 03:34:43        37               6\n",
       "44  2022-06 0 days 05:36:49        56               8\n",
       "45  2022-07 0 days 06:13:58        58               9\n",
       "46  2022-08 0 days 04:48:33        53               8\n",
       "47  2022-09 0 days 04:29:17        45               4\n",
       "48  2022-10 0 days 04:52:23        44               6\n",
       "49  2022-11 0 days 06:24:58        61               7\n",
       "50  2022-12 0 days 00:47:23         7               1\n",
       "51  2023-01 0 days 03:12:26        21               3\n",
       "52  2023-02 0 days 04:08:03        42               8\n",
       "53  2023-03 0 days 04:57:26        44               7\n",
       "54  2023-04 0 days 03:35:13        35               4\n",
       "55  2023-05 0 days 07:21:46        81              10\n",
       "56  2023-06 0 days 04:45:22        54               8\n",
       "57  2023-07 0 days 03:53:36        43               6\n",
       "58  2023-08 0 days 03:31:43        38               8\n",
       "59  2023-09 0 days 04:29:30        50               5\n",
       "60  2023-10 0 days 05:44:06        57               5\n",
       "61  2023-11 0 days 00:40:20         6               1\n",
       "62  2023-12 0 days 00:58:05        10               1"
      ]
     },
     "execution_count": 11,
     "metadata": {},
     "output_type": "execute_result"
    }
   ],
   "source": [
    "df_activs_m"
   ]
  },
  {
   "cell_type": "markdown",
   "metadata": {},
   "source": [
    "#### 1b) Preparing `df_phys_m` "
   ]
  },
  {
   "cell_type": "code",
   "execution_count": 12,
   "metadata": {},
   "outputs": [],
   "source": [
    "#Creating new and condensed dataframe\n",
    "df_phys_m = df_phys.drop([\n",
    "       'cycle id', \n",
    "       #'date', \n",
    "       'wake onset', 'to bed date', 'sleep onset',\n",
    "       'sleep performance', 'recovery score', 'day strain', \n",
    "       #'rhr', 'hrv',\n",
    "       'respiratory rate', 'asleep duration', 'in bed duration',\n",
    "       'light sleep duration', 'deep sleep duration', 'rem sleep duration',\n",
    "       'awake duration', 'sleep need', 'sleep debt', 'sleep efficiency',\n",
    "       'sleep consistency', 'skin temp', 'blood oxygen', 'cal burned',\n",
    "       'max hr', 'avg hr', 'cycle start time', 'cycle end time',\n",
    "       'cycle timezone'\n",
    "], axis=1)\n",
    "\n",
    "# sorting the dataframe by date\n",
    "df_phys_m.sort_values(by=['date'], inplace=True)\n",
    "\n",
    "# Change data types\n",
    "df_phys_m[\"date\"] = pd.to_datetime(df_phys_m[\"date\"], format=\"mixed\",  dayfirst = True)\n",
    "\n",
    "# Since I want to compare months' with each other, I create a month column\n",
    "df_phys_m['month'] = df_phys_m['date'].dt.to_period('M') "
   ]
  },
  {
   "cell_type": "code",
   "execution_count": 13,
   "metadata": {},
   "outputs": [],
   "source": [
    "# Rearranging columns\n",
    "df_phys_m = df_phys_m[[ 'date','month', 'rhr', 'hrv']]\n",
    "\n",
    "# dropping even more columns\n",
    "df_phys_m = df_phys_m.drop(['date'], axis=1)"
   ]
  },
  {
   "cell_type": "code",
   "execution_count": 14,
   "metadata": {},
   "outputs": [],
   "source": [
    "#Creating new columns with monthly averages\n",
    "df_phys_m['rhr per month'] = df_phys_m.groupby('month')['rhr'].transform('mean')\n",
    "df_phys_m['hrv per month'] = df_phys_m.groupby('month')['hrv'].transform('mean')\n",
    "\n",
    "# dropping the not anymore needed columns\n",
    "df_phys_m = df_phys_m.drop(['rhr', 'hrv'], axis=1)"
   ]
  },
  {
   "cell_type": "code",
   "execution_count": 15,
   "metadata": {},
   "outputs": [],
   "source": [
    "# Grouping by month\n",
    "df_phys_m = df_phys_m.groupby('month').mean().reset_index()"
   ]
  },
  {
   "cell_type": "code",
   "execution_count": 16,
   "metadata": {},
   "outputs": [],
   "source": [
    "# the activity dataframe and the physical dataframe are over different timeperiods. To align them, I drop rows outside the timeperiod here\n",
    "df_phys_m = df_phys_m.drop(df_phys_m[df_phys_m[\"month\"] < \"2021-01\"].index)\n"
   ]
  },
  {
   "cell_type": "code",
   "execution_count": 17,
   "metadata": {},
   "outputs": [],
   "source": [
    "#rounding columns\n",
    "df_phys_m[\"hrv per month\"] = df_phys_m[\"hrv per month\"].round(2)\n",
    "df_phys_m[\"rhr per month\"] = df_phys_m[\"rhr per month\"].round(2)"
   ]
  },
  {
   "cell_type": "markdown",
   "metadata": {},
   "source": [
    "#### 2) Joining `df_activs_m` and `df_phys_m` "
   ]
  },
  {
   "cell_type": "code",
   "execution_count": 18,
   "metadata": {},
   "outputs": [],
   "source": [
    "df_months = pd.merge(df_activs_m,df_phys_m, on=\"month\", how=\"inner\" )"
   ]
  },
  {
   "cell_type": "code",
   "execution_count": 19,
   "metadata": {},
   "outputs": [],
   "source": [
    "# final renaming of columns\n",
    "df_months = df_months.rename({\"rhr per month\": \"rhr\"}, axis=1)\n",
    "df_months = df_months.rename({\"hrv per month\": \"hrv\"}, axis=1)\n",
    "df_months = df_months.rename({\"activity count\": \"activities\"}, axis=1)\n",
    "df_months = df_months.rename({\"moving time\": \"train time\"}, axis=1)"
   ]
  },
  {
   "cell_type": "code",
   "execution_count": 20,
   "metadata": {},
   "outputs": [],
   "source": [
    "# aggregate new columns \n",
    "#df_months[\"moving time mins\"] = df_months[\"moving time\"].dt.minute\n",
    "\n",
    "# Convert timedelta to total minutes\n",
    "df_months['train time'] = (df_months[\"train time\"].dt.total_seconds() /60).astype(int)"
   ]
  },
  {
   "cell_type": "code",
   "execution_count": 21,
   "metadata": {},
   "outputs": [
    {
     "data": {
      "text/html": [
       "<div>\n",
       "<style scoped>\n",
       "    .dataframe tbody tr th:only-of-type {\n",
       "        vertical-align: middle;\n",
       "    }\n",
       "\n",
       "    .dataframe tbody tr th {\n",
       "        vertical-align: top;\n",
       "    }\n",
       "\n",
       "    .dataframe thead th {\n",
       "        text-align: right;\n",
       "    }\n",
       "</style>\n",
       "<table border=\"1\" class=\"dataframe\">\n",
       "  <thead>\n",
       "    <tr style=\"text-align: right;\">\n",
       "      <th></th>\n",
       "      <th>month</th>\n",
       "      <th>train time</th>\n",
       "      <th>distance</th>\n",
       "      <th>activities</th>\n",
       "      <th>rhr</th>\n",
       "      <th>hrv</th>\n",
       "    </tr>\n",
       "  </thead>\n",
       "  <tbody>\n",
       "    <tr>\n",
       "      <th>0</th>\n",
       "      <td>2021-01</td>\n",
       "      <td>264</td>\n",
       "      <td>45</td>\n",
       "      <td>9</td>\n",
       "      <td>50.03</td>\n",
       "      <td>53.90</td>\n",
       "    </tr>\n",
       "    <tr>\n",
       "      <th>1</th>\n",
       "      <td>2021-02</td>\n",
       "      <td>178</td>\n",
       "      <td>31</td>\n",
       "      <td>6</td>\n",
       "      <td>51.54</td>\n",
       "      <td>48.25</td>\n",
       "    </tr>\n",
       "    <tr>\n",
       "      <th>2</th>\n",
       "      <td>2021-03</td>\n",
       "      <td>61</td>\n",
       "      <td>11</td>\n",
       "      <td>2</td>\n",
       "      <td>52.70</td>\n",
       "      <td>46.90</td>\n",
       "    </tr>\n",
       "    <tr>\n",
       "      <th>3</th>\n",
       "      <td>2021-04</td>\n",
       "      <td>113</td>\n",
       "      <td>20</td>\n",
       "      <td>4</td>\n",
       "      <td>52.58</td>\n",
       "      <td>49.58</td>\n",
       "    </tr>\n",
       "    <tr>\n",
       "      <th>4</th>\n",
       "      <td>2021-05</td>\n",
       "      <td>325</td>\n",
       "      <td>57</td>\n",
       "      <td>10</td>\n",
       "      <td>52.68</td>\n",
       "      <td>49.81</td>\n",
       "    </tr>\n",
       "    <tr>\n",
       "      <th>5</th>\n",
       "      <td>2021-06</td>\n",
       "      <td>322</td>\n",
       "      <td>57</td>\n",
       "      <td>9</td>\n",
       "      <td>52.50</td>\n",
       "      <td>54.70</td>\n",
       "    </tr>\n",
       "    <tr>\n",
       "      <th>6</th>\n",
       "      <td>2021-07</td>\n",
       "      <td>295</td>\n",
       "      <td>50</td>\n",
       "      <td>12</td>\n",
       "      <td>51.00</td>\n",
       "      <td>59.84</td>\n",
       "    </tr>\n",
       "    <tr>\n",
       "      <th>7</th>\n",
       "      <td>2021-08</td>\n",
       "      <td>242</td>\n",
       "      <td>34</td>\n",
       "      <td>9</td>\n",
       "      <td>49.58</td>\n",
       "      <td>62.61</td>\n",
       "    </tr>\n",
       "    <tr>\n",
       "      <th>8</th>\n",
       "      <td>2021-09</td>\n",
       "      <td>237</td>\n",
       "      <td>43</td>\n",
       "      <td>5</td>\n",
       "      <td>50.14</td>\n",
       "      <td>61.03</td>\n",
       "    </tr>\n",
       "    <tr>\n",
       "      <th>9</th>\n",
       "      <td>2021-10</td>\n",
       "      <td>72</td>\n",
       "      <td>13</td>\n",
       "      <td>7</td>\n",
       "      <td>51.39</td>\n",
       "      <td>53.29</td>\n",
       "    </tr>\n",
       "    <tr>\n",
       "      <th>10</th>\n",
       "      <td>2021-11</td>\n",
       "      <td>157</td>\n",
       "      <td>26</td>\n",
       "      <td>4</td>\n",
       "      <td>55.00</td>\n",
       "      <td>51.43</td>\n",
       "    </tr>\n",
       "    <tr>\n",
       "      <th>11</th>\n",
       "      <td>2021-12</td>\n",
       "      <td>404</td>\n",
       "      <td>66</td>\n",
       "      <td>7</td>\n",
       "      <td>54.06</td>\n",
       "      <td>53.68</td>\n",
       "    </tr>\n",
       "    <tr>\n",
       "      <th>12</th>\n",
       "      <td>2022-01</td>\n",
       "      <td>495</td>\n",
       "      <td>82</td>\n",
       "      <td>8</td>\n",
       "      <td>52.21</td>\n",
       "      <td>57.31</td>\n",
       "    </tr>\n",
       "    <tr>\n",
       "      <th>13</th>\n",
       "      <td>2022-02</td>\n",
       "      <td>248</td>\n",
       "      <td>42</td>\n",
       "      <td>3</td>\n",
       "      <td>52.21</td>\n",
       "      <td>55.54</td>\n",
       "    </tr>\n",
       "    <tr>\n",
       "      <th>14</th>\n",
       "      <td>2022-03</td>\n",
       "      <td>344</td>\n",
       "      <td>56</td>\n",
       "      <td>6</td>\n",
       "      <td>51.61</td>\n",
       "      <td>55.77</td>\n",
       "    </tr>\n",
       "    <tr>\n",
       "      <th>15</th>\n",
       "      <td>2022-04</td>\n",
       "      <td>406</td>\n",
       "      <td>65</td>\n",
       "      <td>9</td>\n",
       "      <td>50.87</td>\n",
       "      <td>58.83</td>\n",
       "    </tr>\n",
       "    <tr>\n",
       "      <th>16</th>\n",
       "      <td>2022-05</td>\n",
       "      <td>214</td>\n",
       "      <td>37</td>\n",
       "      <td>6</td>\n",
       "      <td>53.03</td>\n",
       "      <td>55.58</td>\n",
       "    </tr>\n",
       "    <tr>\n",
       "      <th>17</th>\n",
       "      <td>2022-06</td>\n",
       "      <td>336</td>\n",
       "      <td>56</td>\n",
       "      <td>8</td>\n",
       "      <td>53.47</td>\n",
       "      <td>55.73</td>\n",
       "    </tr>\n",
       "    <tr>\n",
       "      <th>18</th>\n",
       "      <td>2022-07</td>\n",
       "      <td>373</td>\n",
       "      <td>58</td>\n",
       "      <td>9</td>\n",
       "      <td>49.87</td>\n",
       "      <td>59.90</td>\n",
       "    </tr>\n",
       "    <tr>\n",
       "      <th>19</th>\n",
       "      <td>2022-08</td>\n",
       "      <td>288</td>\n",
       "      <td>53</td>\n",
       "      <td>8</td>\n",
       "      <td>50.35</td>\n",
       "      <td>57.71</td>\n",
       "    </tr>\n",
       "    <tr>\n",
       "      <th>20</th>\n",
       "      <td>2022-09</td>\n",
       "      <td>269</td>\n",
       "      <td>45</td>\n",
       "      <td>4</td>\n",
       "      <td>50.17</td>\n",
       "      <td>60.48</td>\n",
       "    </tr>\n",
       "    <tr>\n",
       "      <th>21</th>\n",
       "      <td>2022-10</td>\n",
       "      <td>292</td>\n",
       "      <td>44</td>\n",
       "      <td>6</td>\n",
       "      <td>51.13</td>\n",
       "      <td>56.29</td>\n",
       "    </tr>\n",
       "    <tr>\n",
       "      <th>22</th>\n",
       "      <td>2022-11</td>\n",
       "      <td>384</td>\n",
       "      <td>61</td>\n",
       "      <td>7</td>\n",
       "      <td>50.50</td>\n",
       "      <td>56.17</td>\n",
       "    </tr>\n",
       "    <tr>\n",
       "      <th>23</th>\n",
       "      <td>2022-12</td>\n",
       "      <td>47</td>\n",
       "      <td>7</td>\n",
       "      <td>1</td>\n",
       "      <td>52.10</td>\n",
       "      <td>55.03</td>\n",
       "    </tr>\n",
       "    <tr>\n",
       "      <th>24</th>\n",
       "      <td>2023-01</td>\n",
       "      <td>192</td>\n",
       "      <td>21</td>\n",
       "      <td>3</td>\n",
       "      <td>54.10</td>\n",
       "      <td>44.90</td>\n",
       "    </tr>\n",
       "    <tr>\n",
       "      <th>25</th>\n",
       "      <td>2023-02</td>\n",
       "      <td>248</td>\n",
       "      <td>42</td>\n",
       "      <td>8</td>\n",
       "      <td>52.29</td>\n",
       "      <td>51.25</td>\n",
       "    </tr>\n",
       "    <tr>\n",
       "      <th>26</th>\n",
       "      <td>2023-03</td>\n",
       "      <td>297</td>\n",
       "      <td>44</td>\n",
       "      <td>7</td>\n",
       "      <td>50.68</td>\n",
       "      <td>55.68</td>\n",
       "    </tr>\n",
       "    <tr>\n",
       "      <th>27</th>\n",
       "      <td>2023-04</td>\n",
       "      <td>215</td>\n",
       "      <td>35</td>\n",
       "      <td>4</td>\n",
       "      <td>51.70</td>\n",
       "      <td>53.03</td>\n",
       "    </tr>\n",
       "    <tr>\n",
       "      <th>28</th>\n",
       "      <td>2023-05</td>\n",
       "      <td>441</td>\n",
       "      <td>81</td>\n",
       "      <td>10</td>\n",
       "      <td>51.23</td>\n",
       "      <td>55.32</td>\n",
       "    </tr>\n",
       "    <tr>\n",
       "      <th>29</th>\n",
       "      <td>2023-06</td>\n",
       "      <td>285</td>\n",
       "      <td>54</td>\n",
       "      <td>8</td>\n",
       "      <td>52.29</td>\n",
       "      <td>52.79</td>\n",
       "    </tr>\n",
       "    <tr>\n",
       "      <th>30</th>\n",
       "      <td>2023-07</td>\n",
       "      <td>233</td>\n",
       "      <td>43</td>\n",
       "      <td>6</td>\n",
       "      <td>51.97</td>\n",
       "      <td>56.13</td>\n",
       "    </tr>\n",
       "    <tr>\n",
       "      <th>31</th>\n",
       "      <td>2023-08</td>\n",
       "      <td>211</td>\n",
       "      <td>38</td>\n",
       "      <td>8</td>\n",
       "      <td>48.94</td>\n",
       "      <td>63.23</td>\n",
       "    </tr>\n",
       "    <tr>\n",
       "      <th>32</th>\n",
       "      <td>2023-09</td>\n",
       "      <td>269</td>\n",
       "      <td>50</td>\n",
       "      <td>5</td>\n",
       "      <td>49.48</td>\n",
       "      <td>63.69</td>\n",
       "    </tr>\n",
       "    <tr>\n",
       "      <th>33</th>\n",
       "      <td>2023-10</td>\n",
       "      <td>344</td>\n",
       "      <td>57</td>\n",
       "      <td>5</td>\n",
       "      <td>51.33</td>\n",
       "      <td>53.70</td>\n",
       "    </tr>\n",
       "    <tr>\n",
       "      <th>34</th>\n",
       "      <td>2023-11</td>\n",
       "      <td>40</td>\n",
       "      <td>6</td>\n",
       "      <td>1</td>\n",
       "      <td>53.07</td>\n",
       "      <td>50.55</td>\n",
       "    </tr>\n",
       "    <tr>\n",
       "      <th>35</th>\n",
       "      <td>2023-12</td>\n",
       "      <td>58</td>\n",
       "      <td>10</td>\n",
       "      <td>1</td>\n",
       "      <td>56.00</td>\n",
       "      <td>41.55</td>\n",
       "    </tr>\n",
       "  </tbody>\n",
       "</table>\n",
       "</div>"
      ],
      "text/plain": [
       "      month  train time  distance  activities    rhr    hrv\n",
       "0   2021-01         264        45           9  50.03  53.90\n",
       "1   2021-02         178        31           6  51.54  48.25\n",
       "2   2021-03          61        11           2  52.70  46.90\n",
       "3   2021-04         113        20           4  52.58  49.58\n",
       "4   2021-05         325        57          10  52.68  49.81\n",
       "5   2021-06         322        57           9  52.50  54.70\n",
       "6   2021-07         295        50          12  51.00  59.84\n",
       "7   2021-08         242        34           9  49.58  62.61\n",
       "8   2021-09         237        43           5  50.14  61.03\n",
       "9   2021-10          72        13           7  51.39  53.29\n",
       "10  2021-11         157        26           4  55.00  51.43\n",
       "11  2021-12         404        66           7  54.06  53.68\n",
       "12  2022-01         495        82           8  52.21  57.31\n",
       "13  2022-02         248        42           3  52.21  55.54\n",
       "14  2022-03         344        56           6  51.61  55.77\n",
       "15  2022-04         406        65           9  50.87  58.83\n",
       "16  2022-05         214        37           6  53.03  55.58\n",
       "17  2022-06         336        56           8  53.47  55.73\n",
       "18  2022-07         373        58           9  49.87  59.90\n",
       "19  2022-08         288        53           8  50.35  57.71\n",
       "20  2022-09         269        45           4  50.17  60.48\n",
       "21  2022-10         292        44           6  51.13  56.29\n",
       "22  2022-11         384        61           7  50.50  56.17\n",
       "23  2022-12          47         7           1  52.10  55.03\n",
       "24  2023-01         192        21           3  54.10  44.90\n",
       "25  2023-02         248        42           8  52.29  51.25\n",
       "26  2023-03         297        44           7  50.68  55.68\n",
       "27  2023-04         215        35           4  51.70  53.03\n",
       "28  2023-05         441        81          10  51.23  55.32\n",
       "29  2023-06         285        54           8  52.29  52.79\n",
       "30  2023-07         233        43           6  51.97  56.13\n",
       "31  2023-08         211        38           8  48.94  63.23\n",
       "32  2023-09         269        50           5  49.48  63.69\n",
       "33  2023-10         344        57           5  51.33  53.70\n",
       "34  2023-11          40         6           1  53.07  50.55\n",
       "35  2023-12          58        10           1  56.00  41.55"
      ]
     },
     "execution_count": 21,
     "metadata": {},
     "output_type": "execute_result"
    }
   ],
   "source": [
    "df_months"
   ]
  },
  {
   "cell_type": "markdown",
   "metadata": {},
   "source": [
    "## Analysis"
   ]
  },
  {
   "cell_type": "markdown",
   "metadata": {},
   "source": [
    "### How the general change of training routine influences HRV & RHR"
   ]
  },
  {
   "cell_type": "markdown",
   "metadata": {},
   "source": [
    "Calculating the percentage change in moving time (train time change), distance (dist change), and number of activities (activs change) compared to the previous month "
   ]
  },
  {
   "cell_type": "code",
   "execution_count": 24,
   "metadata": {},
   "outputs": [],
   "source": [
    "# Compare each month to the last and return the change \n",
    "df_months['dist change'] = df_months['distance'].pct_change().fillna(0.5) # 🔴 check fillna value logic 🔴\n",
    "df_months['activs change'] = df_months['activities'].pct_change().fillna(0.5) # 🔴 check fillna value logic 🔴\n",
    "df_months['train time change'] = df_months['train time'].pct_change().fillna(0.5) # 🔴 check fillna value logic 🔴\n",
    "\n",
    "# Convert all values to positive (absolute values)\n",
    "df_months['dist change'] = df_months['dist change'].abs()\n",
    "df_months['activs change'] = df_months['activs change'].abs()\n",
    "df_months['train time change'] = df_months['train time change'].abs()"
   ]
  },
  {
   "cell_type": "markdown",
   "metadata": {},
   "source": [
    "Creating a change coefficient (change coeff) that describes the mean change over all three aspects per months"
   ]
  },
  {
   "cell_type": "code",
   "execution_count": 26,
   "metadata": {},
   "outputs": [],
   "source": [
    "# creating a change coefficient\n",
    "df_months['change coeff'] = df_months[[ \"activs change\", \"dist change\", \"train time change\"]].mean(axis=1) #\"dist change\",\"train time change\", "
   ]
  },
  {
   "cell_type": "code",
   "execution_count": 27,
   "metadata": {},
   "outputs": [],
   "source": [
    "# creating entries with the next month's hrv and rhr values, since we also want to analyse whether a consistent training period improved the next month's fitness\n",
    "df_months[\"rhr next month\"] = df_months[\"rhr\"].shift(-1).fillna(50)\n",
    "df_months[\"hrv next month\"] = df_months[\"hrv\"].shift(-1).fillna(53)"
   ]
  },
  {
   "cell_type": "markdown",
   "metadata": {},
   "source": [
    "Labelling each month as consistent or inconsistent. (Inconsistent month = more change than normal (normal = average change over all months))"
   ]
  },
  {
   "cell_type": "code",
   "execution_count": 28,
   "metadata": {},
   "outputs": [],
   "source": [
    "#### LABELING EACH MONTH BASED ON THE CHANGE COEFFICIENT\n",
    "\n",
    "normal_change = round((df_months['change coeff'].mean()*100),1)\n",
    "\n",
    "# create a list of our conditions\n",
    "m_conditions = [\n",
    "    ((df_months['change coeff']) <= (normal_change/100)),\n",
    "    ((df_months['change coeff']) > (normal_change/100)),\n",
    "    ]\n",
    "# create a list of the values we want to assign for each condition\n",
    "m_values = ['consistency', 'inconsistency']   \n",
    "\n",
    "# create a new column and use np.select to assign values to it using our lists as arguments\n",
    "df_months[\"period\"] = np.select(m_conditions, m_values)\n"
   ]
  },
  {
   "cell_type": "code",
   "execution_count": 29,
   "metadata": {},
   "outputs": [
    {
     "name": "stderr",
     "output_type": "stream",
     "text": [
      "/var/folders/1m/_v4c_fx94fv55ggvl5l850080000gn/T/ipykernel_29504/545902765.py:5: SettingWithCopyWarning: \n",
      "A value is trying to be set on a copy of a slice from a DataFrame.\n",
      "Try using .loc[row_indexer,col_indexer] = value instead\n",
      "\n",
      "See the caveats in the documentation: https://pandas.pydata.org/pandas-docs/stable/user_guide/indexing.html#returning-a-view-versus-a-copy\n",
      "  df_months[\"change coeff\"] = df_months[\"change coeff\"].round(2)\n"
     ]
    }
   ],
   "source": [
    "# rearranging columns\n",
    "df_months = df_months[[ \"month\",\"change coeff\", \"period\", \"rhr\",\"hrv\",\"rhr next month\",  \"hrv next month\"\n",
    " ]]\n",
    "\n",
    "df_months[\"change coeff\"] = df_months[\"change coeff\"].round(2)\n"
   ]
  },
  {
   "cell_type": "code",
   "execution_count": 30,
   "metadata": {},
   "outputs": [],
   "source": [
    "# grouping by \"consistency\"\n",
    "df_months_cons = df_months.groupby('period').mean().reset_index()\n",
    "\n",
    "# dropping\n",
    "df_months_cons = df_months_cons.drop([\n",
    "       'month', 'change coeff'\n",
    "       ], axis=1)\n",
    "\n",
    "# renaming\n",
    "df_months_cons = df_months_cons.rename({\"rhr\": \"RHR during month\"}, axis=1)\n",
    "df_months_cons = df_months_cons.rename({\"hrv\": \"HRV during month\"}, axis=1)\n",
    "df_months_cons = df_months_cons.rename({\"rhr next month\": \"RHR one month later\"}, axis=1)\n",
    "df_months_cons = df_months_cons.rename({\"hrv next month\": \"HRV one month later\"}, axis=1)"
   ]
  },
  {
   "cell_type": "code",
   "execution_count": 31,
   "metadata": {},
   "outputs": [
    {
     "data": {
      "text/html": [
       "<div>\n",
       "<style scoped>\n",
       "    .dataframe tbody tr th:only-of-type {\n",
       "        vertical-align: middle;\n",
       "    }\n",
       "\n",
       "    .dataframe tbody tr th {\n",
       "        vertical-align: top;\n",
       "    }\n",
       "\n",
       "    .dataframe thead th {\n",
       "        text-align: right;\n",
       "    }\n",
       "</style>\n",
       "<table border=\"1\" class=\"dataframe\">\n",
       "  <thead>\n",
       "    <tr style=\"text-align: right;\">\n",
       "      <th></th>\n",
       "      <th>period</th>\n",
       "      <th>RHR during month</th>\n",
       "      <th>HRV during month</th>\n",
       "      <th>RHR one month later</th>\n",
       "      <th>HRV one month later</th>\n",
       "    </tr>\n",
       "  </thead>\n",
       "  <tbody>\n",
       "    <tr>\n",
       "      <th>0</th>\n",
       "      <td>consistency</td>\n",
       "      <td>51.251304</td>\n",
       "      <td>56.440435</td>\n",
       "      <td>51.169565</td>\n",
       "      <td>56.217391</td>\n",
       "    </tr>\n",
       "    <tr>\n",
       "      <th>1</th>\n",
       "      <td>inconsistency</td>\n",
       "      <td>52.693846</td>\n",
       "      <td>51.773077</td>\n",
       "      <td>52.836154</td>\n",
       "      <td>52.098462</td>\n",
       "    </tr>\n",
       "  </tbody>\n",
       "</table>\n",
       "</div>"
      ],
      "text/plain": [
       "          period  RHR during month  HRV during month  RHR one month later  \\\n",
       "0    consistency         51.251304         56.440435            51.169565   \n",
       "1  inconsistency         52.693846         51.773077            52.836154   \n",
       "\n",
       "   HRV one month later  \n",
       "0            56.217391  \n",
       "1            52.098462  "
      ]
     },
     "execution_count": 31,
     "metadata": {},
     "output_type": "execute_result"
    }
   ],
   "source": [
    "df_months_cons"
   ]
  },
  {
   "cell_type": "markdown",
   "metadata": {},
   "source": [
    "Correlating the monthly change coefficient with HRV and RHR in order to see wether an athlete is fitter during an inconsistent or consistent months  "
   ]
  },
  {
   "cell_type": "code",
   "execution_count": 32,
   "metadata": {},
   "outputs": [
    {
     "name": "stdout",
     "output_type": "stream",
     "text": [
      "EFFECT ON NEXT MONTH\n",
      "The correlation between general change and next month's RHR is: 0.37\n",
      "The correlation between general change and next month's  HRV is: -0.34\n"
     ]
    }
   ],
   "source": [
    "corr_rhr_change = df_months['change coeff'].corr(df_months['rhr next month']).round(2)\n",
    "corr_hrv_change = df_months['change coeff'].corr(df_months['hrv next month']).round(2)\n",
    "\n",
    "print(\"EFFECT ON NEXT MONTH\")\n",
    "print(f\"The correlation between general change and next month's RHR is: {corr_rhr_change}\")\n",
    "print(f\"The correlation between general change and next month's  HRV is: {corr_hrv_change}\")\n"
   ]
  },
  {
   "cell_type": "code",
   "execution_count": 33,
   "metadata": {},
   "outputs": [
    {
     "name": "stdout",
     "output_type": "stream",
     "text": [
      "EFFECT ON SAME MONTH\n",
      "The correlation between general change and the same month's RHR is: 0.49\n",
      "The correlation between general change and the same month's HRV is: -0.53\n"
     ]
    }
   ],
   "source": [
    "corr_rhr_change = df_months['change coeff'].corr(df_months['rhr']).round(2)\n",
    "corr_hrv_change = df_months['change coeff'].corr(df_months['hrv']).round(2)\n",
    "\n",
    "print(\"EFFECT ON SAME MONTH\")\n",
    "print(f\"The correlation between general change and the same month's RHR is: {corr_rhr_change}\")\n",
    "print(f\"The correlation between general change and the same month's HRV is: {corr_hrv_change}\")"
   ]
  },
  {
   "cell_type": "markdown",
   "metadata": {},
   "source": [
    "### Effect of change on NEXT MONTH's fitness"
   ]
  },
  {
   "cell_type": "markdown",
   "metadata": {},
   "source": [
    "Calculating the effect of change on the next months' HRV & RHR"
   ]
  },
  {
   "cell_type": "markdown",
   "metadata": {},
   "source": [
    "#### Linear Regression with HRV next month"
   ]
  },
  {
   "cell_type": "code",
   "execution_count": 34,
   "metadata": {},
   "outputs": [
    {
     "data": {
      "text/html": [
       "<div>\n",
       "<style scoped>\n",
       "    .dataframe tbody tr th:only-of-type {\n",
       "        vertical-align: middle;\n",
       "    }\n",
       "\n",
       "    .dataframe tbody tr th {\n",
       "        vertical-align: top;\n",
       "    }\n",
       "\n",
       "    .dataframe thead th {\n",
       "        text-align: right;\n",
       "    }\n",
       "</style>\n",
       "<table border=\"1\" class=\"dataframe\">\n",
       "  <thead>\n",
       "    <tr style=\"text-align: right;\">\n",
       "      <th></th>\n",
       "      <th>change coeff</th>\n",
       "    </tr>\n",
       "  </thead>\n",
       "  <tbody>\n",
       "    <tr>\n",
       "      <th>0</th>\n",
       "      <td>0.50</td>\n",
       "    </tr>\n",
       "    <tr>\n",
       "      <th>1</th>\n",
       "      <td>0.32</td>\n",
       "    </tr>\n",
       "    <tr>\n",
       "      <th>2</th>\n",
       "      <td>0.66</td>\n",
       "    </tr>\n",
       "    <tr>\n",
       "      <th>3</th>\n",
       "      <td>0.89</td>\n",
       "    </tr>\n",
       "    <tr>\n",
       "      <th>4</th>\n",
       "      <td>1.74</td>\n",
       "    </tr>\n",
       "  </tbody>\n",
       "</table>\n",
       "</div>"
      ],
      "text/plain": [
       "   change coeff\n",
       "0          0.50\n",
       "1          0.32\n",
       "2          0.66\n",
       "3          0.89\n",
       "4          1.74"
      ]
     },
     "metadata": {},
     "output_type": "display_data"
    },
    {
     "data": {
      "text/plain": [
       "0    48.25\n",
       "1    46.90\n",
       "2    49.58\n",
       "3    49.81\n",
       "4    54.70\n",
       "Name: hrv next month, dtype: float64"
      ]
     },
     "metadata": {},
     "output_type": "display_data"
    }
   ],
   "source": [
    "# import the statsmodels.api module\n",
    "import statsmodels.api as sm\n",
    "\n",
    "# Choose the independent variable, the predictor X\n",
    "X = df_months[['change coeff']]\n",
    "\n",
    "# Define dependent variable (since it's always a single variable, we can use dot notation here)\n",
    "y = df_months[\"hrv next month\"]\n",
    "\n",
    "display(X.head())\n",
    "display(y.head())"
   ]
  },
  {
   "cell_type": "markdown",
   "metadata": {},
   "source": [
    "**Deep Dive: Why do we have to add a constant?**  \n",
    "Statsmodel does not fit the intercept by default! Thus, if we don't add a constant, we won't have an adjustable intercept and our model is forced to let the regression line go through the origin of the coordinate system.\n",
    "The “const” column provides a placeholder — a bunch of 1s as constants which can be multiplied by $\\beta_0$."
   ]
  },
  {
   "cell_type": "code",
   "execution_count": 35,
   "metadata": {},
   "outputs": [
    {
     "data": {
      "text/html": [
       "<div>\n",
       "<style scoped>\n",
       "    .dataframe tbody tr th:only-of-type {\n",
       "        vertical-align: middle;\n",
       "    }\n",
       "\n",
       "    .dataframe tbody tr th {\n",
       "        vertical-align: top;\n",
       "    }\n",
       "\n",
       "    .dataframe thead th {\n",
       "        text-align: right;\n",
       "    }\n",
       "</style>\n",
       "<table border=\"1\" class=\"dataframe\">\n",
       "  <thead>\n",
       "    <tr style=\"text-align: right;\">\n",
       "      <th></th>\n",
       "      <th>const</th>\n",
       "      <th>change coeff</th>\n",
       "    </tr>\n",
       "  </thead>\n",
       "  <tbody>\n",
       "    <tr>\n",
       "      <th>0</th>\n",
       "      <td>1.0</td>\n",
       "      <td>0.50</td>\n",
       "    </tr>\n",
       "    <tr>\n",
       "      <th>1</th>\n",
       "      <td>1.0</td>\n",
       "      <td>0.32</td>\n",
       "    </tr>\n",
       "    <tr>\n",
       "      <th>2</th>\n",
       "      <td>1.0</td>\n",
       "      <td>0.66</td>\n",
       "    </tr>\n",
       "    <tr>\n",
       "      <th>3</th>\n",
       "      <td>1.0</td>\n",
       "      <td>0.89</td>\n",
       "    </tr>\n",
       "    <tr>\n",
       "      <th>4</th>\n",
       "      <td>1.0</td>\n",
       "      <td>1.74</td>\n",
       "    </tr>\n",
       "  </tbody>\n",
       "</table>\n",
       "</div>"
      ],
      "text/plain": [
       "   const  change coeff\n",
       "0    1.0          0.50\n",
       "1    1.0          0.32\n",
       "2    1.0          0.66\n",
       "3    1.0          0.89\n",
       "4    1.0          1.74"
      ]
     },
     "metadata": {},
     "output_type": "display_data"
    }
   ],
   "source": [
    "# Since our statsmodel OLS model needs an adjustable intercept, we add a column of 1s to:\n",
    "X = sm.add_constant(X)\n",
    "display(X.head())"
   ]
  },
  {
   "cell_type": "markdown",
   "metadata": {},
   "source": [
    "Now, our data is prepared for modeling!  \n",
    "\n",
    "The following steps are:\n",
    "- creating a model based on the modules notation,\n",
    "- fitting the model to our data (this is the part where the sum of squared residuals is reduced to min - and passing the model results in a result variable)\n",
    "- print a summary with the models statistics"
   ]
  },
  {
   "cell_type": "code",
   "execution_count": 36,
   "metadata": {},
   "outputs": [
    {
     "data": {
      "text/html": [
       "<table class=\"simpletable\">\n",
       "<caption>OLS Regression Results</caption>\n",
       "<tr>\n",
       "  <th>Dep. Variable:</th>     <td>hrv next month</td>  <th>  R-squared:         </th> <td>   0.117</td>\n",
       "</tr>\n",
       "<tr>\n",
       "  <th>Model:</th>                   <td>OLS</td>       <th>  Adj. R-squared:    </th> <td>   0.091</td>\n",
       "</tr>\n",
       "<tr>\n",
       "  <th>Method:</th>             <td>Least Squares</td>  <th>  F-statistic:       </th> <td>   4.519</td>\n",
       "</tr>\n",
       "<tr>\n",
       "  <th>Date:</th>             <td>Fri, 14 Mar 2025</td> <th>  Prob (F-statistic):</th>  <td>0.0409</td> \n",
       "</tr>\n",
       "<tr>\n",
       "  <th>Time:</th>                 <td>16:40:25</td>     <th>  Log-Likelihood:    </th> <td> -106.01</td>\n",
       "</tr>\n",
       "<tr>\n",
       "  <th>No. Observations:</th>      <td>    36</td>      <th>  AIC:               </th> <td>   216.0</td>\n",
       "</tr>\n",
       "<tr>\n",
       "  <th>Df Residuals:</th>          <td>    34</td>      <th>  BIC:               </th> <td>   219.2</td>\n",
       "</tr>\n",
       "<tr>\n",
       "  <th>Df Model:</th>              <td>     1</td>      <th>                     </th>     <td> </td>   \n",
       "</tr>\n",
       "<tr>\n",
       "  <th>Covariance Type:</th>      <td>nonrobust</td>    <th>                     </th>     <td> </td>   \n",
       "</tr>\n",
       "</table>\n",
       "<table class=\"simpletable\">\n",
       "<tr>\n",
       "        <td></td>          <th>coef</th>     <th>std err</th>      <th>t</th>      <th>P>|t|</th>  <th>[0.025</th>    <th>0.975]</th>  \n",
       "</tr>\n",
       "<tr>\n",
       "  <th>const</th>        <td>   56.5553</td> <td>    1.166</td> <td>   48.508</td> <td> 0.000</td> <td>   54.186</td> <td>   58.925</td>\n",
       "</tr>\n",
       "<tr>\n",
       "  <th>change coeff</th> <td>   -3.4013</td> <td>    1.600</td> <td>   -2.126</td> <td> 0.041</td> <td>   -6.653</td> <td>   -0.150</td>\n",
       "</tr>\n",
       "</table>\n",
       "<table class=\"simpletable\">\n",
       "<tr>\n",
       "  <th>Omnibus:</th>       <td> 2.311</td> <th>  Durbin-Watson:     </th> <td>   1.093</td>\n",
       "</tr>\n",
       "<tr>\n",
       "  <th>Prob(Omnibus):</th> <td> 0.315</td> <th>  Jarque-Bera (JB):  </th> <td>   1.722</td>\n",
       "</tr>\n",
       "<tr>\n",
       "  <th>Skew:</th>          <td>-0.536</td> <th>  Prob(JB):          </th> <td>   0.423</td>\n",
       "</tr>\n",
       "<tr>\n",
       "  <th>Kurtosis:</th>      <td> 2.984</td> <th>  Cond. No.          </th> <td>    2.74</td>\n",
       "</tr>\n",
       "</table><br/><br/>Notes:<br/>[1] Standard Errors assume that the covariance matrix of the errors is correctly specified."
      ],
      "text/latex": [
       "\\begin{center}\n",
       "\\begin{tabular}{lclc}\n",
       "\\toprule\n",
       "\\textbf{Dep. Variable:}    &  hrv next month  & \\textbf{  R-squared:         } &     0.117   \\\\\n",
       "\\textbf{Model:}            &       OLS        & \\textbf{  Adj. R-squared:    } &     0.091   \\\\\n",
       "\\textbf{Method:}           &  Least Squares   & \\textbf{  F-statistic:       } &     4.519   \\\\\n",
       "\\textbf{Date:}             & Fri, 14 Mar 2025 & \\textbf{  Prob (F-statistic):} &   0.0409    \\\\\n",
       "\\textbf{Time:}             &     16:40:25     & \\textbf{  Log-Likelihood:    } &   -106.01   \\\\\n",
       "\\textbf{No. Observations:} &          36      & \\textbf{  AIC:               } &     216.0   \\\\\n",
       "\\textbf{Df Residuals:}     &          34      & \\textbf{  BIC:               } &     219.2   \\\\\n",
       "\\textbf{Df Model:}         &           1      & \\textbf{                     } &             \\\\\n",
       "\\textbf{Covariance Type:}  &    nonrobust     & \\textbf{                     } &             \\\\\n",
       "\\bottomrule\n",
       "\\end{tabular}\n",
       "\\begin{tabular}{lcccccc}\n",
       "                      & \\textbf{coef} & \\textbf{std err} & \\textbf{t} & \\textbf{P$> |$t$|$} & \\textbf{[0.025} & \\textbf{0.975]}  \\\\\n",
       "\\midrule\n",
       "\\textbf{const}        &      56.5553  &        1.166     &    48.508  &         0.000        &       54.186    &       58.925     \\\\\n",
       "\\textbf{change coeff} &      -3.4013  &        1.600     &    -2.126  &         0.041        &       -6.653    &       -0.150     \\\\\n",
       "\\bottomrule\n",
       "\\end{tabular}\n",
       "\\begin{tabular}{lclc}\n",
       "\\textbf{Omnibus:}       &  2.311 & \\textbf{  Durbin-Watson:     } &    1.093  \\\\\n",
       "\\textbf{Prob(Omnibus):} &  0.315 & \\textbf{  Jarque-Bera (JB):  } &    1.722  \\\\\n",
       "\\textbf{Skew:}          & -0.536 & \\textbf{  Prob(JB):          } &    0.423  \\\\\n",
       "\\textbf{Kurtosis:}      &  2.984 & \\textbf{  Cond. No.          } &     2.74  \\\\\n",
       "\\bottomrule\n",
       "\\end{tabular}\n",
       "%\\caption{OLS Regression Results}\n",
       "\\end{center}\n",
       "\n",
       "Notes: \\newline\n",
       " [1] Standard Errors assume that the covariance matrix of the errors is correctly specified."
      ],
      "text/plain": [
       "<class 'statsmodels.iolib.summary.Summary'>\n",
       "\"\"\"\n",
       "                            OLS Regression Results                            \n",
       "==============================================================================\n",
       "Dep. Variable:         hrv next month   R-squared:                       0.117\n",
       "Model:                            OLS   Adj. R-squared:                  0.091\n",
       "Method:                 Least Squares   F-statistic:                     4.519\n",
       "Date:                Fri, 14 Mar 2025   Prob (F-statistic):             0.0409\n",
       "Time:                        16:40:25   Log-Likelihood:                -106.01\n",
       "No. Observations:                  36   AIC:                             216.0\n",
       "Df Residuals:                      34   BIC:                             219.2\n",
       "Df Model:                           1                                         \n",
       "Covariance Type:            nonrobust                                         \n",
       "================================================================================\n",
       "                   coef    std err          t      P>|t|      [0.025      0.975]\n",
       "--------------------------------------------------------------------------------\n",
       "const           56.5553      1.166     48.508      0.000      54.186      58.925\n",
       "change coeff    -3.4013      1.600     -2.126      0.041      -6.653      -0.150\n",
       "==============================================================================\n",
       "Omnibus:                        2.311   Durbin-Watson:                   1.093\n",
       "Prob(Omnibus):                  0.315   Jarque-Bera (JB):                1.722\n",
       "Skew:                          -0.536   Prob(JB):                        0.423\n",
       "Kurtosis:                       2.984   Cond. No.                         2.74\n",
       "==============================================================================\n",
       "\n",
       "Notes:\n",
       "[1] Standard Errors assume that the covariance matrix of the errors is correctly specified.\n",
       "\"\"\""
      ]
     },
     "execution_count": 36,
     "metadata": {},
     "output_type": "execute_result"
    }
   ],
   "source": [
    "# create an OLS model\n",
    "our_model = sm.OLS(y, X)\n",
    "\n",
    "# use the data to calculate the intercept and slope\n",
    "model_results = our_model.fit()\n",
    "\n",
    "# return the output of the model\n",
    "model_results.summary() # summary contains eg. 'const' (intercept) and 'slope' of the regression equation."
   ]
  },
  {
   "cell_type": "markdown",
   "metadata": {},
   "source": [
    "R-squared, $\\textbf{R}^2$ - Proportion of the variation in $y$ that is explained by the model. Measured on a scale from 0 (bad) to 1 (good)  \n",
    "**const coef** - This is the intercept, in other words: value of y when x = 0  \n",
    "**weight coef** - This is the slope, in other words: Amount, y changes for each unit change of x  "
   ]
  },
  {
   "cell_type": "code",
   "execution_count": 37,
   "metadata": {},
   "outputs": [
    {
     "name": "stdout",
     "output_type": "stream",
     "text": [
      "intercept: 56.5553402760313, slope: -3.4012551727291385\n"
     ]
    }
   ],
   "source": [
    "# print out the intercept and slope of your model by addressing the parameters via \".params\"\n",
    "# (you can also find it in the table above by looking at const coef and weight coef)\n",
    "intercept, hrv_slope = model_results.params\n",
    "\n",
    "print(f'intercept: {intercept}, slope: {hrv_slope}')"
   ]
  },
  {
   "cell_type": "code",
   "execution_count": 38,
   "metadata": {},
   "outputs": [
    {
     "name": "stdout",
     "output_type": "stream",
     "text": [
      "for each 100% change the HRV changes by -3.4 ms\n"
     ]
    }
   ],
   "source": [
    "print(f\"for each 100% change the HRV changes by {round(hrv_slope*1, 1)} ms\")  "
   ]
  },
  {
   "cell_type": "code",
   "execution_count": 39,
   "metadata": {},
   "outputs": [
    {
     "data": {
      "image/png": "[encoded data removed]",
      "text/plain": [
       "<Figure size 600x400 with 1 Axes>"
      ]
     },
     "metadata": {},
     "output_type": "display_data"
    }
   ],
   "source": [
    "# Plotting the results of our model\n",
    "fig, ax = plt.subplots(figsize=(6, 4))\n",
    "\n",
    "x = df_months['change coeff']\n",
    "y = df_months['hrv next month']\n",
    "\n",
    "# add data points\n",
    "ax.scatter(x, y, alpha=0.5, color='orchid')\n",
    "fig.suptitle('Relationship between Change and HRV next month')\n",
    "\n",
    "# plotting the regression line with the help of our calculated intercept and slope variables\n",
    "ax.plot(x, x*hrv_slope+intercept, '-', color='darkorchid', linewidth=2);\n",
    "ax.set_xlabel(\"Change (in distance, time, activities)\");\n",
    "ax.set_ylabel(\"HRV next month\");"
   ]
  },
  {
   "cell_type": "markdown",
   "metadata": {},
   "source": [
    "##### Checking Significance (Change & HRV)"
   ]
  },
  {
   "cell_type": "code",
   "execution_count": 40,
   "metadata": {},
   "outputs": [
    {
     "name": "stdout",
     "output_type": "stream",
     "text": [
      "Spearman correlation: -0.47862483814659795, p-value: 0.0031481060690403775\n"
     ]
    }
   ],
   "source": [
    "# checking significance\n",
    "from scipy.stats import spearmanr\n",
    "\n",
    "corr, p_value = spearmanr(df_months['change coeff'], df_months['hrv next month'])\n",
    "print(f\"Spearman correlation: {corr}, p-value: {p_value}\")"
   ]
  },
  {
   "cell_type": "markdown",
   "metadata": {},
   "source": []
  },
  {
   "cell_type": "markdown",
   "metadata": {},
   "source": [
    "#### Linear Regression with RHR next month"
   ]
  },
  {
   "cell_type": "code",
   "execution_count": 41,
   "metadata": {},
   "outputs": [
    {
     "data": {
      "text/html": [
       "<div>\n",
       "<style scoped>\n",
       "    .dataframe tbody tr th:only-of-type {\n",
       "        vertical-align: middle;\n",
       "    }\n",
       "\n",
       "    .dataframe tbody tr th {\n",
       "        vertical-align: top;\n",
       "    }\n",
       "\n",
       "    .dataframe thead th {\n",
       "        text-align: right;\n",
       "    }\n",
       "</style>\n",
       "<table border=\"1\" class=\"dataframe\">\n",
       "  <thead>\n",
       "    <tr style=\"text-align: right;\">\n",
       "      <th></th>\n",
       "      <th>change coeff</th>\n",
       "    </tr>\n",
       "  </thead>\n",
       "  <tbody>\n",
       "    <tr>\n",
       "      <th>0</th>\n",
       "      <td>0.50</td>\n",
       "    </tr>\n",
       "    <tr>\n",
       "      <th>1</th>\n",
       "      <td>0.32</td>\n",
       "    </tr>\n",
       "    <tr>\n",
       "      <th>2</th>\n",
       "      <td>0.66</td>\n",
       "    </tr>\n",
       "    <tr>\n",
       "      <th>3</th>\n",
       "      <td>0.89</td>\n",
       "    </tr>\n",
       "    <tr>\n",
       "      <th>4</th>\n",
       "      <td>1.74</td>\n",
       "    </tr>\n",
       "  </tbody>\n",
       "</table>\n",
       "</div>"
      ],
      "text/plain": [
       "   change coeff\n",
       "0          0.50\n",
       "1          0.32\n",
       "2          0.66\n",
       "3          0.89\n",
       "4          1.74"
      ]
     },
     "metadata": {},
     "output_type": "display_data"
    },
    {
     "data": {
      "text/plain": [
       "0    51.54\n",
       "1    52.70\n",
       "2    52.58\n",
       "3    52.68\n",
       "4    52.50\n",
       "Name: rhr next month, dtype: float64"
      ]
     },
     "metadata": {},
     "output_type": "display_data"
    }
   ],
   "source": [
    "# import the statsmodels.api module\n",
    "import statsmodels.api as sm\n",
    "\n",
    "# Choose the independent variable, the predictor X\n",
    "X = df_months[['change coeff']]\n",
    "\n",
    "# Define dependent variable (since it's always a single variable, we can use dot notation here)\n",
    "y = df_months[\"rhr next month\"]\n",
    "\n",
    "display(X.head())\n",
    "display(y.head())"
   ]
  },
  {
   "cell_type": "markdown",
   "metadata": {},
   "source": [
    "**Deep Dive: Why do we have to add a constant?**  \n",
    "Statsmodel does not fit the intercept by default! Thus, if we don't add a constant, we won't have an adjustable intercept and our model is forced to let the regression line go through the origin of the coordinate system.\n",
    "The “const” column provides a placeholder — a bunch of 1s as constants which can be multiplied by $\\beta_0$."
   ]
  },
  {
   "cell_type": "code",
   "execution_count": 42,
   "metadata": {},
   "outputs": [
    {
     "data": {
      "text/html": [
       "<div>\n",
       "<style scoped>\n",
       "    .dataframe tbody tr th:only-of-type {\n",
       "        vertical-align: middle;\n",
       "    }\n",
       "\n",
       "    .dataframe tbody tr th {\n",
       "        vertical-align: top;\n",
       "    }\n",
       "\n",
       "    .dataframe thead th {\n",
       "        text-align: right;\n",
       "    }\n",
       "</style>\n",
       "<table border=\"1\" class=\"dataframe\">\n",
       "  <thead>\n",
       "    <tr style=\"text-align: right;\">\n",
       "      <th></th>\n",
       "      <th>const</th>\n",
       "      <th>change coeff</th>\n",
       "    </tr>\n",
       "  </thead>\n",
       "  <tbody>\n",
       "    <tr>\n",
       "      <th>0</th>\n",
       "      <td>1.0</td>\n",
       "      <td>0.50</td>\n",
       "    </tr>\n",
       "    <tr>\n",
       "      <th>1</th>\n",
       "      <td>1.0</td>\n",
       "      <td>0.32</td>\n",
       "    </tr>\n",
       "    <tr>\n",
       "      <th>2</th>\n",
       "      <td>1.0</td>\n",
       "      <td>0.66</td>\n",
       "    </tr>\n",
       "    <tr>\n",
       "      <th>3</th>\n",
       "      <td>1.0</td>\n",
       "      <td>0.89</td>\n",
       "    </tr>\n",
       "    <tr>\n",
       "      <th>4</th>\n",
       "      <td>1.0</td>\n",
       "      <td>1.74</td>\n",
       "    </tr>\n",
       "  </tbody>\n",
       "</table>\n",
       "</div>"
      ],
      "text/plain": [
       "   const  change coeff\n",
       "0    1.0          0.50\n",
       "1    1.0          0.32\n",
       "2    1.0          0.66\n",
       "3    1.0          0.89\n",
       "4    1.0          1.74"
      ]
     },
     "metadata": {},
     "output_type": "display_data"
    }
   ],
   "source": [
    "# Since our statsmodel OLS model needs an adjustable intercept, we add a column of 1s to:\n",
    "X = sm.add_constant(X)\n",
    "display(X.head())"
   ]
  },
  {
   "cell_type": "markdown",
   "metadata": {},
   "source": [
    "Now, our data is prepared for modeling!  \n",
    "\n",
    "The following steps are:\n",
    "- creating a model based on the modules notation,\n",
    "- fitting the model to our data (this is the part where the sum of squared residuals is reduced to min - and passing the model results in a result variable)\n",
    "- print a summary with the models statistics"
   ]
  },
  {
   "cell_type": "code",
   "execution_count": 43,
   "metadata": {},
   "outputs": [
    {
     "data": {
      "text/html": [
       "<table class=\"simpletable\">\n",
       "<caption>OLS Regression Results</caption>\n",
       "<tr>\n",
       "  <th>Dep. Variable:</th>     <td>rhr next month</td>  <th>  R-squared:         </th> <td>   0.134</td>\n",
       "</tr>\n",
       "<tr>\n",
       "  <th>Model:</th>                   <td>OLS</td>       <th>  Adj. R-squared:    </th> <td>   0.109</td>\n",
       "</tr>\n",
       "<tr>\n",
       "  <th>Method:</th>             <td>Least Squares</td>  <th>  F-statistic:       </th> <td>   5.275</td>\n",
       "</tr>\n",
       "<tr>\n",
       "  <th>Date:</th>             <td>Fri, 14 Mar 2025</td> <th>  Prob (F-statistic):</th>  <td>0.0279</td> \n",
       "</tr>\n",
       "<tr>\n",
       "  <th>Time:</th>                 <td>16:40:25</td>     <th>  Log-Likelihood:    </th> <td> -64.260</td>\n",
       "</tr>\n",
       "<tr>\n",
       "  <th>No. Observations:</th>      <td>    36</td>      <th>  AIC:               </th> <td>   132.5</td>\n",
       "</tr>\n",
       "<tr>\n",
       "  <th>Df Residuals:</th>          <td>    34</td>      <th>  BIC:               </th> <td>   135.7</td>\n",
       "</tr>\n",
       "<tr>\n",
       "  <th>Df Model:</th>              <td>     1</td>      <th>                     </th>     <td> </td>   \n",
       "</tr>\n",
       "<tr>\n",
       "  <th>Covariance Type:</th>      <td>nonrobust</td>    <th>                     </th>     <td> </td>   \n",
       "</tr>\n",
       "</table>\n",
       "<table class=\"simpletable\">\n",
       "<tr>\n",
       "        <td></td>          <th>coef</th>     <th>std err</th>      <th>t</th>      <th>P>|t|</th>  <th>[0.025</th>    <th>0.975]</th>  \n",
       "</tr>\n",
       "<tr>\n",
       "  <th>const</th>        <td>   51.1530</td> <td>    0.366</td> <td>  139.919</td> <td> 0.000</td> <td>   50.410</td> <td>   51.896</td>\n",
       "</tr>\n",
       "<tr>\n",
       "  <th>change coeff</th> <td>    1.1522</td> <td>    0.502</td> <td>    2.297</td> <td> 0.028</td> <td>    0.133</td> <td>    2.172</td>\n",
       "</tr>\n",
       "</table>\n",
       "<table class=\"simpletable\">\n",
       "<tr>\n",
       "  <th>Omnibus:</th>       <td> 3.259</td> <th>  Durbin-Watson:     </th> <td>   1.620</td>\n",
       "</tr>\n",
       "<tr>\n",
       "  <th>Prob(Omnibus):</th> <td> 0.196</td> <th>  Jarque-Bera (JB):  </th> <td>   2.509</td>\n",
       "</tr>\n",
       "<tr>\n",
       "  <th>Skew:</th>          <td> 0.646</td> <th>  Prob(JB):          </th> <td>   0.285</td>\n",
       "</tr>\n",
       "<tr>\n",
       "  <th>Kurtosis:</th>      <td> 3.042</td> <th>  Cond. No.          </th> <td>    2.74</td>\n",
       "</tr>\n",
       "</table><br/><br/>Notes:<br/>[1] Standard Errors assume that the covariance matrix of the errors is correctly specified."
      ],
      "text/latex": [
       "\\begin{center}\n",
       "\\begin{tabular}{lclc}\n",
       "\\toprule\n",
       "\\textbf{Dep. Variable:}    &  rhr next month  & \\textbf{  R-squared:         } &     0.134   \\\\\n",
       "\\textbf{Model:}            &       OLS        & \\textbf{  Adj. R-squared:    } &     0.109   \\\\\n",
       "\\textbf{Method:}           &  Least Squares   & \\textbf{  F-statistic:       } &     5.275   \\\\\n",
       "\\textbf{Date:}             & Fri, 14 Mar 2025 & \\textbf{  Prob (F-statistic):} &   0.0279    \\\\\n",
       "\\textbf{Time:}             &     16:40:25     & \\textbf{  Log-Likelihood:    } &   -64.260   \\\\\n",
       "\\textbf{No. Observations:} &          36      & \\textbf{  AIC:               } &     132.5   \\\\\n",
       "\\textbf{Df Residuals:}     &          34      & \\textbf{  BIC:               } &     135.7   \\\\\n",
       "\\textbf{Df Model:}         &           1      & \\textbf{                     } &             \\\\\n",
       "\\textbf{Covariance Type:}  &    nonrobust     & \\textbf{                     } &             \\\\\n",
       "\\bottomrule\n",
       "\\end{tabular}\n",
       "\\begin{tabular}{lcccccc}\n",
       "                      & \\textbf{coef} & \\textbf{std err} & \\textbf{t} & \\textbf{P$> |$t$|$} & \\textbf{[0.025} & \\textbf{0.975]}  \\\\\n",
       "\\midrule\n",
       "\\textbf{const}        &      51.1530  &        0.366     &   139.919  &         0.000        &       50.410    &       51.896     \\\\\n",
       "\\textbf{change coeff} &       1.1522  &        0.502     &     2.297  &         0.028        &        0.133    &        2.172     \\\\\n",
       "\\bottomrule\n",
       "\\end{tabular}\n",
       "\\begin{tabular}{lclc}\n",
       "\\textbf{Omnibus:}       &  3.259 & \\textbf{  Durbin-Watson:     } &    1.620  \\\\\n",
       "\\textbf{Prob(Omnibus):} &  0.196 & \\textbf{  Jarque-Bera (JB):  } &    2.509  \\\\\n",
       "\\textbf{Skew:}          &  0.646 & \\textbf{  Prob(JB):          } &    0.285  \\\\\n",
       "\\textbf{Kurtosis:}      &  3.042 & \\textbf{  Cond. No.          } &     2.74  \\\\\n",
       "\\bottomrule\n",
       "\\end{tabular}\n",
       "%\\caption{OLS Regression Results}\n",
       "\\end{center}\n",
       "\n",
       "Notes: \\newline\n",
       " [1] Standard Errors assume that the covariance matrix of the errors is correctly specified."
      ],
      "text/plain": [
       "<class 'statsmodels.iolib.summary.Summary'>\n",
       "\"\"\"\n",
       "                            OLS Regression Results                            \n",
       "==============================================================================\n",
       "Dep. Variable:         rhr next month   R-squared:                       0.134\n",
       "Model:                            OLS   Adj. R-squared:                  0.109\n",
       "Method:                 Least Squares   F-statistic:                     5.275\n",
       "Date:                Fri, 14 Mar 2025   Prob (F-statistic):             0.0279\n",
       "Time:                        16:40:25   Log-Likelihood:                -64.260\n",
       "No. Observations:                  36   AIC:                             132.5\n",
       "Df Residuals:                      34   BIC:                             135.7\n",
       "Df Model:                           1                                         \n",
       "Covariance Type:            nonrobust                                         \n",
       "================================================================================\n",
       "                   coef    std err          t      P>|t|      [0.025      0.975]\n",
       "--------------------------------------------------------------------------------\n",
       "const           51.1530      0.366    139.919      0.000      50.410      51.896\n",
       "change coeff     1.1522      0.502      2.297      0.028       0.133       2.172\n",
       "==============================================================================\n",
       "Omnibus:                        3.259   Durbin-Watson:                   1.620\n",
       "Prob(Omnibus):                  0.196   Jarque-Bera (JB):                2.509\n",
       "Skew:                           0.646   Prob(JB):                        0.285\n",
       "Kurtosis:                       3.042   Cond. No.                         2.74\n",
       "==============================================================================\n",
       "\n",
       "Notes:\n",
       "[1] Standard Errors assume that the covariance matrix of the errors is correctly specified.\n",
       "\"\"\""
      ]
     },
     "execution_count": 43,
     "metadata": {},
     "output_type": "execute_result"
    }
   ],
   "source": [
    "# create an OLS model\n",
    "our_model = sm.OLS(y, X)\n",
    "\n",
    "# use the data to calculate the intercept and slope\n",
    "model_results = our_model.fit()\n",
    "\n",
    "# return the output of the model\n",
    "model_results.summary() # summary contains eg. 'const' (intercept) and 'slope' of the regression equation."
   ]
  },
  {
   "cell_type": "markdown",
   "metadata": {},
   "source": [
    "R-squared, $\\textbf{R}^2$ - Proportion of the variation in $y$ that is explained by the model. Measured on a scale from 0 (bad) to 1 (good)  \n",
    "**const coef** - This is the intercept, in other words: value of y when x = 0  \n",
    "**weight coef** - This is the slope, in other words: Amount, y changes for each unit change of x  "
   ]
  },
  {
   "cell_type": "code",
   "execution_count": 44,
   "metadata": {},
   "outputs": [
    {
     "name": "stdout",
     "output_type": "stream",
     "text": [
      "intercept: 51.15301999105806, slope: 1.152240182293454\n"
     ]
    }
   ],
   "source": [
    "# print out the intercept and slope of your model by addressing the parameters via \".params\"\n",
    "# (you can also find it in the table above by looking at const coef and weight coef)\n",
    "intercept, rhr_slope = model_results.params\n",
    "\n",
    "print(f'intercept: {intercept}, slope: {rhr_slope}')"
   ]
  },
  {
   "cell_type": "code",
   "execution_count": 45,
   "metadata": {},
   "outputs": [
    {
     "name": "stdout",
     "output_type": "stream",
     "text": [
      "for each 100% change the RHR changes by 1.2 bpm\n"
     ]
    }
   ],
   "source": [
    "print(f\"for each 100% change the RHR changes by {round(rhr_slope*1, 1)} bpm\")  "
   ]
  },
  {
   "cell_type": "code",
   "execution_count": 46,
   "metadata": {},
   "outputs": [
    {
     "data": {
      "image/png": "[encoded data removed]",
      "text/plain": [
       "<Figure size 600x400 with 1 Axes>"
      ]
     },
     "metadata": {},
     "output_type": "display_data"
    }
   ],
   "source": [
    "# Plotting the results of our model\n",
    "fig, ax = plt.subplots(figsize=(6, 4))\n",
    "\n",
    "x = df_months['change coeff']\n",
    "y = df_months['rhr next month']\n",
    "\n",
    "# add data points\n",
    "ax.scatter(x, y, alpha=0.5, color='orchid')\n",
    "fig.suptitle('Relationship between Change and RHR next month')\n",
    "\n",
    "# plotting the regression line with the help of our calculated intercept and slope variables\n",
    "ax.plot(x, x*rhr_slope+intercept, '-', color='darkorchid', linewidth=2);\n",
    "ax.set_xlabel(\"Change (in distance, time, activities)\");\n",
    "ax.set_ylabel(\"RHR next month\");"
   ]
  },
  {
   "cell_type": "markdown",
   "metadata": {},
   "source": [
    "##### Checking Significance (Change & RHR)"
   ]
  },
  {
   "cell_type": "code",
   "execution_count": 47,
   "metadata": {},
   "outputs": [
    {
     "name": "stdout",
     "output_type": "stream",
     "text": [
      "Spearman correlation: 0.4900837455267302, p-value: 0.0024124632682249046\n"
     ]
    }
   ],
   "source": [
    "# checking significance\n",
    "from scipy.stats import spearmanr\n",
    "\n",
    "corr, p_value = spearmanr(df_months['change coeff'], df_months['rhr next month'])\n",
    "print(f\"Spearman correlation: {corr}, p-value: {p_value}\")"
   ]
  },
  {
   "cell_type": "markdown",
   "metadata": {},
   "source": [
    "### Effect of change on SAME MONTH's fitness"
   ]
  },
  {
   "cell_type": "markdown",
   "metadata": {},
   "source": [
    "Calculating the effect of change on HRV & RHR during the same month in which the change occurred. "
   ]
  },
  {
   "cell_type": "markdown",
   "metadata": {},
   "source": [
    "#### Linear Regression with HRV this same month"
   ]
  },
  {
   "cell_type": "code",
   "execution_count": 48,
   "metadata": {},
   "outputs": [
    {
     "data": {
      "text/html": [
       "<div>\n",
       "<style scoped>\n",
       "    .dataframe tbody tr th:only-of-type {\n",
       "        vertical-align: middle;\n",
       "    }\n",
       "\n",
       "    .dataframe tbody tr th {\n",
       "        vertical-align: top;\n",
       "    }\n",
       "\n",
       "    .dataframe thead th {\n",
       "        text-align: right;\n",
       "    }\n",
       "</style>\n",
       "<table border=\"1\" class=\"dataframe\">\n",
       "  <thead>\n",
       "    <tr style=\"text-align: right;\">\n",
       "      <th></th>\n",
       "      <th>change coeff</th>\n",
       "    </tr>\n",
       "  </thead>\n",
       "  <tbody>\n",
       "    <tr>\n",
       "      <th>0</th>\n",
       "      <td>0.50</td>\n",
       "    </tr>\n",
       "    <tr>\n",
       "      <th>1</th>\n",
       "      <td>0.32</td>\n",
       "    </tr>\n",
       "    <tr>\n",
       "      <th>2</th>\n",
       "      <td>0.66</td>\n",
       "    </tr>\n",
       "    <tr>\n",
       "      <th>3</th>\n",
       "      <td>0.89</td>\n",
       "    </tr>\n",
       "    <tr>\n",
       "      <th>4</th>\n",
       "      <td>1.74</td>\n",
       "    </tr>\n",
       "  </tbody>\n",
       "</table>\n",
       "</div>"
      ],
      "text/plain": [
       "   change coeff\n",
       "0          0.50\n",
       "1          0.32\n",
       "2          0.66\n",
       "3          0.89\n",
       "4          1.74"
      ]
     },
     "metadata": {},
     "output_type": "display_data"
    },
    {
     "data": {
      "text/plain": [
       "0    53.90\n",
       "1    48.25\n",
       "2    46.90\n",
       "3    49.58\n",
       "4    49.81\n",
       "Name: hrv, dtype: float64"
      ]
     },
     "metadata": {},
     "output_type": "display_data"
    }
   ],
   "source": [
    "# import the statsmodels.api module\n",
    "import statsmodels.api as sm\n",
    "\n",
    "# Choose the independent variable, the predictor X\n",
    "X = df_months[['change coeff']]\n",
    "\n",
    "# Define dependent variable (since it's always a single variable, we can use dot notation here)\n",
    "y = df_months[\"hrv\"]\n",
    "\n",
    "display(X.head())\n",
    "display(y.head())"
   ]
  },
  {
   "cell_type": "markdown",
   "metadata": {},
   "source": [
    "**Deep Dive: Why do we have to add a constant?**  \n",
    "Statsmodel does not fit the intercept by default! Thus, if we don't add a constant, we won't have an adjustable intercept and our model is forced to let the regression line go through the origin of the coordinate system.\n",
    "The “const” column provides a placeholder — a bunch of 1s as constants which can be multiplied by $\\beta_0$."
   ]
  },
  {
   "cell_type": "code",
   "execution_count": 49,
   "metadata": {},
   "outputs": [
    {
     "data": {
      "text/html": [
       "<div>\n",
       "<style scoped>\n",
       "    .dataframe tbody tr th:only-of-type {\n",
       "        vertical-align: middle;\n",
       "    }\n",
       "\n",
       "    .dataframe tbody tr th {\n",
       "        vertical-align: top;\n",
       "    }\n",
       "\n",
       "    .dataframe thead th {\n",
       "        text-align: right;\n",
       "    }\n",
       "</style>\n",
       "<table border=\"1\" class=\"dataframe\">\n",
       "  <thead>\n",
       "    <tr style=\"text-align: right;\">\n",
       "      <th></th>\n",
       "      <th>const</th>\n",
       "      <th>change coeff</th>\n",
       "    </tr>\n",
       "  </thead>\n",
       "  <tbody>\n",
       "    <tr>\n",
       "      <th>0</th>\n",
       "      <td>1.0</td>\n",
       "      <td>0.50</td>\n",
       "    </tr>\n",
       "    <tr>\n",
       "      <th>1</th>\n",
       "      <td>1.0</td>\n",
       "      <td>0.32</td>\n",
       "    </tr>\n",
       "    <tr>\n",
       "      <th>2</th>\n",
       "      <td>1.0</td>\n",
       "      <td>0.66</td>\n",
       "    </tr>\n",
       "    <tr>\n",
       "      <th>3</th>\n",
       "      <td>1.0</td>\n",
       "      <td>0.89</td>\n",
       "    </tr>\n",
       "    <tr>\n",
       "      <th>4</th>\n",
       "      <td>1.0</td>\n",
       "      <td>1.74</td>\n",
       "    </tr>\n",
       "  </tbody>\n",
       "</table>\n",
       "</div>"
      ],
      "text/plain": [
       "   const  change coeff\n",
       "0    1.0          0.50\n",
       "1    1.0          0.32\n",
       "2    1.0          0.66\n",
       "3    1.0          0.89\n",
       "4    1.0          1.74"
      ]
     },
     "metadata": {},
     "output_type": "display_data"
    }
   ],
   "source": [
    "# Since our statsmodel OLS model needs an adjustable intercept, we add a column of 1s to:\n",
    "X = sm.add_constant(X)\n",
    "display(X.head())"
   ]
  },
  {
   "cell_type": "markdown",
   "metadata": {},
   "source": [
    "Now, our data is prepared for modeling!  \n",
    "\n",
    "The following steps are:\n",
    "- creating a model based on the modules notation,\n",
    "- fitting the model to our data (this is the part where the sum of squared residuals is reduced to min - and passing the model results in a result variable)\n",
    "- print a summary with the models statistics"
   ]
  },
  {
   "cell_type": "code",
   "execution_count": 50,
   "metadata": {},
   "outputs": [
    {
     "data": {
      "text/html": [
       "<table class=\"simpletable\">\n",
       "<caption>OLS Regression Results</caption>\n",
       "<tr>\n",
       "  <th>Dep. Variable:</th>           <td>hrv</td>       <th>  R-squared:         </th> <td>   0.281</td>\n",
       "</tr>\n",
       "<tr>\n",
       "  <th>Model:</th>                   <td>OLS</td>       <th>  Adj. R-squared:    </th> <td>   0.260</td>\n",
       "</tr>\n",
       "<tr>\n",
       "  <th>Method:</th>             <td>Least Squares</td>  <th>  F-statistic:       </th> <td>   13.29</td>\n",
       "</tr>\n",
       "<tr>\n",
       "  <th>Date:</th>             <td>Fri, 14 Mar 2025</td> <th>  Prob (F-statistic):</th> <td>0.000881</td>\n",
       "</tr>\n",
       "<tr>\n",
       "  <th>Time:</th>                 <td>16:40:25</td>     <th>  Log-Likelihood:    </th> <td> -102.27</td>\n",
       "</tr>\n",
       "<tr>\n",
       "  <th>No. Observations:</th>      <td>    36</td>      <th>  AIC:               </th> <td>   208.5</td>\n",
       "</tr>\n",
       "<tr>\n",
       "  <th>Df Residuals:</th>          <td>    34</td>      <th>  BIC:               </th> <td>   211.7</td>\n",
       "</tr>\n",
       "<tr>\n",
       "  <th>Df Model:</th>              <td>     1</td>      <th>                     </th>     <td> </td>   \n",
       "</tr>\n",
       "<tr>\n",
       "  <th>Covariance Type:</th>      <td>nonrobust</td>    <th>                     </th>     <td> </td>   \n",
       "</tr>\n",
       "</table>\n",
       "<table class=\"simpletable\">\n",
       "<tr>\n",
       "        <td></td>          <th>coef</th>     <th>std err</th>      <th>t</th>      <th>P>|t|</th>  <th>[0.025</th>    <th>0.975]</th>  \n",
       "</tr>\n",
       "<tr>\n",
       "  <th>const</th>        <td>   57.5766</td> <td>    1.051</td> <td>   54.795</td> <td> 0.000</td> <td>   55.441</td> <td>   59.712</td>\n",
       "</tr>\n",
       "<tr>\n",
       "  <th>change coeff</th> <td>   -5.2576</td> <td>    1.442</td> <td>   -3.646</td> <td> 0.001</td> <td>   -8.188</td> <td>   -2.327</td>\n",
       "</tr>\n",
       "</table>\n",
       "<table class=\"simpletable\">\n",
       "<tr>\n",
       "  <th>Omnibus:</th>       <td>11.140</td> <th>  Durbin-Watson:     </th> <td>   1.118</td>\n",
       "</tr>\n",
       "<tr>\n",
       "  <th>Prob(Omnibus):</th> <td> 0.004</td> <th>  Jarque-Bera (JB):  </th> <td>  12.102</td>\n",
       "</tr>\n",
       "<tr>\n",
       "  <th>Skew:</th>          <td>-0.930</td> <th>  Prob(JB):          </th> <td> 0.00236</td>\n",
       "</tr>\n",
       "<tr>\n",
       "  <th>Kurtosis:</th>      <td> 5.147</td> <th>  Cond. No.          </th> <td>    2.74</td>\n",
       "</tr>\n",
       "</table><br/><br/>Notes:<br/>[1] Standard Errors assume that the covariance matrix of the errors is correctly specified."
      ],
      "text/latex": [
       "\\begin{center}\n",
       "\\begin{tabular}{lclc}\n",
       "\\toprule\n",
       "\\textbf{Dep. Variable:}    &       hrv        & \\textbf{  R-squared:         } &     0.281   \\\\\n",
       "\\textbf{Model:}            &       OLS        & \\textbf{  Adj. R-squared:    } &     0.260   \\\\\n",
       "\\textbf{Method:}           &  Least Squares   & \\textbf{  F-statistic:       } &     13.29   \\\\\n",
       "\\textbf{Date:}             & Fri, 14 Mar 2025 & \\textbf{  Prob (F-statistic):} &  0.000881   \\\\\n",
       "\\textbf{Time:}             &     16:40:25     & \\textbf{  Log-Likelihood:    } &   -102.27   \\\\\n",
       "\\textbf{No. Observations:} &          36      & \\textbf{  AIC:               } &     208.5   \\\\\n",
       "\\textbf{Df Residuals:}     &          34      & \\textbf{  BIC:               } &     211.7   \\\\\n",
       "\\textbf{Df Model:}         &           1      & \\textbf{                     } &             \\\\\n",
       "\\textbf{Covariance Type:}  &    nonrobust     & \\textbf{                     } &             \\\\\n",
       "\\bottomrule\n",
       "\\end{tabular}\n",
       "\\begin{tabular}{lcccccc}\n",
       "                      & \\textbf{coef} & \\textbf{std err} & \\textbf{t} & \\textbf{P$> |$t$|$} & \\textbf{[0.025} & \\textbf{0.975]}  \\\\\n",
       "\\midrule\n",
       "\\textbf{const}        &      57.5766  &        1.051     &    54.795  &         0.000        &       55.441    &       59.712     \\\\\n",
       "\\textbf{change coeff} &      -5.2576  &        1.442     &    -3.646  &         0.001        &       -8.188    &       -2.327     \\\\\n",
       "\\bottomrule\n",
       "\\end{tabular}\n",
       "\\begin{tabular}{lclc}\n",
       "\\textbf{Omnibus:}       & 11.140 & \\textbf{  Durbin-Watson:     } &    1.118  \\\\\n",
       "\\textbf{Prob(Omnibus):} &  0.004 & \\textbf{  Jarque-Bera (JB):  } &   12.102  \\\\\n",
       "\\textbf{Skew:}          & -0.930 & \\textbf{  Prob(JB):          } &  0.00236  \\\\\n",
       "\\textbf{Kurtosis:}      &  5.147 & \\textbf{  Cond. No.          } &     2.74  \\\\\n",
       "\\bottomrule\n",
       "\\end{tabular}\n",
       "%\\caption{OLS Regression Results}\n",
       "\\end{center}\n",
       "\n",
       "Notes: \\newline\n",
       " [1] Standard Errors assume that the covariance matrix of the errors is correctly specified."
      ],
      "text/plain": [
       "<class 'statsmodels.iolib.summary.Summary'>\n",
       "\"\"\"\n",
       "                            OLS Regression Results                            \n",
       "==============================================================================\n",
       "Dep. Variable:                    hrv   R-squared:                       0.281\n",
       "Model:                            OLS   Adj. R-squared:                  0.260\n",
       "Method:                 Least Squares   F-statistic:                     13.29\n",
       "Date:                Fri, 14 Mar 2025   Prob (F-statistic):           0.000881\n",
       "Time:                        16:40:25   Log-Likelihood:                -102.27\n",
       "No. Observations:                  36   AIC:                             208.5\n",
       "Df Residuals:                      34   BIC:                             211.7\n",
       "Df Model:                           1                                         \n",
       "Covariance Type:            nonrobust                                         \n",
       "================================================================================\n",
       "                   coef    std err          t      P>|t|      [0.025      0.975]\n",
       "--------------------------------------------------------------------------------\n",
       "const           57.5766      1.051     54.795      0.000      55.441      59.712\n",
       "change coeff    -5.2576      1.442     -3.646      0.001      -8.188      -2.327\n",
       "==============================================================================\n",
       "Omnibus:                       11.140   Durbin-Watson:                   1.118\n",
       "Prob(Omnibus):                  0.004   Jarque-Bera (JB):               12.102\n",
       "Skew:                          -0.930   Prob(JB):                      0.00236\n",
       "Kurtosis:                       5.147   Cond. No.                         2.74\n",
       "==============================================================================\n",
       "\n",
       "Notes:\n",
       "[1] Standard Errors assume that the covariance matrix of the errors is correctly specified.\n",
       "\"\"\""
      ]
     },
     "execution_count": 50,
     "metadata": {},
     "output_type": "execute_result"
    }
   ],
   "source": [
    "# create an OLS model\n",
    "our_model = sm.OLS(y, X)\n",
    "\n",
    "# use the data to calculate the intercept and slope\n",
    "model_results = our_model.fit()\n",
    "\n",
    "# return the output of the model\n",
    "model_results.summary() # summary contains eg. 'const' (intercept) and 'slope' of the regression equation."
   ]
  },
  {
   "cell_type": "markdown",
   "metadata": {},
   "source": [
    "R-squared, $\\textbf{R}^2$ - Proportion of the variation in $y$ that is explained by the model. Measured on a scale from 0 (bad) to 1 (good)  \n",
    "**const coef** - This is the intercept, in other words: value of y when x = 0  \n",
    "**weight coef** - This is the slope, in other words: Amount, y changes for each unit change of x  "
   ]
  },
  {
   "cell_type": "code",
   "execution_count": 51,
   "metadata": {},
   "outputs": [
    {
     "name": "stdout",
     "output_type": "stream",
     "text": [
      "intercept: 57.57655822035254, slope: -5.257561901278031\n"
     ]
    }
   ],
   "source": [
    "# print out the intercept and slope of your model by addressing the parameters via \".params\"\n",
    "# (you can also find it in the table above by looking at const coef and weight coef)\n",
    "intercept, hrv_slope = model_results.params\n",
    "\n",
    "print(f'intercept: {intercept}, slope: {hrv_slope}')"
   ]
  },
  {
   "cell_type": "code",
   "execution_count": 52,
   "metadata": {},
   "outputs": [
    {
     "name": "stdout",
     "output_type": "stream",
     "text": [
      "for each 100% change the HRV changes by -5.3 ms\n"
     ]
    }
   ],
   "source": [
    "print(f\"for each 100% change the HRV changes by {round(hrv_slope*1, 1)} ms\")  "
   ]
  },
  {
   "cell_type": "code",
   "execution_count": 53,
   "metadata": {},
   "outputs": [
    {
     "data": {
      "image/png": "[encoded data removed]",
      "text/plain": [
       "<Figure size 600x400 with 1 Axes>"
      ]
     },
     "metadata": {},
     "output_type": "display_data"
    }
   ],
   "source": [
    "# Plotting the results of our model\n",
    "fig, ax = plt.subplots(figsize=(6, 4))\n",
    "\n",
    "x = df_months['change coeff']\n",
    "y = df_months['hrv']\n",
    "\n",
    "# add data points\n",
    "ax.scatter(x, y, alpha=0.5, color='orchid')\n",
    "fig.suptitle('Relationship between Change and HRV (same month)')\n",
    "\n",
    "# plotting the regression line with the help of our calculated intercept and slope variables\n",
    "ax.plot(x, x*hrv_slope+intercept, '-', color='darkorchid', linewidth=2);\n",
    "ax.set_xlabel(\"Change (in distance, time, activities)\");\n",
    "ax.set_ylabel(\"HRV same month\");"
   ]
  },
  {
   "cell_type": "markdown",
   "metadata": {},
   "source": [
    "##### Checking Significance (Change & HRV)"
   ]
  },
  {
   "cell_type": "markdown",
   "metadata": {},
   "source": [
    "###### Checking Normality"
   ]
  },
  {
   "cell_type": "code",
   "execution_count": 54,
   "metadata": {},
   "outputs": [
    {
     "name": "stdout",
     "output_type": "stream",
     "text": [
      "Shapiro-Wilk p-value (change coeff): 9.666084815707971e-06\n",
      "Shapiro-Wilk p-value (hrv): 0.5321890497011001\n",
      "change coeff is not normally distributed\n",
      "hrv is normally distributed\n"
     ]
    }
   ],
   "source": [
    "import scipy.stats as stats\n",
    "\n",
    "# Shapiro-Wilk test\n",
    "# _ is a throwaway variable we are not really interested in this value \n",
    "# but rather only the p-value\n",
    "_, p_change_coeff = stats.shapiro(df_months['change coeff'])  \n",
    "_, p_hrv = stats.shapiro(df_months['hrv'])\n",
    "print(f'Shapiro-Wilk p-value (change coeff): {p_change_coeff}')\n",
    "print(f'Shapiro-Wilk p-value (hrv): {p_hrv}')\n",
    "\n",
    "print(\"change coeff is not normally distributed\")\n",
    "print(\"hrv is normally distributed\")\n"
   ]
  },
  {
   "cell_type": "markdown",
   "metadata": {},
   "source": [
    "###### Checking Significance"
   ]
  },
  {
   "cell_type": "code",
   "execution_count": 55,
   "metadata": {},
   "outputs": [
    {
     "name": "stdout",
     "output_type": "stream",
     "text": [
      "Spearman correlation: -0.6267062381650503, p-value: 4.3251660533810696e-05\n"
     ]
    }
   ],
   "source": [
    "from scipy.stats import spearmanr\n",
    "\n",
    "corr, p_value = spearmanr(df_months['change coeff'], df_months['hrv'])\n",
    "print(f\"Spearman correlation: {corr}, p-value: {p_value}\")"
   ]
  },
  {
   "cell_type": "markdown",
   "metadata": {},
   "source": [
    "#### Linear Regression with RHR this same month"
   ]
  },
  {
   "cell_type": "code",
   "execution_count": 56,
   "metadata": {},
   "outputs": [
    {
     "data": {
      "text/html": [
       "<div>\n",
       "<style scoped>\n",
       "    .dataframe tbody tr th:only-of-type {\n",
       "        vertical-align: middle;\n",
       "    }\n",
       "\n",
       "    .dataframe tbody tr th {\n",
       "        vertical-align: top;\n",
       "    }\n",
       "\n",
       "    .dataframe thead th {\n",
       "        text-align: right;\n",
       "    }\n",
       "</style>\n",
       "<table border=\"1\" class=\"dataframe\">\n",
       "  <thead>\n",
       "    <tr style=\"text-align: right;\">\n",
       "      <th></th>\n",
       "      <th>change coeff</th>\n",
       "    </tr>\n",
       "  </thead>\n",
       "  <tbody>\n",
       "    <tr>\n",
       "      <th>0</th>\n",
       "      <td>0.50</td>\n",
       "    </tr>\n",
       "    <tr>\n",
       "      <th>1</th>\n",
       "      <td>0.32</td>\n",
       "    </tr>\n",
       "    <tr>\n",
       "      <th>2</th>\n",
       "      <td>0.66</td>\n",
       "    </tr>\n",
       "    <tr>\n",
       "      <th>3</th>\n",
       "      <td>0.89</td>\n",
       "    </tr>\n",
       "    <tr>\n",
       "      <th>4</th>\n",
       "      <td>1.74</td>\n",
       "    </tr>\n",
       "  </tbody>\n",
       "</table>\n",
       "</div>"
      ],
      "text/plain": [
       "   change coeff\n",
       "0          0.50\n",
       "1          0.32\n",
       "2          0.66\n",
       "3          0.89\n",
       "4          1.74"
      ]
     },
     "metadata": {},
     "output_type": "display_data"
    },
    {
     "data": {
      "text/plain": [
       "0    50.03\n",
       "1    51.54\n",
       "2    52.70\n",
       "3    52.58\n",
       "4    52.68\n",
       "Name: rhr, dtype: float64"
      ]
     },
     "metadata": {},
     "output_type": "display_data"
    }
   ],
   "source": [
    "# import the statsmodels.api module\n",
    "import statsmodels.api as sm\n",
    "\n",
    "# Choose the independent variable, the predictor X\n",
    "X = df_months[['change coeff']]\n",
    "\n",
    "# Define dependent variable (since it's always a single variable, we can use dot notation here)\n",
    "y = df_months[\"rhr\"]\n",
    "\n",
    "display(X.head())\n",
    "display(y.head())"
   ]
  },
  {
   "cell_type": "markdown",
   "metadata": {},
   "source": [
    "**Deep Dive: Why do we have to add a constant?**  \n",
    "Statsmodel does not fit the intercept by default! Thus, if we don't add a constant, we won't have an adjustable intercept and our model is forced to let the regression line go through the origin of the coordinate system.\n",
    "The “const” column provides a placeholder — a bunch of 1s as constants which can be multiplied by $\\beta_0$."
   ]
  },
  {
   "cell_type": "code",
   "execution_count": 57,
   "metadata": {},
   "outputs": [
    {
     "data": {
      "text/html": [
       "<div>\n",
       "<style scoped>\n",
       "    .dataframe tbody tr th:only-of-type {\n",
       "        vertical-align: middle;\n",
       "    }\n",
       "\n",
       "    .dataframe tbody tr th {\n",
       "        vertical-align: top;\n",
       "    }\n",
       "\n",
       "    .dataframe thead th {\n",
       "        text-align: right;\n",
       "    }\n",
       "</style>\n",
       "<table border=\"1\" class=\"dataframe\">\n",
       "  <thead>\n",
       "    <tr style=\"text-align: right;\">\n",
       "      <th></th>\n",
       "      <th>const</th>\n",
       "      <th>change coeff</th>\n",
       "    </tr>\n",
       "  </thead>\n",
       "  <tbody>\n",
       "    <tr>\n",
       "      <th>0</th>\n",
       "      <td>1.0</td>\n",
       "      <td>0.50</td>\n",
       "    </tr>\n",
       "    <tr>\n",
       "      <th>1</th>\n",
       "      <td>1.0</td>\n",
       "      <td>0.32</td>\n",
       "    </tr>\n",
       "    <tr>\n",
       "      <th>2</th>\n",
       "      <td>1.0</td>\n",
       "      <td>0.66</td>\n",
       "    </tr>\n",
       "    <tr>\n",
       "      <th>3</th>\n",
       "      <td>1.0</td>\n",
       "      <td>0.89</td>\n",
       "    </tr>\n",
       "    <tr>\n",
       "      <th>4</th>\n",
       "      <td>1.0</td>\n",
       "      <td>1.74</td>\n",
       "    </tr>\n",
       "  </tbody>\n",
       "</table>\n",
       "</div>"
      ],
      "text/plain": [
       "   const  change coeff\n",
       "0    1.0          0.50\n",
       "1    1.0          0.32\n",
       "2    1.0          0.66\n",
       "3    1.0          0.89\n",
       "4    1.0          1.74"
      ]
     },
     "metadata": {},
     "output_type": "display_data"
    }
   ],
   "source": [
    "# Since our statsmodel OLS model needs an adjustable intercept, we add a column of 1s to:\n",
    "X = sm.add_constant(X)\n",
    "display(X.head())"
   ]
  },
  {
   "cell_type": "markdown",
   "metadata": {},
   "source": [
    "Now, our data is prepared for modeling!  \n",
    "\n",
    "The following steps are:\n",
    "- creating a model based on the modules notation,\n",
    "- fitting the model to our data (this is the part where the sum of squared residuals is reduced to min - and passing the model results in a result variable)\n",
    "- print a summary with the models statistics"
   ]
  },
  {
   "cell_type": "code",
   "execution_count": 58,
   "metadata": {},
   "outputs": [
    {
     "data": {
      "text/html": [
       "<table class=\"simpletable\">\n",
       "<caption>OLS Regression Results</caption>\n",
       "<tr>\n",
       "  <th>Dep. Variable:</th>           <td>rhr</td>       <th>  R-squared:         </th> <td>   0.241</td>\n",
       "</tr>\n",
       "<tr>\n",
       "  <th>Model:</th>                   <td>OLS</td>       <th>  Adj. R-squared:    </th> <td>   0.219</td>\n",
       "</tr>\n",
       "<tr>\n",
       "  <th>Method:</th>             <td>Least Squares</td>  <th>  F-statistic:       </th> <td>   10.80</td>\n",
       "</tr>\n",
       "<tr>\n",
       "  <th>Date:</th>             <td>Fri, 14 Mar 2025</td> <th>  Prob (F-statistic):</th>  <td>0.00236</td>\n",
       "</tr>\n",
       "<tr>\n",
       "  <th>Time:</th>                 <td>16:40:25</td>     <th>  Log-Likelihood:    </th> <td> -61.868</td>\n",
       "</tr>\n",
       "<tr>\n",
       "  <th>No. Observations:</th>      <td>    36</td>      <th>  AIC:               </th> <td>   127.7</td>\n",
       "</tr>\n",
       "<tr>\n",
       "  <th>Df Residuals:</th>          <td>    34</td>      <th>  BIC:               </th> <td>   130.9</td>\n",
       "</tr>\n",
       "<tr>\n",
       "  <th>Df Model:</th>              <td>     1</td>      <th>                     </th>     <td> </td>   \n",
       "</tr>\n",
       "<tr>\n",
       "  <th>Covariance Type:</th>      <td>nonrobust</td>    <th>                     </th>     <td> </td>   \n",
       "</tr>\n",
       "</table>\n",
       "<table class=\"simpletable\">\n",
       "<tr>\n",
       "        <td></td>          <th>coef</th>     <th>std err</th>      <th>t</th>      <th>P>|t|</th>  <th>[0.025</th>    <th>0.975]</th>  \n",
       "</tr>\n",
       "<tr>\n",
       "  <th>const</th>        <td>   50.9442</td> <td>    0.342</td> <td>  148.922</td> <td> 0.000</td> <td>   50.249</td> <td>   51.639</td>\n",
       "</tr>\n",
       "<tr>\n",
       "  <th>change coeff</th> <td>    1.5429</td> <td>    0.469</td> <td>    3.287</td> <td> 0.002</td> <td>    0.589</td> <td>    2.497</td>\n",
       "</tr>\n",
       "</table>\n",
       "<table class=\"simpletable\">\n",
       "<tr>\n",
       "  <th>Omnibus:</th>       <td>10.207</td> <th>  Durbin-Watson:     </th> <td>   1.302</td>\n",
       "</tr>\n",
       "<tr>\n",
       "  <th>Prob(Omnibus):</th> <td> 0.006</td> <th>  Jarque-Bera (JB):  </th> <td>   9.749</td>\n",
       "</tr>\n",
       "<tr>\n",
       "  <th>Skew:</th>          <td> 0.959</td> <th>  Prob(JB):          </th> <td> 0.00764</td>\n",
       "</tr>\n",
       "<tr>\n",
       "  <th>Kurtosis:</th>      <td> 4.679</td> <th>  Cond. No.          </th> <td>    2.74</td>\n",
       "</tr>\n",
       "</table><br/><br/>Notes:<br/>[1] Standard Errors assume that the covariance matrix of the errors is correctly specified."
      ],
      "text/latex": [
       "\\begin{center}\n",
       "\\begin{tabular}{lclc}\n",
       "\\toprule\n",
       "\\textbf{Dep. Variable:}    &       rhr        & \\textbf{  R-squared:         } &     0.241   \\\\\n",
       "\\textbf{Model:}            &       OLS        & \\textbf{  Adj. R-squared:    } &     0.219   \\\\\n",
       "\\textbf{Method:}           &  Least Squares   & \\textbf{  F-statistic:       } &     10.80   \\\\\n",
       "\\textbf{Date:}             & Fri, 14 Mar 2025 & \\textbf{  Prob (F-statistic):} &  0.00236    \\\\\n",
       "\\textbf{Time:}             &     16:40:25     & \\textbf{  Log-Likelihood:    } &   -61.868   \\\\\n",
       "\\textbf{No. Observations:} &          36      & \\textbf{  AIC:               } &     127.7   \\\\\n",
       "\\textbf{Df Residuals:}     &          34      & \\textbf{  BIC:               } &     130.9   \\\\\n",
       "\\textbf{Df Model:}         &           1      & \\textbf{                     } &             \\\\\n",
       "\\textbf{Covariance Type:}  &    nonrobust     & \\textbf{                     } &             \\\\\n",
       "\\bottomrule\n",
       "\\end{tabular}\n",
       "\\begin{tabular}{lcccccc}\n",
       "                      & \\textbf{coef} & \\textbf{std err} & \\textbf{t} & \\textbf{P$> |$t$|$} & \\textbf{[0.025} & \\textbf{0.975]}  \\\\\n",
       "\\midrule\n",
       "\\textbf{const}        &      50.9442  &        0.342     &   148.922  &         0.000        &       50.249    &       51.639     \\\\\n",
       "\\textbf{change coeff} &       1.5429  &        0.469     &     3.287  &         0.002        &        0.589    &        2.497     \\\\\n",
       "\\bottomrule\n",
       "\\end{tabular}\n",
       "\\begin{tabular}{lclc}\n",
       "\\textbf{Omnibus:}       & 10.207 & \\textbf{  Durbin-Watson:     } &    1.302  \\\\\n",
       "\\textbf{Prob(Omnibus):} &  0.006 & \\textbf{  Jarque-Bera (JB):  } &    9.749  \\\\\n",
       "\\textbf{Skew:}          &  0.959 & \\textbf{  Prob(JB):          } &  0.00764  \\\\\n",
       "\\textbf{Kurtosis:}      &  4.679 & \\textbf{  Cond. No.          } &     2.74  \\\\\n",
       "\\bottomrule\n",
       "\\end{tabular}\n",
       "%\\caption{OLS Regression Results}\n",
       "\\end{center}\n",
       "\n",
       "Notes: \\newline\n",
       " [1] Standard Errors assume that the covariance matrix of the errors is correctly specified."
      ],
      "text/plain": [
       "<class 'statsmodels.iolib.summary.Summary'>\n",
       "\"\"\"\n",
       "                            OLS Regression Results                            \n",
       "==============================================================================\n",
       "Dep. Variable:                    rhr   R-squared:                       0.241\n",
       "Model:                            OLS   Adj. R-squared:                  0.219\n",
       "Method:                 Least Squares   F-statistic:                     10.80\n",
       "Date:                Fri, 14 Mar 2025   Prob (F-statistic):            0.00236\n",
       "Time:                        16:40:25   Log-Likelihood:                -61.868\n",
       "No. Observations:                  36   AIC:                             127.7\n",
       "Df Residuals:                      34   BIC:                             130.9\n",
       "Df Model:                           1                                         \n",
       "Covariance Type:            nonrobust                                         \n",
       "================================================================================\n",
       "                   coef    std err          t      P>|t|      [0.025      0.975]\n",
       "--------------------------------------------------------------------------------\n",
       "const           50.9442      0.342    148.922      0.000      50.249      51.639\n",
       "change coeff     1.5429      0.469      3.287      0.002       0.589       2.497\n",
       "==============================================================================\n",
       "Omnibus:                       10.207   Durbin-Watson:                   1.302\n",
       "Prob(Omnibus):                  0.006   Jarque-Bera (JB):                9.749\n",
       "Skew:                           0.959   Prob(JB):                      0.00764\n",
       "Kurtosis:                       4.679   Cond. No.                         2.74\n",
       "==============================================================================\n",
       "\n",
       "Notes:\n",
       "[1] Standard Errors assume that the covariance matrix of the errors is correctly specified.\n",
       "\"\"\""
      ]
     },
     "execution_count": 58,
     "metadata": {},
     "output_type": "execute_result"
    }
   ],
   "source": [
    "# create an OLS model\n",
    "our_model = sm.OLS(y, X)\n",
    "\n",
    "# use the data to calculate the intercept and slope\n",
    "model_results = our_model.fit()\n",
    "\n",
    "# return the output of the model\n",
    "model_results.summary() # summary contains eg. 'const' (intercept) and 'slope' of the regression equation."
   ]
  },
  {
   "cell_type": "markdown",
   "metadata": {},
   "source": [
    "R-squared, $\\textbf{R}^2$ - Proportion of the variation in $y$ that is explained by the model. Measured on a scale from 0 (bad) to 1 (good)  \n",
    "**const coef** - This is the intercept, in other words: value of y when x = 0  \n",
    "**weight coef** - This is the slope, in other words: Amount, y changes for each unit change of x  "
   ]
  },
  {
   "cell_type": "code",
   "execution_count": 59,
   "metadata": {},
   "outputs": [
    {
     "name": "stdout",
     "output_type": "stream",
     "text": [
      "intercept: 50.944187808490256, slope: 1.5429212678235302\n"
     ]
    }
   ],
   "source": [
    "# print out the intercept and slope of your model by addressing the parameters via \".params\"\n",
    "# (you can also find it in the table above by looking at const coef and weight coef)\n",
    "intercept, rhr_slope = model_results.params\n",
    "\n",
    "print(f'intercept: {intercept}, slope: {rhr_slope}')"
   ]
  },
  {
   "cell_type": "code",
   "execution_count": 60,
   "metadata": {},
   "outputs": [
    {
     "name": "stdout",
     "output_type": "stream",
     "text": [
      "for each 100% change the RHR changes by 1.5 bpm\n"
     ]
    }
   ],
   "source": [
    "print(f\"for each 100% change the RHR changes by {round(rhr_slope*1, 1)} bpm\") "
   ]
  },
  {
   "cell_type": "code",
   "execution_count": 61,
   "metadata": {},
   "outputs": [
    {
     "data": {
      "image/png": "[encoded data removed]",
      "text/plain": [
       "<Figure size 600x400 with 1 Axes>"
      ]
     },
     "metadata": {},
     "output_type": "display_data"
    }
   ],
   "source": [
    "# Plotting the results of our model\n",
    "fig, ax = plt.subplots(figsize=(6, 4))\n",
    "\n",
    "x = df_months['change coeff']\n",
    "y = df_months['rhr']\n",
    "\n",
    "# add data points\n",
    "ax.scatter(x, y, alpha=0.5, color='orchid')\n",
    "fig.suptitle('Relationship between Change and RHR (same month)')\n",
    "\n",
    "# plotting the regression line with the help of our calculated intercept and slope variables\n",
    "ax.plot(x, x*rhr_slope+intercept, '-', color='darkorchid', linewidth=2);\n",
    "ax.set_xlabel(\"Change (in distance, time, activities)\");\n",
    "ax.set_ylabel(\"RHR same month\");"
   ]
  },
  {
   "cell_type": "markdown",
   "metadata": {},
   "source": [
    "##### Checking Significance (Change & RHR)"
   ]
  },
  {
   "cell_type": "markdown",
   "metadata": {},
   "source": [
    "###### Checking Normality"
   ]
  },
  {
   "cell_type": "code",
   "execution_count": 62,
   "metadata": {},
   "outputs": [
    {
     "name": "stdout",
     "output_type": "stream",
     "text": [
      "Shapiro-Wilk p-value (change coeff): 9.666084815707971e-06\n",
      "Shapiro-Wilk p-value (rhr): 0.6110842157456045\n",
      "change coeff is not normally distributed\n",
      "rhr is normally distributed\n"
     ]
    }
   ],
   "source": [
    "import scipy.stats as stats\n",
    "\n",
    "# Shapiro-Wilk test\n",
    "# _ is a throwaway variable we are not really interested in this value \n",
    "# but rather only the p-value\n",
    "_, p_change_coeff = stats.shapiro(df_months['change coeff'])  \n",
    "_, p_rhr = stats.shapiro(df_months['rhr'])\n",
    "print(f'Shapiro-Wilk p-value (change coeff): {p_change_coeff}')\n",
    "print(f'Shapiro-Wilk p-value (rhr): {p_rhr}')\n",
    "\n",
    "print(\"change coeff is not normally distributed\")\n",
    "print(\"rhr is normally distributed\")\n"
   ]
  },
  {
   "cell_type": "markdown",
   "metadata": {},
   "source": [
    "###### Checking Significance"
   ]
  },
  {
   "cell_type": "code",
   "execution_count": 63,
   "metadata": {},
   "outputs": [
    {
     "name": "stdout",
     "output_type": "stream",
     "text": [
      "Spearman correlation: 0.5813265082926448, p-value: 0.00020075519207964066\n"
     ]
    }
   ],
   "source": [
    "from scipy.stats import spearmanr\n",
    "\n",
    "corr, p_value = spearmanr(df_months['change coeff'], df_months['rhr'])\n",
    "print(f\"Spearman correlation: {corr}, p-value: {p_value}\")"
   ]
  }
 ],
 "metadata": {
  "kernelspec": {
   "display_name": "base",
   "language": "python",
   "name": "python3"
  },
  "language_info": {
   "codemirror_mode": {
    "name": "ipython",
    "version": 3
   },
   "file_extension": ".py",
   "mimetype": "text/x-python",
   "name": "python",
   "nbconvert_exporter": "python",
   "pygments_lexer": "ipython3",
   "version": "3.9.20"
  }
 },
 "nbformat": 4,
 "nbformat_minor": 2
}
